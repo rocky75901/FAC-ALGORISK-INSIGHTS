{
 "cells": [
  {
   "cell_type": "code",
   "execution_count": 1,
   "metadata": {},
   "outputs": [
    {
     "name": "stdout",
     "output_type": "stream",
     "text": [
      "Requirement already satisfied: yfinance in c:\\users\\rakes\\anaconda3\\lib\\site-packages (0.2.38)\n",
      "Requirement already satisfied: pandas>=1.3.0 in c:\\users\\rakes\\anaconda3\\lib\\site-packages (from yfinance) (2.1.4)\n",
      "Requirement already satisfied: numpy>=1.16.5 in c:\\users\\rakes\\anaconda3\\lib\\site-packages (from yfinance) (1.26.4)\n",
      "Requirement already satisfied: requests>=2.31 in c:\\users\\rakes\\anaconda3\\lib\\site-packages (from yfinance) (2.31.0)\n",
      "Requirement already satisfied: multitasking>=0.0.7 in c:\\users\\rakes\\anaconda3\\lib\\site-packages (from yfinance) (0.0.11)\n",
      "Requirement already satisfied: lxml>=4.9.1 in c:\\users\\rakes\\anaconda3\\lib\\site-packages (from yfinance) (4.9.3)\n",
      "Requirement already satisfied: appdirs>=1.4.4 in c:\\users\\rakes\\anaconda3\\lib\\site-packages (from yfinance) (1.4.4)\n",
      "Requirement already satisfied: pytz>=2022.5 in c:\\users\\rakes\\anaconda3\\lib\\site-packages (from yfinance) (2023.3.post1)\n",
      "Requirement already satisfied: frozendict>=2.3.4 in c:\\users\\rakes\\anaconda3\\lib\\site-packages (from yfinance) (2.4.4)\n",
      "Requirement already satisfied: peewee>=3.16.2 in c:\\users\\rakes\\anaconda3\\lib\\site-packages (from yfinance) (3.17.3)\n",
      "Requirement already satisfied: beautifulsoup4>=4.11.1 in c:\\users\\rakes\\anaconda3\\lib\\site-packages (from yfinance) (4.12.2)\n",
      "Requirement already satisfied: html5lib>=1.1 in c:\\users\\rakes\\anaconda3\\lib\\site-packages (from yfinance) (1.1)\n",
      "Requirement already satisfied: soupsieve>1.2 in c:\\users\\rakes\\anaconda3\\lib\\site-packages (from beautifulsoup4>=4.11.1->yfinance) (2.5)\n",
      "Requirement already satisfied: six>=1.9 in c:\\users\\rakes\\anaconda3\\lib\\site-packages (from html5lib>=1.1->yfinance) (1.16.0)\n",
      "Requirement already satisfied: webencodings in c:\\users\\rakes\\anaconda3\\lib\\site-packages (from html5lib>=1.1->yfinance) (0.5.1)\n",
      "Requirement already satisfied: python-dateutil>=2.8.2 in c:\\users\\rakes\\anaconda3\\lib\\site-packages (from pandas>=1.3.0->yfinance) (2.8.2)\n",
      "Requirement already satisfied: tzdata>=2022.1 in c:\\users\\rakes\\anaconda3\\lib\\site-packages (from pandas>=1.3.0->yfinance) (2023.3)\n",
      "Requirement already satisfied: charset-normalizer<4,>=2 in c:\\users\\rakes\\anaconda3\\lib\\site-packages (from requests>=2.31->yfinance) (2.0.4)\n",
      "Requirement already satisfied: idna<4,>=2.5 in c:\\users\\rakes\\anaconda3\\lib\\site-packages (from requests>=2.31->yfinance) (3.4)\n",
      "Requirement already satisfied: urllib3<3,>=1.21.1 in c:\\users\\rakes\\anaconda3\\lib\\site-packages (from requests>=2.31->yfinance) (2.0.7)\n",
      "Requirement already satisfied: certifi>=2017.4.17 in c:\\users\\rakes\\anaconda3\\lib\\site-packages (from requests>=2.31->yfinance) (2024.2.2)\n"
     ]
    }
   ],
   "source": [
    "!pip install yfinance"
   ]
  },
  {
   "cell_type": "code",
   "execution_count": 3,
   "metadata": {},
   "outputs": [],
   "source": [
    "import yfinance as yf\n",
    "import pandas as pd\n",
    "import numpy as np\n",
    "import matplotlib.pyplot as plt"
   ]
  },
  {
   "cell_type": "code",
   "execution_count": 12,
   "metadata": {},
   "outputs": [
    {
     "name": "stderr",
     "output_type": "stream",
     "text": [
      "[*********************100%%**********************]  1 of 1 completed"
     ]
    },
    {
     "name": "stderr",
     "output_type": "stream",
     "text": [
      "\n"
     ]
    }
   ],
   "source": [
    "data=yf.download(\"WIPRO.NS\",start=\"2023-04-01\",end=\"2024-03-31\")\n",
    "df=pd.DataFrame(data)\n",
    "arrc=[0]*len(df)\n",
    "arrh=[0]*len(df)\n",
    "arrl=[0]*len(df)\n",
    "arro=[0]*len(df)\n"
   ]
  },
  {
   "cell_type": "code",
   "execution_count": 19,
   "metadata": {},
   "outputs": [],
   "source": [
    "arrc=0.25*(df[\"Close\"]+df[\"Open\"]+df[\"High\"]+df[\"Low\"])\n",
    "x=len(df)\n",
    "df2=pd.DataFrame()\n",
    "df2[\"Close\"]=0.25*(df[\"Close\"]+df[\"Open\"]+df[\"High\"]+df[\"Low\"])\n",
    "df2[\"Open\"]=0\n",
    "df2[\"High\"]=0\n",
    "df2[\"Low\"]=0\n",
    "def max(a,b):\n",
    "    if(a>=b):\n",
    "        return a\n",
    "    else:\n",
    "        return b\n",
    "def min(a,b):\n",
    "    if(a<=b):\n",
    "        return a\n",
    "    else:\n",
    "        return b\n",
    "    "
   ]
  },
  {
   "cell_type": "code",
   "execution_count": 20,
   "metadata": {},
   "outputs": [
    {
     "name": "stderr",
     "output_type": "stream",
     "text": [
      "C:\\Users\\rakes\\AppData\\Local\\Temp\\ipykernel_28156\\2516387315.py:2: FutureWarning: Series.__getitem__ treating keys as positions is deprecated. In a future version, integer keys will always be treated as labels (consistent with DataFrame behavior). To access a value by position, use `ser.iloc[pos]`\n",
      "  df2[\"Open\"][index]=0.5*(df[\"Close\"][index-1]+df[\"Open\"][index-1])\n",
      "C:\\Users\\rakes\\AppData\\Local\\Temp\\ipykernel_28156\\2516387315.py:2: SettingWithCopyWarning: \n",
      "A value is trying to be set on a copy of a slice from a DataFrame\n",
      "\n",
      "See the caveats in the documentation: https://pandas.pydata.org/pandas-docs/stable/user_guide/indexing.html#returning-a-view-versus-a-copy\n",
      "  df2[\"Open\"][index]=0.5*(df[\"Close\"][index-1]+df[\"Open\"][index-1])\n",
      "C:\\Users\\rakes\\AppData\\Local\\Temp\\ipykernel_28156\\2516387315.py:2: FutureWarning: Series.__setitem__ treating keys as positions is deprecated. In a future version, integer keys will always be treated as labels (consistent with DataFrame behavior). To set a value by position, use `ser.iloc[pos] = value`\n",
      "  df2[\"Open\"][index]=0.5*(df[\"Close\"][index-1]+df[\"Open\"][index-1])\n",
      "C:\\Users\\rakes\\AppData\\Local\\Temp\\ipykernel_28156\\2516387315.py:2: FutureWarning: Setting an item of incompatible dtype is deprecated and will raise in a future error of pandas. Value '478.40000915527344' has dtype incompatible with int64, please explicitly cast to a compatible dtype first.\n",
      "  df2[\"Open\"][index]=0.5*(df[\"Close\"][index-1]+df[\"Open\"][index-1])\n",
      "C:\\Users\\rakes\\AppData\\Local\\Temp\\ipykernel_28156\\2516387315.py:2: FutureWarning: Series.__getitem__ treating keys as positions is deprecated. In a future version, integer keys will always be treated as labels (consistent with DataFrame behavior). To access a value by position, use `ser.iloc[pos]`\n",
      "  df2[\"Open\"][index]=0.5*(df[\"Close\"][index-1]+df[\"Open\"][index-1])\n",
      "C:\\Users\\rakes\\AppData\\Local\\Temp\\ipykernel_28156\\2516387315.py:4: FutureWarning: Series.__getitem__ treating keys as positions is deprecated. In a future version, integer keys will always be treated as labels (consistent with DataFrame behavior). To access a value by position, use `ser.iloc[pos]`\n",
      "  df2[\"High\"][index]=max(max(df2[\"Close\"][index],df2[\"Open\"][index]),df[\"High\"][index])\n",
      "C:\\Users\\rakes\\AppData\\Local\\Temp\\ipykernel_28156\\2516387315.py:4: SettingWithCopyWarning: \n",
      "A value is trying to be set on a copy of a slice from a DataFrame\n",
      "\n",
      "See the caveats in the documentation: https://pandas.pydata.org/pandas-docs/stable/user_guide/indexing.html#returning-a-view-versus-a-copy\n",
      "  df2[\"High\"][index]=max(max(df2[\"Close\"][index],df2[\"Open\"][index]),df[\"High\"][index])\n",
      "C:\\Users\\rakes\\AppData\\Local\\Temp\\ipykernel_28156\\2516387315.py:4: FutureWarning: Series.__setitem__ treating keys as positions is deprecated. In a future version, integer keys will always be treated as labels (consistent with DataFrame behavior). To set a value by position, use `ser.iloc[pos] = value`\n",
      "  df2[\"High\"][index]=max(max(df2[\"Close\"][index],df2[\"Open\"][index]),df[\"High\"][index])\n",
      "C:\\Users\\rakes\\AppData\\Local\\Temp\\ipykernel_28156\\2516387315.py:4: FutureWarning: Setting an item of incompatible dtype is deprecated and will raise in a future error of pandas. Value '478.40000915527344' has dtype incompatible with int64, please explicitly cast to a compatible dtype first.\n",
      "  df2[\"High\"][index]=max(max(df2[\"Close\"][index],df2[\"Open\"][index]),df[\"High\"][index])\n",
      "C:\\Users\\rakes\\AppData\\Local\\Temp\\ipykernel_28156\\2516387315.py:5: FutureWarning: Series.__getitem__ treating keys as positions is deprecated. In a future version, integer keys will always be treated as labels (consistent with DataFrame behavior). To access a value by position, use `ser.iloc[pos]`\n",
      "  df2[\"Low\"][index]=min(min(df2[\"Close\"][index],df2[\"Open\"][index]),df[\"Low\"][index])\n",
      "C:\\Users\\rakes\\AppData\\Local\\Temp\\ipykernel_28156\\2516387315.py:5: SettingWithCopyWarning: \n",
      "A value is trying to be set on a copy of a slice from a DataFrame\n",
      "\n",
      "See the caveats in the documentation: https://pandas.pydata.org/pandas-docs/stable/user_guide/indexing.html#returning-a-view-versus-a-copy\n",
      "  df2[\"Low\"][index]=min(min(df2[\"Close\"][index],df2[\"Open\"][index]),df[\"Low\"][index])\n",
      "C:\\Users\\rakes\\AppData\\Local\\Temp\\ipykernel_28156\\2516387315.py:5: FutureWarning: Series.__setitem__ treating keys as positions is deprecated. In a future version, integer keys will always be treated as labels (consistent with DataFrame behavior). To set a value by position, use `ser.iloc[pos] = value`\n",
      "  df2[\"Low\"][index]=min(min(df2[\"Close\"][index],df2[\"Open\"][index]),df[\"Low\"][index])\n",
      "C:\\Users\\rakes\\AppData\\Local\\Temp\\ipykernel_28156\\2516387315.py:5: FutureWarning: Setting an item of incompatible dtype is deprecated and will raise in a future error of pandas. Value '365.1499938964844' has dtype incompatible with int64, please explicitly cast to a compatible dtype first.\n",
      "  df2[\"Low\"][index]=min(min(df2[\"Close\"][index],df2[\"Open\"][index]),df[\"Low\"][index])\n",
      "C:\\Users\\rakes\\AppData\\Local\\Temp\\ipykernel_28156\\2516387315.py:4: FutureWarning: Series.__getitem__ treating keys as positions is deprecated. In a future version, integer keys will always be treated as labels (consistent with DataFrame behavior). To access a value by position, use `ser.iloc[pos]`\n",
      "  df2[\"High\"][index]=max(max(df2[\"Close\"][index],df2[\"Open\"][index]),df[\"High\"][index])\n",
      "C:\\Users\\rakes\\AppData\\Local\\Temp\\ipykernel_28156\\2516387315.py:4: FutureWarning: Series.__setitem__ treating keys as positions is deprecated. In a future version, integer keys will always be treated as labels (consistent with DataFrame behavior). To set a value by position, use `ser.iloc[pos] = value`\n",
      "  df2[\"High\"][index]=max(max(df2[\"Close\"][index],df2[\"Open\"][index]),df[\"High\"][index])\n",
      "C:\\Users\\rakes\\AppData\\Local\\Temp\\ipykernel_28156\\2516387315.py:5: FutureWarning: Series.__getitem__ treating keys as positions is deprecated. In a future version, integer keys will always be treated as labels (consistent with DataFrame behavior). To access a value by position, use `ser.iloc[pos]`\n",
      "  df2[\"Low\"][index]=min(min(df2[\"Close\"][index],df2[\"Open\"][index]),df[\"Low\"][index])\n"
     ]
    }
   ],
   "source": [
    "for index in range(0,x):\n",
    "    df2[\"Open\"][index]=0.5*(df[\"Close\"][index-1]+df[\"Open\"][index-1])\n",
    "for index in range(0,x):   \n",
    "     df2[\"High\"][index]=max(max(df2[\"Close\"][index],df2[\"Open\"][index]),df[\"High\"][index])\n",
    "     df2[\"Low\"][index]=min(min(df2[\"Close\"][index],df2[\"Open\"][index]),df[\"Low\"][index])"
   ]
  },
  {
   "cell_type": "code",
   "execution_count": 21,
   "metadata": {},
   "outputs": [
    {
     "data": {
      "text/html": [
       "<div>\n",
       "<style scoped>\n",
       "    .dataframe tbody tr th:only-of-type {\n",
       "        vertical-align: middle;\n",
       "    }\n",
       "\n",
       "    .dataframe tbody tr th {\n",
       "        vertical-align: top;\n",
       "    }\n",
       "\n",
       "    .dataframe thead th {\n",
       "        text-align: right;\n",
       "    }\n",
       "</style>\n",
       "<table border=\"1\" class=\"dataframe\">\n",
       "  <thead>\n",
       "    <tr style=\"text-align: right;\">\n",
       "      <th></th>\n",
       "      <th>Close</th>\n",
       "      <th>Open</th>\n",
       "      <th>High</th>\n",
       "      <th>Low</th>\n",
       "    </tr>\n",
       "    <tr>\n",
       "      <th>Date</th>\n",
       "      <th></th>\n",
       "      <th></th>\n",
       "      <th></th>\n",
       "      <th></th>\n",
       "    </tr>\n",
       "  </thead>\n",
       "  <tbody>\n",
       "    <tr>\n",
       "      <th>2023-04-03</th>\n",
       "      <td>367.362503</td>\n",
       "      <td>478.400009</td>\n",
       "      <td>478.400009</td>\n",
       "      <td>365.149994</td>\n",
       "    </tr>\n",
       "    <tr>\n",
       "      <th>2023-04-05</th>\n",
       "      <td>369.637505</td>\n",
       "      <td>367.950012</td>\n",
       "      <td>371.899994</td>\n",
       "      <td>367.200012</td>\n",
       "    </tr>\n",
       "    <tr>\n",
       "      <th>2023-04-06</th>\n",
       "      <td>367.987503</td>\n",
       "      <td>369.725006</td>\n",
       "      <td>370.450012</td>\n",
       "      <td>365.850006</td>\n",
       "    </tr>\n",
       "    <tr>\n",
       "      <th>2023-04-10</th>\n",
       "      <td>370.824997</td>\n",
       "      <td>367.824997</td>\n",
       "      <td>374.399994</td>\n",
       "      <td>367.600006</td>\n",
       "    </tr>\n",
       "    <tr>\n",
       "      <th>2023-04-11</th>\n",
       "      <td>371.800003</td>\n",
       "      <td>370.649994</td>\n",
       "      <td>374.850006</td>\n",
       "      <td>368.600006</td>\n",
       "    </tr>\n",
       "    <tr>\n",
       "      <th>...</th>\n",
       "      <td>...</td>\n",
       "      <td>...</td>\n",
       "      <td>...</td>\n",
       "      <td>...</td>\n",
       "    </tr>\n",
       "    <tr>\n",
       "      <th>2024-03-21</th>\n",
       "      <td>500.962502</td>\n",
       "      <td>494.774994</td>\n",
       "      <td>505.299988</td>\n",
       "      <td>494.774994</td>\n",
       "    </tr>\n",
       "    <tr>\n",
       "      <th>2024-03-22</th>\n",
       "      <td>486.662498</td>\n",
       "      <td>500.050003</td>\n",
       "      <td>500.050003</td>\n",
       "      <td>479.549988</td>\n",
       "    </tr>\n",
       "    <tr>\n",
       "      <th>2024-03-26</th>\n",
       "      <td>483.962502</td>\n",
       "      <td>488.175003</td>\n",
       "      <td>490.950012</td>\n",
       "      <td>479.049988</td>\n",
       "    </tr>\n",
       "    <tr>\n",
       "      <th>2024-03-27</th>\n",
       "      <td>476.050003</td>\n",
       "      <td>482.925003</td>\n",
       "      <td>482.925003</td>\n",
       "      <td>471.250000</td>\n",
       "    </tr>\n",
       "    <tr>\n",
       "      <th>2024-03-28</th>\n",
       "      <td>478.787498</td>\n",
       "      <td>476.000000</td>\n",
       "      <td>483.049988</td>\n",
       "      <td>475.299988</td>\n",
       "    </tr>\n",
       "  </tbody>\n",
       "</table>\n",
       "<p>243 rows × 4 columns</p>\n",
       "</div>"
      ],
      "text/plain": [
       "                 Close        Open        High         Low\n",
       "Date                                                      \n",
       "2023-04-03  367.362503  478.400009  478.400009  365.149994\n",
       "2023-04-05  369.637505  367.950012  371.899994  367.200012\n",
       "2023-04-06  367.987503  369.725006  370.450012  365.850006\n",
       "2023-04-10  370.824997  367.824997  374.399994  367.600006\n",
       "2023-04-11  371.800003  370.649994  374.850006  368.600006\n",
       "...                ...         ...         ...         ...\n",
       "2024-03-21  500.962502  494.774994  505.299988  494.774994\n",
       "2024-03-22  486.662498  500.050003  500.050003  479.549988\n",
       "2024-03-26  483.962502  488.175003  490.950012  479.049988\n",
       "2024-03-27  476.050003  482.925003  482.925003  471.250000\n",
       "2024-03-28  478.787498  476.000000  483.049988  475.299988\n",
       "\n",
       "[243 rows x 4 columns]"
      ]
     },
     "execution_count": 21,
     "metadata": {},
     "output_type": "execute_result"
    }
   ],
   "source": [
    "df2"
   ]
  },
  {
   "cell_type": "code",
   "execution_count": null,
   "metadata": {},
   "outputs": [],
   "source": []
  }
 ],
 "metadata": {
  "kernelspec": {
   "display_name": "Python 3",
   "language": "python",
   "name": "python3"
  },
  "language_info": {
   "codemirror_mode": {
    "name": "ipython",
    "version": 3
   },
   "file_extension": ".py",
   "mimetype": "text/x-python",
   "name": "python",
   "nbconvert_exporter": "python",
   "pygments_lexer": "ipython3",
   "version": "3.11.7"
  }
 },
 "nbformat": 4,
 "nbformat_minor": 2
}
