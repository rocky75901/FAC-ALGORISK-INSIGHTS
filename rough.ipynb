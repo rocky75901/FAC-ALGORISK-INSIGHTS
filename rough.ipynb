{
 "cells": [
  {
   "cell_type": "code",
   "execution_count": null,
   "metadata": {},
   "outputs": [],
   "source": [
    "import matplotlib.pyplot as plt\n",
    "\n",
    "# Create a figure and axis\n",
    "fig, ax = plt.subplots(figsize=(8, 4))\n",
    "\n",
    "# Add the main equation\n",
    "equation_main = r\"$\\min_{\\mathbf{w}} \\mathbf{w}^T \\Sigma \\mathbf{w}$\"\n",
    "ax.text(0.5, 0.8, equation_main, horizontalalignment='center', fontsize=16)\n",
    "\n",
    "# Add the subject to constraints\n",
    "subject_to = r\"subject to:\"\n",
    "constraint1 = r\"$\\mathbf{w}^T \\mathbf{r} = R_t$\"\n",
    "constraint2 = r\"$\\mathbf{w}^T \\mathbf{1} = 1$\"\n",
    "ax.text(0.5, 0.6, subject_to, horizontalalignment='center', fontsize=14)\n",
    "ax.text(0.5, 0.5, constraint1, horizontalalignment='center', fontsize=14)\n",
    "ax.text(0.5, 0.4, constraint2, horizontalalignment='center', fontsize=14)\n",
    "\n",
    "# Add additional information\n",
    "info = (r\"where $\\mathbf{w}$ is the vector of asset weights, \"\n",
    "        r\"$\\Sigma$ is the covariance matrix of asset returns, \"\n",
    "        r\"$\\mathbf{r}$ is the vector of expected returns, \"\n",
    "        r\"$R_t$ is the target return, and \"\n",
    "        r\"$\\mathbf{1}$ is a vector of ones.\")\n",
    "ax.text(0.5, 0.2, info, horizontalalignment='center', fontsize=10, wrap=True)\n",
    "\n",
    "# Remove the axes\n",
    "ax.axis('off')\n",
    "\n",
    "# Save the figure\n",
    "plt.savefig('/mnt/data/optimization_problem.png')\n",
    "\n",
    "# Show the plot\n",
    "plt.show()\n"
   ]
  },
  {
   "cell_type": "code",
   "execution_count": null,
   "metadata": {},
   "outputs": [],
   "source": []
  }
 ],
 "metadata": {
  "kernelspec": {
   "display_name": "Python 3",
   "language": "python",
   "name": "python3"
  },
  "language_info": {
   "codemirror_mode": {
    "name": "ipython",
    "version": 3
   },
   "file_extension": ".py",
   "mimetype": "text/x-python",
   "name": "python",
   "nbconvert_exporter": "python",
   "pygments_lexer": "ipython3",
   "version": "3.11.7"
  }
 },
 "nbformat": 4,
 "nbformat_minor": 2
}
