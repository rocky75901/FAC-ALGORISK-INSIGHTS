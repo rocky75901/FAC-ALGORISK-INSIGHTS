{
 "cells": [
  {
   "cell_type": "code",
   "execution_count": 261,
   "metadata": {},
   "outputs": [
    {
     "name": "stdout",
     "output_type": "stream",
     "text": [
      "Requirement already satisfied: yfinance in c:\\users\\rakes\\anaconda3\\lib\\site-packages (0.2.38)\n",
      "Requirement already satisfied: pandas>=1.3.0 in c:\\users\\rakes\\anaconda3\\lib\\site-packages (from yfinance) (2.1.4)\n",
      "Requirement already satisfied: numpy>=1.16.5 in c:\\users\\rakes\\anaconda3\\lib\\site-packages (from yfinance) (1.26.4)\n",
      "Requirement already satisfied: requests>=2.31 in c:\\users\\rakes\\anaconda3\\lib\\site-packages (from yfinance) (2.31.0)\n",
      "Requirement already satisfied: multitasking>=0.0.7 in c:\\users\\rakes\\anaconda3\\lib\\site-packages (from yfinance) (0.0.11)\n",
      "Requirement already satisfied: lxml>=4.9.1 in c:\\users\\rakes\\anaconda3\\lib\\site-packages (from yfinance) (4.9.3)\n",
      "Requirement already satisfied: appdirs>=1.4.4 in c:\\users\\rakes\\anaconda3\\lib\\site-packages (from yfinance) (1.4.4)\n",
      "Requirement already satisfied: pytz>=2022.5 in c:\\users\\rakes\\anaconda3\\lib\\site-packages (from yfinance) (2023.3.post1)\n",
      "Requirement already satisfied: frozendict>=2.3.4 in c:\\users\\rakes\\anaconda3\\lib\\site-packages (from yfinance) (2.4.4)\n",
      "Requirement already satisfied: peewee>=3.16.2 in c:\\users\\rakes\\anaconda3\\lib\\site-packages (from yfinance) (3.17.3)\n",
      "Requirement already satisfied: beautifulsoup4>=4.11.1 in c:\\users\\rakes\\anaconda3\\lib\\site-packages (from yfinance) (4.12.2)\n",
      "Requirement already satisfied: html5lib>=1.1 in c:\\users\\rakes\\anaconda3\\lib\\site-packages (from yfinance) (1.1)\n",
      "Requirement already satisfied: soupsieve>1.2 in c:\\users\\rakes\\anaconda3\\lib\\site-packages (from beautifulsoup4>=4.11.1->yfinance) (2.5)\n",
      "Requirement already satisfied: six>=1.9 in c:\\users\\rakes\\anaconda3\\lib\\site-packages (from html5lib>=1.1->yfinance) (1.16.0)\n",
      "Requirement already satisfied: webencodings in c:\\users\\rakes\\anaconda3\\lib\\site-packages (from html5lib>=1.1->yfinance) (0.5.1)\n",
      "Requirement already satisfied: python-dateutil>=2.8.2 in c:\\users\\rakes\\anaconda3\\lib\\site-packages (from pandas>=1.3.0->yfinance) (2.8.2)\n",
      "Requirement already satisfied: tzdata>=2022.1 in c:\\users\\rakes\\anaconda3\\lib\\site-packages (from pandas>=1.3.0->yfinance) (2023.3)\n",
      "Requirement already satisfied: charset-normalizer<4,>=2 in c:\\users\\rakes\\anaconda3\\lib\\site-packages (from requests>=2.31->yfinance) (2.0.4)\n",
      "Requirement already satisfied: idna<4,>=2.5 in c:\\users\\rakes\\anaconda3\\lib\\site-packages (from requests>=2.31->yfinance) (3.4)\n",
      "Requirement already satisfied: urllib3<3,>=1.21.1 in c:\\users\\rakes\\anaconda3\\lib\\site-packages (from requests>=2.31->yfinance) (2.0.7)\n",
      "Requirement already satisfied: certifi>=2017.4.17 in c:\\users\\rakes\\anaconda3\\lib\\site-packages (from requests>=2.31->yfinance) (2024.2.2)\n",
      "Requirement already satisfied: statsmodels in c:\\users\\rakes\\anaconda3\\lib\\site-packages (0.14.0)\n",
      "Requirement already satisfied: numpy>=1.18 in c:\\users\\rakes\\anaconda3\\lib\\site-packages (from statsmodels) (1.26.4)\n",
      "Requirement already satisfied: scipy!=1.9.2,>=1.4 in c:\\users\\rakes\\anaconda3\\lib\\site-packages (from statsmodels) (1.11.4)\n",
      "Requirement already satisfied: pandas>=1.0 in c:\\users\\rakes\\anaconda3\\lib\\site-packages (from statsmodels) (2.1.4)\n",
      "Requirement already satisfied: patsy>=0.5.2 in c:\\users\\rakes\\anaconda3\\lib\\site-packages (from statsmodels) (0.5.3)\n",
      "Requirement already satisfied: packaging>=21.3 in c:\\users\\rakes\\anaconda3\\lib\\site-packages (from statsmodels) (23.1)\n",
      "Requirement already satisfied: python-dateutil>=2.8.2 in c:\\users\\rakes\\anaconda3\\lib\\site-packages (from pandas>=1.0->statsmodels) (2.8.2)\n",
      "Requirement already satisfied: pytz>=2020.1 in c:\\users\\rakes\\anaconda3\\lib\\site-packages (from pandas>=1.0->statsmodels) (2023.3.post1)\n",
      "Requirement already satisfied: tzdata>=2022.1 in c:\\users\\rakes\\anaconda3\\lib\\site-packages (from pandas>=1.0->statsmodels) (2023.3)\n",
      "Requirement already satisfied: six in c:\\users\\rakes\\anaconda3\\lib\\site-packages (from patsy>=0.5.2->statsmodels) (1.16.0)\n"
     ]
    }
   ],
   "source": [
    "!pip install yfinance\n",
    "!pip install statsmodels"
   ]
  },
  {
   "cell_type": "code",
   "execution_count": 262,
   "metadata": {},
   "outputs": [],
   "source": [
    "import yfinance as yf\n",
    "import numpy as np\n",
    "import pandas as pd\n",
    "import matplotlib.pyplot as plt\n",
    "import warnings\n",
    "warnings.filterwarnings('ignore')"
   ]
  },
  {
   "cell_type": "code",
   "execution_count": 263,
   "metadata": {},
   "outputs": [
    {
     "name": "stderr",
     "output_type": "stream",
     "text": [
      "[*********************100%%**********************]  1 of 1 completed\n",
      "[*********************100%%**********************]  1 of 1 completed\n",
      "[*********************100%%**********************]  1 of 1 completed\n",
      "[*********************100%%**********************]  1 of 1 completed\n",
      "[*********************100%%**********************]  1 of 1 completed\n"
     ]
    }
   ],
   "source": [
    "#Stocks Tickers are\n",
    "\n",
    "tickers_array=[\"MARUTI.NS\",\"TCS.NS\",\"WIPRO.NS\",\"TATASTEEL.NS\",\"ITC.NS\"]\n",
    "beta_array=[0]*5\n",
    "df1=pd.DataFrame(yf.download(tickers_array[0],start=\"2022-06-04\",end=\"2024-06-04\",period=\"1d\"))\n",
    "df2=pd.DataFrame(yf.download(tickers_array[1],start=\"2022-06-04\",end=\"2024-06-04\",period=\"1d\"))\n",
    "df3=pd.DataFrame(yf.download(tickers_array[2],start=\"2022-06-04\",end=\"2024-06-04\",period=\"1d\"))\n",
    "df4=pd.DataFrame(yf.download(tickers_array[3],start=\"2022-06-04\",end=\"2024-06-04\",period=\"1d\"))\n",
    "df5=pd.DataFrame(yf.download(tickers_array[4],start=\"2022-06-04\",end=\"2024-06-04\",period=\"1d\"))"
   ]
  },
  {
   "cell_type": "code",
   "execution_count": 264,
   "metadata": {},
   "outputs": [],
   "source": [
    "def beta(ticker):\n",
    "    tickers=[ticker,\"^NSEI\"]\n",
    "    data=pd.DataFrame()\n",
    "    for t in tickers:\n",
    "        data[t]=yf.download(t,start=\"2022-06-04\",end=\"2024-06-04\",period=\"1d\")[\"Close\"]\n",
    "    returns=np.log(data/data.shift(1))\n",
    "    market_var=returns[\"^NSEI\"].var()\n",
    "    cov=returns.cov()\n",
    "    cov\n",
    "    beta=cov.iloc[1,0]/market_var\n",
    "    return beta\n"
   ]
  },
  {
   "cell_type": "markdown",
   "metadata": {},
   "source": [
    "Selected Time Period = 2 Years to analyse how the stock Performed in Last 2 Years and assuming similar trends for the coming year. 5 Years is a too long timeframe to assume and we cannot predict that the stock will perform like before giving high returns."
   ]
  },
  {
   "cell_type": "code",
   "execution_count": 265,
   "metadata": {},
   "outputs": [
    {
     "name": "stderr",
     "output_type": "stream",
     "text": [
      "[*********************100%%**********************]  1 of 1 completed\n",
      "[*********************100%%**********************]  1 of 1 completed\n",
      "[*********************100%%**********************]  1 of 1 completed\n",
      "[*********************100%%**********************]  1 of 1 completed\n",
      "[*********************100%%**********************]  1 of 1 completed\n",
      "[*********************100%%**********************]  1 of 1 completed\n",
      "[*********************100%%**********************]  1 of 1 completed\n",
      "[*********************100%%**********************]  1 of 1 completed\n",
      "[*********************100%%**********************]  1 of 1 completed\n",
      "[*********************100%%**********************]  1 of 1 completed\n"
     ]
    },
    {
     "data": {
      "text/plain": [
       "[0.7052111154833077,\n",
       " 0.9091559133335727,\n",
       " 1.1365812619251838,\n",
       " 1.369485456609375,\n",
       " 0.6567898178223175]"
      ]
     },
     "execution_count": 265,
     "metadata": {},
     "output_type": "execute_result"
    }
   ],
   "source": [
    "for i in range(0,5):\n",
    "    beta_array[i]=beta(tickers_array[i])\n",
    "beta_array"
   ]
  },
  {
   "cell_type": "code",
   "execution_count": 266,
   "metadata": {},
   "outputs": [
    {
     "data": {
      "text/plain": [
       "[0.06793039258981826,\n",
       " 0.19615515766760394,\n",
       " 0.6295174661382197,\n",
       " 0.068014243469414,\n",
       " 0.03838274013494401]"
      ]
     },
     "execution_count": 266,
     "metadata": {},
     "output_type": "execute_result"
    }
   ],
   "source": [
    "# in billion INR\n",
    "market_cap=[48.608,140.36,450.455,48.668,27.465]\n",
    "weight_array=[0]*5\n",
    "for i in range(len(weight_array)):\n",
    "    weight_array[i]=market_cap[i]/sum(market_cap)\n",
    "weight_array"
   ]
  },
  {
   "cell_type": "code",
   "execution_count": 267,
   "metadata": {},
   "outputs": [
    {
     "name": "stdout",
     "output_type": "stream",
     "text": [
      "Weighted Average Beta is: 1.060092555699591\n"
     ]
    }
   ],
   "source": [
    "weighted_beta=0\n",
    "for i in range(len(beta_array)):\n",
    "    weighted_beta=weighted_beta+(weight_array[i]*beta_array[i])\n",
    "print(\"Weighted Average Beta is:\",weighted_beta)"
   ]
  },
  {
   "cell_type": "code",
   "execution_count": 268,
   "metadata": {},
   "outputs": [
    {
     "data": {
      "text/plain": [
       "[12.598526123394265,\n",
       " 14.208058468028558,\n",
       " 16.002899319113553,\n",
       " 17.840979223561188,\n",
       " 12.216385242253729]"
      ]
     },
     "execution_count": 268,
     "metadata": {},
     "output_type": "execute_result"
    }
   ],
   "source": [
    "rf=7.033  #India 10 Year Bond\n",
    "rm=14.925 #return of markets for previous 2 Years\n",
    "expected_returns=[0]*5\n",
    "for i in range(0,5):\n",
    "    expected_returns[i]=rf+beta_array[i]*(rm-rf)\n",
    "expected_returns"
   ]
  },
  {
   "cell_type": "code",
   "execution_count": 269,
   "metadata": {},
   "outputs": [
    {
     "name": "stdout",
     "output_type": "stream",
     "text": [
      "Expected Return of Portfolio is: 15.399250449581173\n"
     ]
    }
   ],
   "source": [
    "portfolio_returns=0\n",
    "for i in range(0,5):\n",
    "    portfolio_returns=portfolio_returns+(weight_array[i]*expected_returns[i])\n",
    "print(\"Expected Return of Portfolio is:\",portfolio_returns)"
   ]
  },
  {
   "cell_type": "code",
   "execution_count": 270,
   "metadata": {},
   "outputs": [
    {
     "name": "stderr",
     "output_type": "stream",
     "text": [
      "[*********************100%%**********************]  1 of 1 completed\n",
      "[*********************100%%**********************]  1 of 1 completed\n",
      "[*********************100%%**********************]  1 of 1 completed\n",
      "[*********************100%%**********************]  1 of 1 completed\n",
      "[*********************100%%**********************]  1 of 1 completed\n"
     ]
    }
   ],
   "source": [
    "df=pd.DataFrame()\n",
    "for ticker in tickers_array:\n",
    "    df2=yf.download(ticker,start=\"2022-06-04\",end=\"2024-06-04\",period=\"1d\")\n",
    "    df[ticker]=df2[\"Close\"]"
   ]
  },
  {
   "cell_type": "code",
   "execution_count": 271,
   "metadata": {},
   "outputs": [
    {
     "data": {
      "text/html": [
       "<div>\n",
       "<style scoped>\n",
       "    .dataframe tbody tr th:only-of-type {\n",
       "        vertical-align: middle;\n",
       "    }\n",
       "\n",
       "    .dataframe tbody tr th {\n",
       "        vertical-align: top;\n",
       "    }\n",
       "\n",
       "    .dataframe thead th {\n",
       "        text-align: right;\n",
       "    }\n",
       "</style>\n",
       "<table border=\"1\" class=\"dataframe\">\n",
       "  <thead>\n",
       "    <tr style=\"text-align: right;\">\n",
       "      <th></th>\n",
       "      <th>MARUTI.NS</th>\n",
       "      <th>TCS.NS</th>\n",
       "      <th>WIPRO.NS</th>\n",
       "      <th>TATASTEEL.NS</th>\n",
       "      <th>ITC.NS</th>\n",
       "    </tr>\n",
       "  </thead>\n",
       "  <tbody>\n",
       "    <tr>\n",
       "      <th>count</th>\n",
       "      <td>490.000000</td>\n",
       "      <td>490.000000</td>\n",
       "      <td>490.000000</td>\n",
       "      <td>490.000000</td>\n",
       "      <td>490.000000</td>\n",
       "    </tr>\n",
       "    <tr>\n",
       "      <th>mean</th>\n",
       "      <td>0.000982</td>\n",
       "      <td>0.000156</td>\n",
       "      <td>-0.000130</td>\n",
       "      <td>0.000980</td>\n",
       "      <td>0.000915</td>\n",
       "    </tr>\n",
       "    <tr>\n",
       "      <th>std</th>\n",
       "      <td>0.012367</td>\n",
       "      <td>0.012529</td>\n",
       "      <td>0.013934</td>\n",
       "      <td>0.017502</td>\n",
       "      <td>0.011558</td>\n",
       "    </tr>\n",
       "    <tr>\n",
       "      <th>min</th>\n",
       "      <td>-0.055960</td>\n",
       "      <td>-0.047554</td>\n",
       "      <td>-0.073345</td>\n",
       "      <td>-0.062183</td>\n",
       "      <td>-0.040769</td>\n",
       "    </tr>\n",
       "    <tr>\n",
       "      <th>25%</th>\n",
       "      <td>-0.006516</td>\n",
       "      <td>-0.006823</td>\n",
       "      <td>-0.007759</td>\n",
       "      <td>-0.006995</td>\n",
       "      <td>-0.005810</td>\n",
       "    </tr>\n",
       "    <tr>\n",
       "      <th>50%</th>\n",
       "      <td>0.000291</td>\n",
       "      <td>-0.000151</td>\n",
       "      <td>-0.000259</td>\n",
       "      <td>0.000876</td>\n",
       "      <td>0.001000</td>\n",
       "    </tr>\n",
       "    <tr>\n",
       "      <th>75%</th>\n",
       "      <td>0.007199</td>\n",
       "      <td>0.006961</td>\n",
       "      <td>0.007043</td>\n",
       "      <td>0.009940</td>\n",
       "      <td>0.008035</td>\n",
       "    </tr>\n",
       "    <tr>\n",
       "      <th>max</th>\n",
       "      <td>0.060846</td>\n",
       "      <td>0.051484</td>\n",
       "      <td>0.063926</td>\n",
       "      <td>0.069757</td>\n",
       "      <td>0.046495</td>\n",
       "    </tr>\n",
       "  </tbody>\n",
       "</table>\n",
       "</div>"
      ],
      "text/plain": [
       "        MARUTI.NS      TCS.NS    WIPRO.NS  TATASTEEL.NS      ITC.NS\n",
       "count  490.000000  490.000000  490.000000    490.000000  490.000000\n",
       "mean     0.000982    0.000156   -0.000130      0.000980    0.000915\n",
       "std      0.012367    0.012529    0.013934      0.017502    0.011558\n",
       "min     -0.055960   -0.047554   -0.073345     -0.062183   -0.040769\n",
       "25%     -0.006516   -0.006823   -0.007759     -0.006995   -0.005810\n",
       "50%      0.000291   -0.000151   -0.000259      0.000876    0.001000\n",
       "75%      0.007199    0.006961    0.007043      0.009940    0.008035\n",
       "max      0.060846    0.051484    0.063926      0.069757    0.046495"
      ]
     },
     "execution_count": 271,
     "metadata": {},
     "output_type": "execute_result"
    }
   ],
   "source": [
    "returns=np.log(df/df.shift(1))\n",
    "returns.dropna(inplace=True)\n",
    "returns.describe()\n"
   ]
  },
  {
   "cell_type": "code",
   "execution_count": 272,
   "metadata": {},
   "outputs": [
    {
     "data": {
      "text/html": [
       "<div>\n",
       "<style scoped>\n",
       "    .dataframe tbody tr th:only-of-type {\n",
       "        vertical-align: middle;\n",
       "    }\n",
       "\n",
       "    .dataframe tbody tr th {\n",
       "        vertical-align: top;\n",
       "    }\n",
       "\n",
       "    .dataframe thead th {\n",
       "        text-align: right;\n",
       "    }\n",
       "</style>\n",
       "<table border=\"1\" class=\"dataframe\">\n",
       "  <thead>\n",
       "    <tr style=\"text-align: right;\">\n",
       "      <th></th>\n",
       "      <th>MARUTI.NS</th>\n",
       "      <th>TCS.NS</th>\n",
       "      <th>WIPRO.NS</th>\n",
       "      <th>TATASTEEL.NS</th>\n",
       "      <th>ITC.NS</th>\n",
       "    </tr>\n",
       "  </thead>\n",
       "  <tbody>\n",
       "    <tr>\n",
       "      <th>MARUTI.NS</th>\n",
       "      <td>0.000153</td>\n",
       "      <td>0.000022</td>\n",
       "      <td>0.000032</td>\n",
       "      <td>0.000056</td>\n",
       "      <td>0.000033</td>\n",
       "    </tr>\n",
       "    <tr>\n",
       "      <th>TCS.NS</th>\n",
       "      <td>0.000022</td>\n",
       "      <td>0.000157</td>\n",
       "      <td>0.000111</td>\n",
       "      <td>0.000055</td>\n",
       "      <td>0.000017</td>\n",
       "    </tr>\n",
       "    <tr>\n",
       "      <th>WIPRO.NS</th>\n",
       "      <td>0.000032</td>\n",
       "      <td>0.000111</td>\n",
       "      <td>0.000194</td>\n",
       "      <td>0.000090</td>\n",
       "      <td>0.000032</td>\n",
       "    </tr>\n",
       "    <tr>\n",
       "      <th>TATASTEEL.NS</th>\n",
       "      <td>0.000056</td>\n",
       "      <td>0.000055</td>\n",
       "      <td>0.000090</td>\n",
       "      <td>0.000306</td>\n",
       "      <td>0.000045</td>\n",
       "    </tr>\n",
       "    <tr>\n",
       "      <th>ITC.NS</th>\n",
       "      <td>0.000033</td>\n",
       "      <td>0.000017</td>\n",
       "      <td>0.000032</td>\n",
       "      <td>0.000045</td>\n",
       "      <td>0.000134</td>\n",
       "    </tr>\n",
       "  </tbody>\n",
       "</table>\n",
       "</div>"
      ],
      "text/plain": [
       "              MARUTI.NS    TCS.NS  WIPRO.NS  TATASTEEL.NS    ITC.NS\n",
       "MARUTI.NS      0.000153  0.000022  0.000032      0.000056  0.000033\n",
       "TCS.NS         0.000022  0.000157  0.000111      0.000055  0.000017\n",
       "WIPRO.NS       0.000032  0.000111  0.000194      0.000090  0.000032\n",
       "TATASTEEL.NS   0.000056  0.000055  0.000090      0.000306  0.000045\n",
       "ITC.NS         0.000033  0.000017  0.000032      0.000045  0.000134"
      ]
     },
     "execution_count": 272,
     "metadata": {},
     "output_type": "execute_result"
    }
   ],
   "source": [
    "er=np.array(returns.describe().loc[\"mean\"])\n",
    "std=np.array(returns.describe().loc[\"std\"])\n",
    "varcov = returns.cov()\n",
    "varcov"
   ]
  },
  {
   "cell_type": "code",
   "execution_count": 273,
   "metadata": {},
   "outputs": [
    {
     "data": {
      "text/plain": [
       "array([ 1.26062525,  0.19719843, -0.14757059,  0.88870953,  1.25728351])"
      ]
     },
     "execution_count": 273,
     "metadata": {},
     "output_type": "execute_result"
    }
   ],
   "source": [
    "sharpe_ratio=np.array((252*returns.describe().loc[\"mean\"]-0)/(np.sqrt(252)*returns.describe().loc[\"std\"]))\n",
    "sharpe_ratio"
   ]
  },
  {
   "cell_type": "code",
   "execution_count": 274,
   "metadata": {},
   "outputs": [],
   "source": [
    "#Portfolio A\n",
    "c1 = 0\n",
    "weightA = np.linalg.inv(varcov)@(er-c1)/np.sum(np.linalg.inv(varcov)@(er-c1))\n",
    "ErA=weightA @ er  \n",
    "varA = weightA@varcov@weightA.T\n",
    "stdA=np.sqrt(varA)"
   ]
  },
  {
   "cell_type": "code",
   "execution_count": 275,
   "metadata": {},
   "outputs": [],
   "source": [
    "#Portfolio B\n",
    "c2 = 0.05\n",
    "weightB = np.linalg.inv(varcov)@(er-c2)/np.sum(np.linalg.inv(varcov)@(er-c2))\n",
    "ErB=weightB @ er  \n",
    "varB = weightB@varcov@weightB.T\n",
    "stdB=np.sqrt(varB)"
   ]
  },
  {
   "cell_type": "code",
   "execution_count": 276,
   "metadata": {},
   "outputs": [],
   "source": [
    "covAB = weightA@varcov@weightB.T\n",
    "wa=np.linspace(-0.7,1.5,100)\n",
    "wb=1-wa\n",
    "ErC = wa*ErA+wb*ErB\n",
    "stdC=np.sqrt((wa*stdA)**2+(wb*stdB)**2+2*wa*wb*covAB)"
   ]
  },
  {
   "cell_type": "code",
   "execution_count": 277,
   "metadata": {},
   "outputs": [
    {
     "data": {
      "text/plain": [
       "array([0.27815755, 0.28636064, 0.04238466, 0.04293072, 0.35016644])"
      ]
     },
     "execution_count": 277,
     "metadata": {},
     "output_type": "execute_result"
    }
   ],
   "source": [
    "unit_matrix = np.ones((varcov.shape[0]))\n",
    "min_portfolio_var= unit_matrix@np.linalg.inv(varcov)/(unit_matrix@np.linalg.inv(varcov)@unit_matrix.T)\n",
    "min_portfolio_var"
   ]
  },
  {
   "cell_type": "code",
   "execution_count": 278,
   "metadata": {},
   "outputs": [],
   "source": [
    "ErM = min_portfolio_var@er\n",
    "stdM=np.sqrt(min_portfolio_var@varcov@min_portfolio_var.T)"
   ]
  },
  {
   "cell_type": "code",
   "execution_count": 279,
   "metadata": {},
   "outputs": [
    {
     "data": {
      "image/png": "[encoded data removed]",
      "text/plain": [
       "<Figure size 640x480 with 1 Axes>"
      ]
     },
     "metadata": {},
     "output_type": "display_data"
    }
   ],
   "source": [
    "# Efficient Frontier\n",
    "plt.title(\"Efficient Frontier\")\n",
    "plt.plot(stdC,ErC)\n",
    "plt.scatter(stdM,ErM)\n",
    "plt.xlabel(\"Risk\")\n",
    "plt.ylabel(\"Expected Returns\")\n",
    "plt.show()"
   ]
  },
  {
   "cell_type": "markdown",
   "metadata": {},
   "source": [
    "Problem 3)"
   ]
  },
  {
   "cell_type": "code",
   "execution_count": 280,
   "metadata": {},
   "outputs": [
    {
     "data": {
      "text/plain": [
       "(-21.863296723114253,\n",
       " 0.0,\n",
       " 0,\n",
       " 490,\n",
       " {'1%': -3.4437660979098843,\n",
       "  '5%': -2.8674565460819896,\n",
       "  '10%': -2.569921291128696},\n",
       " -2826.7910104261)"
      ]
     },
     "execution_count": 280,
     "metadata": {},
     "output_type": "execute_result"
    }
   ],
   "source": [
    "# ADF TEST\n",
    "from statsmodels.tsa.stattools import adfuller\n",
    "df1[\"returns\"]=(df1[\"Close\"]-df1[\"Open\"])/df1[\"Open\"]\n",
    "adfuller(df1[\"returns\"])\n"
   ]
  },
  {
   "cell_type": "code",
   "execution_count": 281,
   "metadata": {},
   "outputs": [
    {
     "data": {
      "text/plain": [
       "(-23.513659257923184,\n",
       " 0.0,\n",
       " 0,\n",
       " 490,\n",
       " {'1%': -3.4437660979098843,\n",
       "  '5%': -2.8674565460819896,\n",
       "  '10%': -2.569921291128696},\n",
       " -2904.378193933736)"
      ]
     },
     "execution_count": 281,
     "metadata": {},
     "output_type": "execute_result"
    }
   ],
   "source": [
    "adfuller(df2[\"Close\"])\n",
    "df2[\"returns\"]=(df2[\"Close\"]-df2[\"Open\"])/df2[\"Open\"]\n",
    "adfuller(df2[\"returns\"])"
   ]
  },
  {
   "cell_type": "code",
   "execution_count": 282,
   "metadata": {},
   "outputs": [
    {
     "data": {
      "text/plain": [
       "(-9.019054319482887,\n",
       " 5.842426367275267e-15,\n",
       " 4,\n",
       " 486,\n",
       " {'1%': -3.4438771098680196,\n",
       "  '5%': -2.867505393939065,\n",
       "  '10%': -2.569947324764179},\n",
       " -2869.2980941426376)"
      ]
     },
     "execution_count": 282,
     "metadata": {},
     "output_type": "execute_result"
    }
   ],
   "source": [
    "adfuller(df3[\"Close\"])\n",
    "df3[\"returns\"]=(df3[\"Close\"]-df3[\"Open\"])/df3[\"Open\"]\n",
    "adfuller(df3[\"returns\"])"
   ]
  },
  {
   "cell_type": "code",
   "execution_count": 283,
   "metadata": {},
   "outputs": [
    {
     "data": {
      "text/plain": [
       "(-9.723359466970656,\n",
       " 9.414582555059177e-17,\n",
       " 6,\n",
       " 484,\n",
       " {'1%': -3.4439333076538854,\n",
       "  '5%': -2.8675301216074414,\n",
       "  '10%': -2.56996050355167},\n",
       " -2616.8301943773185)"
      ]
     },
     "execution_count": 283,
     "metadata": {},
     "output_type": "execute_result"
    }
   ],
   "source": [
    "adfuller(df4[\"Close\"])\n",
    "df4[\"returns\"]=(df4[\"Close\"]-df4[\"Open\"])/df4[\"Open\"]\n",
    "adfuller(df4[\"returns\"])"
   ]
  },
  {
   "cell_type": "code",
   "execution_count": 284,
   "metadata": {},
   "outputs": [
    {
     "data": {
      "text/plain": [
       "(-2.025446302896973,\n",
       " 0.27552842308362435,\n",
       " 1,\n",
       " 489,\n",
       " {'1%': -3.4437936797256317,\n",
       "  '5%': -2.867468682890213,\n",
       "  '10%': -2.5699277594606915},\n",
       " 2784.7371660474537)"
      ]
     },
     "execution_count": 284,
     "metadata": {},
     "output_type": "execute_result"
    }
   ],
   "source": [
    "adfuller(df5[\"Close\"])\n",
    "df5[\"returns\"]=(df5[\"Close\"]-df5[\"Open\"])/df5[\"Open\"]\n",
    "adfuller(df5[\"Close\"])"
   ]
  },
  {
   "cell_type": "code",
   "execution_count": 285,
   "metadata": {},
   "outputs": [
    {
     "data": {
      "text/plain": [
       "(0.5748066848145552,\n",
       " 0.01,\n",
       " 12,\n",
       " {'10%': 0.119, '5%': 0.146, '2.5%': 0.176, '1%': 0.216})"
      ]
     },
     "execution_count": 285,
     "metadata": {},
     "output_type": "execute_result"
    }
   ],
   "source": [
    "# KPSS Test\n",
    "import statsmodels.api as sm\n",
    "sm.tsa.stattools.kpss(df1[\"Close\"], regression='ct')"
   ]
  },
  {
   "cell_type": "code",
   "execution_count": 286,
   "metadata": {},
   "outputs": [
    {
     "data": {
      "text/plain": [
       "(0.7149735191369486,\n",
       " 0.01,\n",
       " 12,\n",
       " {'10%': 0.119, '5%': 0.146, '2.5%': 0.176, '1%': 0.216})"
      ]
     },
     "execution_count": 286,
     "metadata": {},
     "output_type": "execute_result"
    }
   ],
   "source": [
    "sm.tsa.stattools.kpss(df2[\"Close\"], regression='ct')"
   ]
  },
  {
   "cell_type": "code",
   "execution_count": 287,
   "metadata": {},
   "outputs": [
    {
     "data": {
      "text/plain": [
       "(0.6047322062100637,\n",
       " 0.01,\n",
       " 12,\n",
       " {'10%': 0.119, '5%': 0.146, '2.5%': 0.176, '1%': 0.216})"
      ]
     },
     "execution_count": 287,
     "metadata": {},
     "output_type": "execute_result"
    }
   ],
   "source": [
    "sm.tsa.stattools.kpss(df3[\"Close\"], regression='ct')"
   ]
  },
  {
   "cell_type": "code",
   "execution_count": 288,
   "metadata": {},
   "outputs": [
    {
     "data": {
      "text/plain": [
       "(0.5818189557762897,\n",
       " 0.01,\n",
       " 12,\n",
       " {'10%': 0.119, '5%': 0.146, '2.5%': 0.176, '1%': 0.216})"
      ]
     },
     "execution_count": 288,
     "metadata": {},
     "output_type": "execute_result"
    }
   ],
   "source": [
    "sm.tsa.stattools.kpss(df4[\"Close\"], regression='ct')"
   ]
  },
  {
   "cell_type": "code",
   "execution_count": 289,
   "metadata": {},
   "outputs": [
    {
     "data": {
      "text/plain": [
       "(0.7149735191369486,\n",
       " 0.01,\n",
       " 12,\n",
       " {'10%': 0.119, '5%': 0.146, '2.5%': 0.176, '1%': 0.216})"
      ]
     },
     "execution_count": 289,
     "metadata": {},
     "output_type": "execute_result"
    }
   ],
   "source": [
    "sm.tsa.stattools.kpss(df5[\"Close\"], regression='ct')"
   ]
  },
  {
   "cell_type": "markdown",
   "metadata": {},
   "source": [
    "We can Observe that from ADF Test and KPSS on comparing the results with p-values we are getting Non-Stationary Series."
   ]
  },
  {
   "cell_type": "code",
   "execution_count": 290,
   "metadata": {},
   "outputs": [
    {
     "name": "stdout",
     "output_type": "stream",
     "text": [
      "                            OLS Regression Results                            \n",
      "==============================================================================\n",
      "Dep. Variable:                  Close   R-squared:                       0.991\n",
      "Model:                            OLS   Adj. R-squared:                  0.991\n",
      "Method:                 Least Squares   F-statistic:                 5.395e+04\n",
      "Date:                Sat, 08 Jun 2024   Prob (F-statistic):               0.00\n",
      "Time:                        23:50:55   Log-Likelihood:                -3056.1\n",
      "No. Observations:                 491   AIC:                             6116.\n",
      "Df Residuals:                     489   BIC:                             6125.\n",
      "Df Model:                           1                                         \n",
      "Covariance Type:            nonrobust                                         \n",
      "==============================================================================\n",
      "                 coef    std err          t      P>|t|      [0.025      0.975]\n",
      "------------------------------------------------------------------------------\n",
      "Intercept     21.7979     42.092      0.518      0.605     -60.906     104.502\n",
      "Open           0.9975      0.004    232.276      0.000       0.989       1.006\n",
      "==============================================================================\n",
      "Omnibus:                       38.117   Durbin-Watson:                   1.957\n",
      "Prob(Omnibus):                  0.000   Jarque-Bera (JB):              100.834\n",
      "Skew:                           0.364   Prob(JB):                     1.27e-22\n",
      "Kurtosis:                       5.097   Cond. No.                     7.47e+04\n",
      "==============================================================================\n",
      "\n",
      "Notes:\n",
      "[1] Standard Errors assume that the covariance matrix of the errors is correctly specified.\n",
      "[2] The condition number is large, 7.47e+04. This might indicate that there are\n",
      "strong multicollinearity or other numerical problems.\n"
     ]
    },
    {
     "data": {
      "text/plain": [
       "1.9566346995536146"
      ]
     },
     "execution_count": 290,
     "metadata": {},
     "output_type": "execute_result"
    }
   ],
   "source": [
    "# Durbin-Watson Test\n",
    "from statsmodels.formula.api import ols\n",
    "model1 = ols('Close ~ Open', data=df1).fit()\n",
    "print(model1.summary())\n",
    "from statsmodels.stats.stattools import durbin_watson\n",
    "durbin_watson(model1.resid)"
   ]
  },
  {
   "cell_type": "code",
   "execution_count": 291,
   "metadata": {},
   "outputs": [
    {
     "name": "stdout",
     "output_type": "stream",
     "text": [
      "                            OLS Regression Results                            \n",
      "==============================================================================\n",
      "Dep. Variable:                  Close   R-squared:                       0.994\n",
      "Model:                            OLS   Adj. R-squared:                  0.994\n",
      "Method:                 Least Squares   F-statistic:                 8.541e+04\n",
      "Date:                Sat, 08 Jun 2024   Prob (F-statistic):               0.00\n",
      "Time:                        23:50:55   Log-Likelihood:                -1424.9\n",
      "No. Observations:                 491   AIC:                             2854.\n",
      "Df Residuals:                     489   BIC:                             2862.\n",
      "Df Model:                           1                                         \n",
      "Covariance Type:            nonrobust                                         \n",
      "==============================================================================\n",
      "                 coef    std err          t      P>|t|      [0.025      0.975]\n",
      "------------------------------------------------------------------------------\n",
      "Intercept      4.0650      1.351      3.009      0.003       1.411       6.719\n",
      "Open           0.9890      0.003    292.253      0.000       0.982       0.996\n",
      "==============================================================================\n",
      "Omnibus:                       22.220   Durbin-Watson:                   2.156\n",
      "Prob(Omnibus):                  0.000   Jarque-Bera (JB):               54.416\n",
      "Skew:                          -0.150   Prob(JB):                     1.53e-12\n",
      "Kurtosis:                       4.603   Cond. No.                     2.71e+03\n",
      "==============================================================================\n",
      "\n",
      "Notes:\n",
      "[1] Standard Errors assume that the covariance matrix of the errors is correctly specified.\n",
      "[2] The condition number is large, 2.71e+03. This might indicate that there are\n",
      "strong multicollinearity or other numerical problems.\n"
     ]
    },
    {
     "data": {
      "text/plain": [
       "2.1555387475323267"
      ]
     },
     "execution_count": 291,
     "metadata": {},
     "output_type": "execute_result"
    }
   ],
   "source": [
    "model2 = ols('Close ~ Open', data=df2).fit()\n",
    "print(model2.summary())\n",
    "durbin_watson(model2.resid)"
   ]
  },
  {
   "cell_type": "code",
   "execution_count": 292,
   "metadata": {},
   "outputs": [
    {
     "name": "stdout",
     "output_type": "stream",
     "text": [
      "                            OLS Regression Results                            \n",
      "==============================================================================\n",
      "Dep. Variable:                  Close   R-squared:                       0.982\n",
      "Model:                            OLS   Adj. R-squared:                  0.982\n",
      "Method:                 Least Squares   F-statistic:                 2.684e+04\n",
      "Date:                Sat, 08 Jun 2024   Prob (F-statistic):               0.00\n",
      "Time:                        23:50:55   Log-Likelihood:                -1502.7\n",
      "No. Observations:                 491   AIC:                             3009.\n",
      "Df Residuals:                     489   BIC:                             3018.\n",
      "Df Model:                           1                                         \n",
      "Covariance Type:            nonrobust                                         \n",
      "==============================================================================\n",
      "                 coef    std err          t      P>|t|      [0.025      0.975]\n",
      "------------------------------------------------------------------------------\n",
      "Intercept      4.3401      2.543      1.707      0.089      -0.656       9.337\n",
      "Open           0.9880      0.006    163.828      0.000       0.976       1.000\n",
      "==============================================================================\n",
      "Omnibus:                       74.117   Durbin-Watson:                   1.851\n",
      "Prob(Omnibus):                  0.000   Jarque-Bera (JB):              273.045\n",
      "Skew:                           0.638   Prob(JB):                     5.12e-60\n",
      "Kurtosis:                       6.423   Cond. No.                     4.59e+03\n",
      "==============================================================================\n",
      "\n",
      "Notes:\n",
      "[1] Standard Errors assume that the covariance matrix of the errors is correctly specified.\n",
      "[2] The condition number is large, 4.59e+03. This might indicate that there are\n",
      "strong multicollinearity or other numerical problems.\n"
     ]
    },
    {
     "data": {
      "text/plain": [
       "1.8505787006095462"
      ]
     },
     "execution_count": 292,
     "metadata": {},
     "output_type": "execute_result"
    }
   ],
   "source": [
    "model3 = ols('Close ~ Open', data=df3).fit()\n",
    "print(model3.summary())\n",
    "durbin_watson(model3.resid)"
   ]
  },
  {
   "cell_type": "code",
   "execution_count": 293,
   "metadata": {},
   "outputs": [
    {
     "name": "stdout",
     "output_type": "stream",
     "text": [
      "                            OLS Regression Results                            \n",
      "==============================================================================\n",
      "Dep. Variable:                  Close   R-squared:                       0.991\n",
      "Model:                            OLS   Adj. R-squared:                  0.991\n",
      "Method:                 Least Squares   F-statistic:                 5.389e+04\n",
      "Date:                Sat, 08 Jun 2024   Prob (F-statistic):               0.00\n",
      "Time:                        23:50:55   Log-Likelihood:                -1012.2\n",
      "No. Observations:                 491   AIC:                             2028.\n",
      "Df Residuals:                     489   BIC:                             2037.\n",
      "Df Model:                           1                                         \n",
      "Covariance Type:            nonrobust                                         \n",
      "==============================================================================\n",
      "                 coef    std err          t      P>|t|      [0.025      0.975]\n",
      "------------------------------------------------------------------------------\n",
      "Intercept      0.6606      0.522      1.267      0.206      -0.364       1.685\n",
      "Open           0.9928      0.004    232.133      0.000       0.984       1.001\n",
      "==============================================================================\n",
      "Omnibus:                       35.321   Durbin-Watson:                   2.092\n",
      "Prob(Omnibus):                  0.000   Jarque-Bera (JB):              143.563\n",
      "Skew:                          -0.039   Prob(JB):                     6.69e-32\n",
      "Kurtosis:                       5.648   Cond. No.                         740.\n",
      "==============================================================================\n",
      "\n",
      "Notes:\n",
      "[1] Standard Errors assume that the covariance matrix of the errors is correctly specified.\n"
     ]
    },
    {
     "data": {
      "text/plain": [
       "2.0920636407404603"
      ]
     },
     "execution_count": 293,
     "metadata": {},
     "output_type": "execute_result"
    }
   ],
   "source": [
    "model4 = ols('Close ~ Open', data=df4).fit()\n",
    "print(model4.summary())\n",
    "durbin_watson(model4.resid)"
   ]
  },
  {
   "cell_type": "code",
   "execution_count": 294,
   "metadata": {},
   "outputs": [
    {
     "name": "stdout",
     "output_type": "stream",
     "text": [
      "                            OLS Regression Results                            \n",
      "==============================================================================\n",
      "Dep. Variable:                  Close   R-squared:                       0.994\n",
      "Model:                            OLS   Adj. R-squared:                  0.994\n",
      "Method:                 Least Squares   F-statistic:                 8.541e+04\n",
      "Date:                Sat, 08 Jun 2024   Prob (F-statistic):               0.00\n",
      "Time:                        23:50:55   Log-Likelihood:                -1424.9\n",
      "No. Observations:                 491   AIC:                             2854.\n",
      "Df Residuals:                     489   BIC:                             2862.\n",
      "Df Model:                           1                                         \n",
      "Covariance Type:            nonrobust                                         \n",
      "==============================================================================\n",
      "                 coef    std err          t      P>|t|      [0.025      0.975]\n",
      "------------------------------------------------------------------------------\n",
      "Intercept      4.0650      1.351      3.009      0.003       1.411       6.719\n",
      "Open           0.9890      0.003    292.253      0.000       0.982       0.996\n",
      "==============================================================================\n",
      "Omnibus:                       22.220   Durbin-Watson:                   2.156\n",
      "Prob(Omnibus):                  0.000   Jarque-Bera (JB):               54.416\n",
      "Skew:                          -0.150   Prob(JB):                     1.53e-12\n",
      "Kurtosis:                       4.603   Cond. No.                     2.71e+03\n",
      "==============================================================================\n",
      "\n",
      "Notes:\n",
      "[1] Standard Errors assume that the covariance matrix of the errors is correctly specified.\n",
      "[2] The condition number is large, 2.71e+03. This might indicate that there are\n",
      "strong multicollinearity or other numerical problems.\n"
     ]
    },
    {
     "data": {
      "text/plain": [
       "2.1555387475323267"
      ]
     },
     "execution_count": 294,
     "metadata": {},
     "output_type": "execute_result"
    }
   ],
   "source": [
    "model5 = ols('Close ~ Open', data=df5).fit()\n",
    "print(model5.summary())\n",
    "durbin_watson(model5.resid)"
   ]
  },
  {
   "cell_type": "code",
   "execution_count": 295,
   "metadata": {},
   "outputs": [
    {
     "name": "stdout",
     "output_type": "stream",
     "text": [
      "\n",
      "Granger Causality\n",
      "number of lags (no zero) 4\n",
      "ssr based F test:         F=0.9127  , p=0.4562  , df_denom=477, df_num=4\n",
      "ssr based chi2 test:   chi2=3.7197  , p=0.4453  , df=4\n",
      "likelihood ratio test: chi2=3.7055  , p=0.4473  , df=4\n",
      "parameter F test:         F=0.9127  , p=0.4562  , df_denom=477, df_num=4\n"
     ]
    }
   ],
   "source": [
    "# Granger Casuality Test\n",
    "import statsmodels.api as sm\n",
    "from statsmodels.tsa.stattools import grangercausalitytests\n",
    "data1 = df1[[\"Close\",\"Open\"]].pct_change().dropna()\n",
    "gc_res = grangercausalitytests(data1, [4])"
   ]
  },
  {
   "cell_type": "code",
   "execution_count": 296,
   "metadata": {},
   "outputs": [
    {
     "name": "stdout",
     "output_type": "stream",
     "text": [
      "\n",
      "Granger Causality\n",
      "number of lags (no zero) 4\n",
      "ssr based F test:         F=0.8284  , p=0.5075  , df_denom=477, df_num=4\n",
      "ssr based chi2 test:   chi2=3.3762  , p=0.4970  , df=4\n",
      "likelihood ratio test: chi2=3.3645  , p=0.4988  , df=4\n",
      "parameter F test:         F=0.8284  , p=0.5075  , df_denom=477, df_num=4\n"
     ]
    }
   ],
   "source": [
    "data2 = df2[[\"Close\",\"Open\"]].pct_change().dropna()\n",
    "gc_res = grangercausalitytests(data2, [4])"
   ]
  },
  {
   "cell_type": "code",
   "execution_count": 297,
   "metadata": {},
   "outputs": [
    {
     "name": "stdout",
     "output_type": "stream",
     "text": [
      "\n",
      "Granger Causality\n",
      "number of lags (no zero) 4\n",
      "ssr based F test:         F=2.6570  , p=0.0323  , df_denom=477, df_num=4\n",
      "ssr based chi2 test:   chi2=10.8286 , p=0.0286  , df=4\n",
      "likelihood ratio test: chi2=10.7097 , p=0.0300  , df=4\n",
      "parameter F test:         F=2.6570  , p=0.0323  , df_denom=477, df_num=4\n"
     ]
    }
   ],
   "source": [
    "data3 = df3[[\"Close\",\"Open\"]].pct_change().dropna()\n",
    "gc_res = grangercausalitytests(data3, [4])"
   ]
  },
  {
   "cell_type": "code",
   "execution_count": 298,
   "metadata": {},
   "outputs": [
    {
     "name": "stdout",
     "output_type": "stream",
     "text": [
      "\n",
      "Granger Causality\n",
      "number of lags (no zero) 4\n",
      "ssr based F test:         F=1.6429  , p=0.1623  , df_denom=477, df_num=4\n",
      "ssr based chi2 test:   chi2=6.6955  , p=0.1529  , df=4\n",
      "likelihood ratio test: chi2=6.6498  , p=0.1556  , df=4\n",
      "parameter F test:         F=1.6429  , p=0.1623  , df_denom=477, df_num=4\n"
     ]
    }
   ],
   "source": [
    "data4 = df4[[\"Close\",\"Open\"]].pct_change().dropna()\n",
    "gc_res = grangercausalitytests(data4, [4])"
   ]
  },
  {
   "cell_type": "code",
   "execution_count": 299,
   "metadata": {},
   "outputs": [
    {
     "name": "stdout",
     "output_type": "stream",
     "text": [
      "\n",
      "Granger Causality\n",
      "number of lags (no zero) 4\n",
      "ssr based F test:         F=0.8284  , p=0.5075  , df_denom=477, df_num=4\n",
      "ssr based chi2 test:   chi2=3.3762  , p=0.4970  , df=4\n",
      "likelihood ratio test: chi2=3.3645  , p=0.4988  , df=4\n",
      "parameter F test:         F=0.8284  , p=0.5075  , df_denom=477, df_num=4\n"
     ]
    }
   ],
   "source": [
    "data5 = df5[[\"Close\",\"Open\"]].pct_change().dropna()\n",
    "gc_res = grangercausalitytests(data5, [4])"
   ]
  }
 ],
 "metadata": {
  "kernelspec": {
   "display_name": "base",
   "language": "python",
   "name": "python3"
  },
  "language_info": {
   "codemirror_mode": {
    "name": "ipython",
    "version": 3
   },
   "file_extension": ".py",
   "mimetype": "text/x-python",
   "name": "python",
   "nbconvert_exporter": "python",
   "pygments_lexer": "ipython3",
   "version": "3.11.7"
  }
 },
 "nbformat": 4,
 "nbformat_minor": 2
}
