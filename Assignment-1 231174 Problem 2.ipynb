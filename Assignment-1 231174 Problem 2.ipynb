{
 "cells": [
  {
   "cell_type": "markdown",
   "metadata": {},
   "source": [
    "Problem 2"
   ]
  },
  {
   "cell_type": "markdown",
   "metadata": {},
   "source": [
    "a)"
   ]
  },
  {
   "cell_type": "markdown",
   "metadata": {},
   "source": [
    "I would suggest Alice to have a Portfolio containing Highly Uncorrelated Stocks.Because when we choose Highly Correlated Stocks then we will be having High Risk because the Price can go either up or down.So high risk of loss if any one stock goes down in Highly Correlated Stocks. In the Case of Highly Uncorrelated Stock we will be having a diversification and if one stock goes down then the other is not affected much implying Low Risk and Better Return. Additionally, Diversification is a strategy used in investing that refers to owning a wide variety of securities across several asset classes in order to reduce the risk of loss."
   ]
  },
  {
   "cell_type": "markdown",
   "metadata": {},
   "source": [
    "b)"
   ]
  },
  {
   "cell_type": "markdown",
   "metadata": {},
   "source": [
    "For Correlation>=0.5 I am Choosing SBI and Bank of Baroda and Calculating the Correlation Coefficient considering only closing prices."
   ]
  },
  {
   "cell_type": "code",
   "execution_count": 1,
   "metadata": {},
   "outputs": [
    {
     "name": "stdout",
     "output_type": "stream",
     "text": [
      "Requirement already satisfied: yfinance in c:\\users\\rakes\\anaconda3\\lib\\site-packages (0.2.38)\n",
      "Requirement already satisfied: pandas>=1.3.0 in c:\\users\\rakes\\anaconda3\\lib\\site-packages (from yfinance) (2.1.4)\n",
      "Requirement already satisfied: numpy>=1.16.5 in c:\\users\\rakes\\anaconda3\\lib\\site-packages (from yfinance) (1.26.4)\n",
      "Requirement already satisfied: requests>=2.31 in c:\\users\\rakes\\anaconda3\\lib\\site-packages (from yfinance) (2.31.0)\n",
      "Requirement already satisfied: multitasking>=0.0.7 in c:\\users\\rakes\\anaconda3\\lib\\site-packages (from yfinance) (0.0.11)\n",
      "Requirement already satisfied: lxml>=4.9.1 in c:\\users\\rakes\\anaconda3\\lib\\site-packages (from yfinance) (4.9.3)\n",
      "Requirement already satisfied: appdirs>=1.4.4 in c:\\users\\rakes\\anaconda3\\lib\\site-packages (from yfinance) (1.4.4)\n",
      "Requirement already satisfied: pytz>=2022.5 in c:\\users\\rakes\\anaconda3\\lib\\site-packages (from yfinance) (2023.3.post1)\n",
      "Requirement already satisfied: frozendict>=2.3.4 in c:\\users\\rakes\\anaconda3\\lib\\site-packages (from yfinance) (2.4.4)\n",
      "Requirement already satisfied: peewee>=3.16.2 in c:\\users\\rakes\\anaconda3\\lib\\site-packages (from yfinance) (3.17.3)\n",
      "Requirement already satisfied: beautifulsoup4>=4.11.1 in c:\\users\\rakes\\anaconda3\\lib\\site-packages (from yfinance) (4.12.2)\n",
      "Requirement already satisfied: html5lib>=1.1 in c:\\users\\rakes\\anaconda3\\lib\\site-packages (from yfinance) (1.1)\n",
      "Requirement already satisfied: soupsieve>1.2 in c:\\users\\rakes\\anaconda3\\lib\\site-packages (from beautifulsoup4>=4.11.1->yfinance) (2.5)\n",
      "Requirement already satisfied: six>=1.9 in c:\\users\\rakes\\anaconda3\\lib\\site-packages (from html5lib>=1.1->yfinance) (1.16.0)\n",
      "Requirement already satisfied: webencodings in c:\\users\\rakes\\anaconda3\\lib\\site-packages (from html5lib>=1.1->yfinance) (0.5.1)\n",
      "Requirement already satisfied: python-dateutil>=2.8.2 in c:\\users\\rakes\\anaconda3\\lib\\site-packages (from pandas>=1.3.0->yfinance) (2.8.2)\n",
      "Requirement already satisfied: tzdata>=2022.1 in c:\\users\\rakes\\anaconda3\\lib\\site-packages (from pandas>=1.3.0->yfinance) (2023.3)\n",
      "Requirement already satisfied: charset-normalizer<4,>=2 in c:\\users\\rakes\\anaconda3\\lib\\site-packages (from requests>=2.31->yfinance) (2.0.4)\n",
      "Requirement already satisfied: idna<4,>=2.5 in c:\\users\\rakes\\anaconda3\\lib\\site-packages (from requests>=2.31->yfinance) (3.4)\n",
      "Requirement already satisfied: urllib3<3,>=1.21.1 in c:\\users\\rakes\\anaconda3\\lib\\site-packages (from requests>=2.31->yfinance) (2.0.7)\n",
      "Requirement already satisfied: certifi>=2017.4.17 in c:\\users\\rakes\\anaconda3\\lib\\site-packages (from requests>=2.31->yfinance) (2024.2.2)\n"
     ]
    }
   ],
   "source": [
    "!pip install yfinance"
   ]
  },
  {
   "cell_type": "code",
   "execution_count": 2,
   "metadata": {},
   "outputs": [],
   "source": [
    "import yfinance as yf"
   ]
  },
  {
   "cell_type": "code",
   "execution_count": 3,
   "metadata": {},
   "outputs": [],
   "source": [
    "import pandas as pd\n",
    "import numpy as np"
   ]
  },
  {
   "cell_type": "code",
   "execution_count": 4,
   "metadata": {},
   "outputs": [],
   "source": [
    "tick1=\"SBIN.NS\"\n",
    "tick2=\"BANKBARODA.NS\""
   ]
  },
  {
   "cell_type": "code",
   "execution_count": 5,
   "metadata": {},
   "outputs": [
    {
     "name": "stderr",
     "output_type": "stream",
     "text": [
      "[*********************100%%**********************]  1 of 1 completed\n"
     ]
    }
   ],
   "source": [
    "data1=yf.download(tick1,start=\"2023-04-01\",end=\"2024-03-31\")"
   ]
  },
  {
   "cell_type": "code",
   "execution_count": 6,
   "metadata": {},
   "outputs": [
    {
     "name": "stderr",
     "output_type": "stream",
     "text": [
      "[*********************100%%**********************]  1 of 1 completed\n"
     ]
    }
   ],
   "source": [
    "data2=yf.download(tick2,start=\"2023-04-01\",end=\"2024-03-31\")"
   ]
  },
  {
   "cell_type": "code",
   "execution_count": 7,
   "metadata": {},
   "outputs": [
    {
     "data": {
      "text/html": [
       "<div>\n",
       "<style scoped>\n",
       "    .dataframe tbody tr th:only-of-type {\n",
       "        vertical-align: middle;\n",
       "    }\n",
       "\n",
       "    .dataframe tbody tr th {\n",
       "        vertical-align: top;\n",
       "    }\n",
       "\n",
       "    .dataframe thead th {\n",
       "        text-align: right;\n",
       "    }\n",
       "</style>\n",
       "<table border=\"1\" class=\"dataframe\">\n",
       "  <thead>\n",
       "    <tr style=\"text-align: right;\">\n",
       "      <th></th>\n",
       "      <th>Open</th>\n",
       "      <th>High</th>\n",
       "      <th>Low</th>\n",
       "      <th>Close</th>\n",
       "      <th>Adj Close</th>\n",
       "      <th>Volume</th>\n",
       "    </tr>\n",
       "    <tr>\n",
       "      <th>Date</th>\n",
       "      <th></th>\n",
       "      <th></th>\n",
       "      <th></th>\n",
       "      <th></th>\n",
       "      <th></th>\n",
       "      <th></th>\n",
       "    </tr>\n",
       "  </thead>\n",
       "  <tbody>\n",
       "    <tr>\n",
       "      <th>2023-04-03</th>\n",
       "      <td>5655.000000</td>\n",
       "      <td>5734.000000</td>\n",
       "      <td>5632.200195</td>\n",
       "      <td>5715.049805</td>\n",
       "      <td>5690.868164</td>\n",
       "      <td>745386</td>\n",
       "    </tr>\n",
       "    <tr>\n",
       "      <th>2023-04-05</th>\n",
       "      <td>5832.000000</td>\n",
       "      <td>5947.049805</td>\n",
       "      <td>5743.149902</td>\n",
       "      <td>5761.299805</td>\n",
       "      <td>5736.922363</td>\n",
       "      <td>2433329</td>\n",
       "    </tr>\n",
       "    <tr>\n",
       "      <th>2023-04-06</th>\n",
       "      <td>5761.000000</td>\n",
       "      <td>5959.000000</td>\n",
       "      <td>5705.549805</td>\n",
       "      <td>5932.200195</td>\n",
       "      <td>5907.099609</td>\n",
       "      <td>1740502</td>\n",
       "    </tr>\n",
       "    <tr>\n",
       "      <th>2023-04-10</th>\n",
       "      <td>5944.950195</td>\n",
       "      <td>5969.899902</td>\n",
       "      <td>5811.000000</td>\n",
       "      <td>5828.799805</td>\n",
       "      <td>5804.136719</td>\n",
       "      <td>928257</td>\n",
       "    </tr>\n",
       "    <tr>\n",
       "      <th>2023-04-11</th>\n",
       "      <td>5858.000000</td>\n",
       "      <td>5880.000000</td>\n",
       "      <td>5811.149902</td>\n",
       "      <td>5837.750000</td>\n",
       "      <td>5813.049316</td>\n",
       "      <td>811620</td>\n",
       "    </tr>\n",
       "    <tr>\n",
       "      <th>...</th>\n",
       "      <td>...</td>\n",
       "      <td>...</td>\n",
       "      <td>...</td>\n",
       "      <td>...</td>\n",
       "      <td>...</td>\n",
       "      <td>...</td>\n",
       "    </tr>\n",
       "    <tr>\n",
       "      <th>2024-03-21</th>\n",
       "      <td>6707.500000</td>\n",
       "      <td>6771.649902</td>\n",
       "      <td>6657.149902</td>\n",
       "      <td>6715.750000</td>\n",
       "      <td>6715.750000</td>\n",
       "      <td>1806092</td>\n",
       "    </tr>\n",
       "    <tr>\n",
       "      <th>2024-03-22</th>\n",
       "      <td>6705.000000</td>\n",
       "      <td>6803.000000</td>\n",
       "      <td>6686.299805</td>\n",
       "      <td>6760.899902</td>\n",
       "      <td>6760.899902</td>\n",
       "      <td>1125238</td>\n",
       "    </tr>\n",
       "    <tr>\n",
       "      <th>2024-03-26</th>\n",
       "      <td>6754.500000</td>\n",
       "      <td>6945.000000</td>\n",
       "      <td>6745.000000</td>\n",
       "      <td>6910.100098</td>\n",
       "      <td>6910.100098</td>\n",
       "      <td>1850321</td>\n",
       "    </tr>\n",
       "    <tr>\n",
       "      <th>2024-03-27</th>\n",
       "      <td>6945.750000</td>\n",
       "      <td>7049.000000</td>\n",
       "      <td>6905.000000</td>\n",
       "      <td>7022.750000</td>\n",
       "      <td>7022.750000</td>\n",
       "      <td>1551275</td>\n",
       "    </tr>\n",
       "    <tr>\n",
       "      <th>2024-03-28</th>\n",
       "      <td>7032.100098</td>\n",
       "      <td>7349.299805</td>\n",
       "      <td>7032.100098</td>\n",
       "      <td>7245.250000</td>\n",
       "      <td>7245.250000</td>\n",
       "      <td>3574518</td>\n",
       "    </tr>\n",
       "  </tbody>\n",
       "</table>\n",
       "<p>243 rows × 6 columns</p>\n",
       "</div>"
      ],
      "text/plain": [
       "                   Open         High          Low        Close    Adj Close  \\\n",
       "Date                                                                          \n",
       "2023-04-03  5655.000000  5734.000000  5632.200195  5715.049805  5690.868164   \n",
       "2023-04-05  5832.000000  5947.049805  5743.149902  5761.299805  5736.922363   \n",
       "2023-04-06  5761.000000  5959.000000  5705.549805  5932.200195  5907.099609   \n",
       "2023-04-10  5944.950195  5969.899902  5811.000000  5828.799805  5804.136719   \n",
       "2023-04-11  5858.000000  5880.000000  5811.149902  5837.750000  5813.049316   \n",
       "...                 ...          ...          ...          ...          ...   \n",
       "2024-03-21  6707.500000  6771.649902  6657.149902  6715.750000  6715.750000   \n",
       "2024-03-22  6705.000000  6803.000000  6686.299805  6760.899902  6760.899902   \n",
       "2024-03-26  6754.500000  6945.000000  6745.000000  6910.100098  6910.100098   \n",
       "2024-03-27  6945.750000  7049.000000  6905.000000  7022.750000  7022.750000   \n",
       "2024-03-28  7032.100098  7349.299805  7032.100098  7245.250000  7245.250000   \n",
       "\n",
       "             Volume  \n",
       "Date                 \n",
       "2023-04-03   745386  \n",
       "2023-04-05  2433329  \n",
       "2023-04-06  1740502  \n",
       "2023-04-10   928257  \n",
       "2023-04-11   811620  \n",
       "...             ...  \n",
       "2024-03-21  1806092  \n",
       "2024-03-22  1125238  \n",
       "2024-03-26  1850321  \n",
       "2024-03-27  1551275  \n",
       "2024-03-28  3574518  \n",
       "\n",
       "[243 rows x 6 columns]"
      ]
     },
     "execution_count": 7,
     "metadata": {},
     "output_type": "execute_result"
    }
   ],
   "source": [
    "df1=pd.DataFrame(data1)\n",
    "df1"
   ]
  },
  {
   "cell_type": "code",
   "execution_count": 8,
   "metadata": {},
   "outputs": [
    {
     "data": {
      "text/html": [
       "<div>\n",
       "<style scoped>\n",
       "    .dataframe tbody tr th:only-of-type {\n",
       "        vertical-align: middle;\n",
       "    }\n",
       "\n",
       "    .dataframe tbody tr th {\n",
       "        vertical-align: top;\n",
       "    }\n",
       "\n",
       "    .dataframe thead th {\n",
       "        text-align: right;\n",
       "    }\n",
       "</style>\n",
       "<table border=\"1\" class=\"dataframe\">\n",
       "  <thead>\n",
       "    <tr style=\"text-align: right;\">\n",
       "      <th></th>\n",
       "      <th>Open</th>\n",
       "      <th>High</th>\n",
       "      <th>Low</th>\n",
       "      <th>Close</th>\n",
       "      <th>Adj Close</th>\n",
       "      <th>Volume</th>\n",
       "    </tr>\n",
       "    <tr>\n",
       "      <th>Date</th>\n",
       "      <th></th>\n",
       "      <th></th>\n",
       "      <th></th>\n",
       "      <th></th>\n",
       "      <th></th>\n",
       "      <th></th>\n",
       "    </tr>\n",
       "  </thead>\n",
       "  <tbody>\n",
       "    <tr>\n",
       "      <th>2023-04-03</th>\n",
       "      <td>1273.000000</td>\n",
       "      <td>1286.550049</td>\n",
       "      <td>1265.500000</td>\n",
       "      <td>1282.949951</td>\n",
       "      <td>1282.274170</td>\n",
       "      <td>1381342</td>\n",
       "    </tr>\n",
       "    <tr>\n",
       "      <th>2023-04-05</th>\n",
       "      <td>1296.000000</td>\n",
       "      <td>1324.000000</td>\n",
       "      <td>1275.500000</td>\n",
       "      <td>1279.300049</td>\n",
       "      <td>1278.626221</td>\n",
       "      <td>3366621</td>\n",
       "    </tr>\n",
       "    <tr>\n",
       "      <th>2023-04-06</th>\n",
       "      <td>1279.300049</td>\n",
       "      <td>1311.449951</td>\n",
       "      <td>1271.349976</td>\n",
       "      <td>1303.949951</td>\n",
       "      <td>1303.263184</td>\n",
       "      <td>1819711</td>\n",
       "    </tr>\n",
       "    <tr>\n",
       "      <th>2023-04-10</th>\n",
       "      <td>1311.000000</td>\n",
       "      <td>1317.250000</td>\n",
       "      <td>1295.650024</td>\n",
       "      <td>1305.050049</td>\n",
       "      <td>1304.362671</td>\n",
       "      <td>1297282</td>\n",
       "    </tr>\n",
       "    <tr>\n",
       "      <th>2023-04-11</th>\n",
       "      <td>1312.949951</td>\n",
       "      <td>1325.000000</td>\n",
       "      <td>1307.199951</td>\n",
       "      <td>1323.199951</td>\n",
       "      <td>1322.502930</td>\n",
       "      <td>1281834</td>\n",
       "    </tr>\n",
       "    <tr>\n",
       "      <th>...</th>\n",
       "      <td>...</td>\n",
       "      <td>...</td>\n",
       "      <td>...</td>\n",
       "      <td>...</td>\n",
       "      <td>...</td>\n",
       "      <td>...</td>\n",
       "    </tr>\n",
       "    <tr>\n",
       "      <th>2024-03-21</th>\n",
       "      <td>1596.000000</td>\n",
       "      <td>1609.449951</td>\n",
       "      <td>1592.000000</td>\n",
       "      <td>1602.599976</td>\n",
       "      <td>1602.599976</td>\n",
       "      <td>1166497</td>\n",
       "    </tr>\n",
       "    <tr>\n",
       "      <th>2024-03-22</th>\n",
       "      <td>1593.000000</td>\n",
       "      <td>1610.000000</td>\n",
       "      <td>1583.400024</td>\n",
       "      <td>1587.550049</td>\n",
       "      <td>1587.550049</td>\n",
       "      <td>1570412</td>\n",
       "    </tr>\n",
       "    <tr>\n",
       "      <th>2024-03-26</th>\n",
       "      <td>1589.000000</td>\n",
       "      <td>1619.000000</td>\n",
       "      <td>1589.000000</td>\n",
       "      <td>1593.900024</td>\n",
       "      <td>1593.900024</td>\n",
       "      <td>1616192</td>\n",
       "    </tr>\n",
       "    <tr>\n",
       "      <th>2024-03-27</th>\n",
       "      <td>1590.000000</td>\n",
       "      <td>1609.900024</td>\n",
       "      <td>1578.199951</td>\n",
       "      <td>1582.650024</td>\n",
       "      <td>1582.650024</td>\n",
       "      <td>1205575</td>\n",
       "    </tr>\n",
       "    <tr>\n",
       "      <th>2024-03-28</th>\n",
       "      <td>1588.000000</td>\n",
       "      <td>1669.000000</td>\n",
       "      <td>1588.000000</td>\n",
       "      <td>1643.849976</td>\n",
       "      <td>1643.849976</td>\n",
       "      <td>5210310</td>\n",
       "    </tr>\n",
       "  </tbody>\n",
       "</table>\n",
       "<p>243 rows × 6 columns</p>\n",
       "</div>"
      ],
      "text/plain": [
       "                   Open         High          Low        Close    Adj Close  \\\n",
       "Date                                                                          \n",
       "2023-04-03  1273.000000  1286.550049  1265.500000  1282.949951  1282.274170   \n",
       "2023-04-05  1296.000000  1324.000000  1275.500000  1279.300049  1278.626221   \n",
       "2023-04-06  1279.300049  1311.449951  1271.349976  1303.949951  1303.263184   \n",
       "2023-04-10  1311.000000  1317.250000  1295.650024  1305.050049  1304.362671   \n",
       "2023-04-11  1312.949951  1325.000000  1307.199951  1323.199951  1322.502930   \n",
       "...                 ...          ...          ...          ...          ...   \n",
       "2024-03-21  1596.000000  1609.449951  1592.000000  1602.599976  1602.599976   \n",
       "2024-03-22  1593.000000  1610.000000  1583.400024  1587.550049  1587.550049   \n",
       "2024-03-26  1589.000000  1619.000000  1589.000000  1593.900024  1593.900024   \n",
       "2024-03-27  1590.000000  1609.900024  1578.199951  1582.650024  1582.650024   \n",
       "2024-03-28  1588.000000  1669.000000  1588.000000  1643.849976  1643.849976   \n",
       "\n",
       "             Volume  \n",
       "Date                 \n",
       "2023-04-03  1381342  \n",
       "2023-04-05  3366621  \n",
       "2023-04-06  1819711  \n",
       "2023-04-10  1297282  \n",
       "2023-04-11  1281834  \n",
       "...             ...  \n",
       "2024-03-21  1166497  \n",
       "2024-03-22  1570412  \n",
       "2024-03-26  1616192  \n",
       "2024-03-27  1205575  \n",
       "2024-03-28  5210310  \n",
       "\n",
       "[243 rows x 6 columns]"
      ]
     },
     "execution_count": 8,
     "metadata": {},
     "output_type": "execute_result"
    }
   ],
   "source": [
    "df2=pd.DataFrame(data2)\n",
    "df2"
   ]
  },
  {
   "cell_type": "code",
   "execution_count": 9,
   "metadata": {},
   "outputs": [],
   "source": [
    "x=len(df1)\n",
    "arr1=[0.0]*x\n",
    "arr2=[0.0]*x"
   ]
  },
  {
   "cell_type": "code",
   "execution_count": 10,
   "metadata": {},
   "outputs": [
    {
     "name": "stderr",
     "output_type": "stream",
     "text": [
      "C:\\Users\\rakes\\AppData\\Local\\Temp\\ipykernel_32988\\1251172905.py:2: FutureWarning: Series.__getitem__ treating keys as positions is deprecated. In a future version, integer keys will always be treated as labels (consistent with DataFrame behavior). To access a value by position, use `ser.iloc[pos]`\n",
      "  arr1[index]=df1[\"Close\"][index]\n",
      "C:\\Users\\rakes\\AppData\\Local\\Temp\\ipykernel_32988\\1251172905.py:3: FutureWarning: Series.__getitem__ treating keys as positions is deprecated. In a future version, integer keys will always be treated as labels (consistent with DataFrame behavior). To access a value by position, use `ser.iloc[pos]`\n",
      "  arr2[index]=df2[\"Close\"][index]\n"
     ]
    }
   ],
   "source": [
    "for index in range(0,x):\n",
    "    arr1[index]=df1[\"Close\"][index]\n",
    "    arr2[index]=df2[\"Close\"][index]\n"
   ]
  },
  {
   "cell_type": "code",
   "execution_count": 11,
   "metadata": {},
   "outputs": [],
   "source": [
    "sum1=0\n",
    "sum2=0\n",
    "mean1=0\n",
    "mean2=0\n",
    "for index in range(0,x):\n",
    "    sum1=sum1+arr1[index]\n",
    "    sum2=sum2+arr2[index]\n",
    "mean1=sum1/x\n",
    "mean2=sum2/x"
   ]
  },
  {
   "cell_type": "code",
   "execution_count": 12,
   "metadata": {},
   "outputs": [],
   "source": [
    "numerator=0\n",
    "for index in range(0,x):\n",
    "    numerator=numerator+(arr1[index]-mean1)*(arr2[index]-mean2)\n"
   ]
  },
  {
   "cell_type": "code",
   "execution_count": 13,
   "metadata": {},
   "outputs": [],
   "source": [
    "deviation1=0\n",
    "deviation2=0\n",
    "for index in range(0,x):\n",
    "    deviation1=deviation1+(arr1[index]-mean1)*(arr1[index]-mean1)\n",
    "    deviation2=deviation2+(arr2[index]-mean2)*(arr2[index]-mean2)\n",
    "denominator=np.sqrt(deviation1*deviation2)"
   ]
  },
  {
   "cell_type": "markdown",
   "metadata": {},
   "source": [
    "r is correlation coefficient"
   ]
  },
  {
   "cell_type": "code",
   "execution_count": 14,
   "metadata": {},
   "outputs": [
    {
     "data": {
      "text/plain": [
       "0.6584015179621435"
      ]
     },
     "execution_count": 14,
     "metadata": {},
     "output_type": "execute_result"
    }
   ],
   "source": [
    "r=numerator/denominator\n",
    "r"
   ]
  },
  {
   "cell_type": "markdown",
   "metadata": {},
   "source": [
    "r=0.94 implies that SBI and Bank of Baroda are Highly Correlated Stocks"
   ]
  },
  {
   "cell_type": "markdown",
   "metadata": {},
   "source": [
    "For Highly Uncorrelated Stocks we take HDFCLIFE and COAL INDIA Stocks"
   ]
  },
  {
   "cell_type": "code",
   "execution_count": 15,
   "metadata": {},
   "outputs": [],
   "source": [
    "tick3=\"COALINDIA.NS\"\n",
    "tick4=\"HDFCLIFE.NS\""
   ]
  },
  {
   "cell_type": "code",
   "execution_count": 16,
   "metadata": {},
   "outputs": [
    {
     "name": "stderr",
     "output_type": "stream",
     "text": [
      "[*********************100%%**********************]  1 of 1 completed\n"
     ]
    }
   ],
   "source": [
    "data3=yf.download(tick3,start=\"2023-04-01\",end=\"2024-03-31\")\n"
   ]
  },
  {
   "cell_type": "code",
   "execution_count": 17,
   "metadata": {},
   "outputs": [
    {
     "name": "stderr",
     "output_type": "stream",
     "text": [
      "[*********************100%%**********************]  1 of 1 completed\n"
     ]
    }
   ],
   "source": [
    "data4=yf.download(tick4,start=\"2023-04-01\",end=\"2024-03-31\")"
   ]
  },
  {
   "cell_type": "code",
   "execution_count": 18,
   "metadata": {},
   "outputs": [],
   "source": [
    "df3=pd.DataFrame(data3)\n",
    "df4=pd.DataFrame(data4)"
   ]
  },
  {
   "cell_type": "code",
   "execution_count": 19,
   "metadata": {},
   "outputs": [
    {
     "data": {
      "text/html": [
       "<div>\n",
       "<style scoped>\n",
       "    .dataframe tbody tr th:only-of-type {\n",
       "        vertical-align: middle;\n",
       "    }\n",
       "\n",
       "    .dataframe tbody tr th {\n",
       "        vertical-align: top;\n",
       "    }\n",
       "\n",
       "    .dataframe thead th {\n",
       "        text-align: right;\n",
       "    }\n",
       "</style>\n",
       "<table border=\"1\" class=\"dataframe\">\n",
       "  <thead>\n",
       "    <tr style=\"text-align: right;\">\n",
       "      <th></th>\n",
       "      <th>Open</th>\n",
       "      <th>High</th>\n",
       "      <th>Low</th>\n",
       "      <th>Close</th>\n",
       "      <th>Adj Close</th>\n",
       "      <th>Volume</th>\n",
       "    </tr>\n",
       "    <tr>\n",
       "      <th>Date</th>\n",
       "      <th></th>\n",
       "      <th></th>\n",
       "      <th></th>\n",
       "      <th></th>\n",
       "      <th></th>\n",
       "      <th></th>\n",
       "    </tr>\n",
       "  </thead>\n",
       "  <tbody>\n",
       "    <tr>\n",
       "      <th>2023-04-03</th>\n",
       "      <td>214.100006</td>\n",
       "      <td>220.850006</td>\n",
       "      <td>213.800003</td>\n",
       "      <td>220.149994</td>\n",
       "      <td>204.515228</td>\n",
       "      <td>7754066</td>\n",
       "    </tr>\n",
       "    <tr>\n",
       "      <th>2023-04-05</th>\n",
       "      <td>220.300003</td>\n",
       "      <td>224.250000</td>\n",
       "      <td>220.300003</td>\n",
       "      <td>222.500000</td>\n",
       "      <td>206.698334</td>\n",
       "      <td>6491910</td>\n",
       "    </tr>\n",
       "    <tr>\n",
       "      <th>2023-04-06</th>\n",
       "      <td>222.449997</td>\n",
       "      <td>223.149994</td>\n",
       "      <td>220.300003</td>\n",
       "      <td>221.699997</td>\n",
       "      <td>205.955154</td>\n",
       "      <td>4589598</td>\n",
       "    </tr>\n",
       "    <tr>\n",
       "      <th>2023-04-10</th>\n",
       "      <td>221.449997</td>\n",
       "      <td>224.449997</td>\n",
       "      <td>221.149994</td>\n",
       "      <td>222.050003</td>\n",
       "      <td>206.280289</td>\n",
       "      <td>3498235</td>\n",
       "    </tr>\n",
       "    <tr>\n",
       "      <th>2023-04-11</th>\n",
       "      <td>222.750000</td>\n",
       "      <td>224.300003</td>\n",
       "      <td>222.000000</td>\n",
       "      <td>223.649994</td>\n",
       "      <td>207.766647</td>\n",
       "      <td>3995959</td>\n",
       "    </tr>\n",
       "    <tr>\n",
       "      <th>...</th>\n",
       "      <td>...</td>\n",
       "      <td>...</td>\n",
       "      <td>...</td>\n",
       "      <td>...</td>\n",
       "      <td>...</td>\n",
       "      <td>...</td>\n",
       "    </tr>\n",
       "    <tr>\n",
       "      <th>2024-03-21</th>\n",
       "      <td>424.000000</td>\n",
       "      <td>433.549988</td>\n",
       "      <td>423.149994</td>\n",
       "      <td>432.049988</td>\n",
       "      <td>432.049988</td>\n",
       "      <td>9911230</td>\n",
       "    </tr>\n",
       "    <tr>\n",
       "      <th>2024-03-22</th>\n",
       "      <td>430.899994</td>\n",
       "      <td>436.200012</td>\n",
       "      <td>428.299988</td>\n",
       "      <td>431.950012</td>\n",
       "      <td>431.950012</td>\n",
       "      <td>9172888</td>\n",
       "    </tr>\n",
       "    <tr>\n",
       "      <th>2024-03-26</th>\n",
       "      <td>433.799988</td>\n",
       "      <td>440.950012</td>\n",
       "      <td>430.899994</td>\n",
       "      <td>435.950012</td>\n",
       "      <td>435.950012</td>\n",
       "      <td>9389403</td>\n",
       "    </tr>\n",
       "    <tr>\n",
       "      <th>2024-03-27</th>\n",
       "      <td>439.799988</td>\n",
       "      <td>439.799988</td>\n",
       "      <td>426.049988</td>\n",
       "      <td>429.450012</td>\n",
       "      <td>429.450012</td>\n",
       "      <td>17985246</td>\n",
       "    </tr>\n",
       "    <tr>\n",
       "      <th>2024-03-28</th>\n",
       "      <td>430.000000</td>\n",
       "      <td>438.450012</td>\n",
       "      <td>430.000000</td>\n",
       "      <td>434.100006</td>\n",
       "      <td>434.100006</td>\n",
       "      <td>10332853</td>\n",
       "    </tr>\n",
       "  </tbody>\n",
       "</table>\n",
       "<p>243 rows × 6 columns</p>\n",
       "</div>"
      ],
      "text/plain": [
       "                  Open        High         Low       Close   Adj Close  \\\n",
       "Date                                                                     \n",
       "2023-04-03  214.100006  220.850006  213.800003  220.149994  204.515228   \n",
       "2023-04-05  220.300003  224.250000  220.300003  222.500000  206.698334   \n",
       "2023-04-06  222.449997  223.149994  220.300003  221.699997  205.955154   \n",
       "2023-04-10  221.449997  224.449997  221.149994  222.050003  206.280289   \n",
       "2023-04-11  222.750000  224.300003  222.000000  223.649994  207.766647   \n",
       "...                ...         ...         ...         ...         ...   \n",
       "2024-03-21  424.000000  433.549988  423.149994  432.049988  432.049988   \n",
       "2024-03-22  430.899994  436.200012  428.299988  431.950012  431.950012   \n",
       "2024-03-26  433.799988  440.950012  430.899994  435.950012  435.950012   \n",
       "2024-03-27  439.799988  439.799988  426.049988  429.450012  429.450012   \n",
       "2024-03-28  430.000000  438.450012  430.000000  434.100006  434.100006   \n",
       "\n",
       "              Volume  \n",
       "Date                  \n",
       "2023-04-03   7754066  \n",
       "2023-04-05   6491910  \n",
       "2023-04-06   4589598  \n",
       "2023-04-10   3498235  \n",
       "2023-04-11   3995959  \n",
       "...              ...  \n",
       "2024-03-21   9911230  \n",
       "2024-03-22   9172888  \n",
       "2024-03-26   9389403  \n",
       "2024-03-27  17985246  \n",
       "2024-03-28  10332853  \n",
       "\n",
       "[243 rows x 6 columns]"
      ]
     },
     "execution_count": 19,
     "metadata": {},
     "output_type": "execute_result"
    }
   ],
   "source": [
    "df3"
   ]
  },
  {
   "cell_type": "code",
   "execution_count": 20,
   "metadata": {},
   "outputs": [
    {
     "data": {
      "text/html": [
       "<div>\n",
       "<style scoped>\n",
       "    .dataframe tbody tr th:only-of-type {\n",
       "        vertical-align: middle;\n",
       "    }\n",
       "\n",
       "    .dataframe tbody tr th {\n",
       "        vertical-align: top;\n",
       "    }\n",
       "\n",
       "    .dataframe thead th {\n",
       "        text-align: right;\n",
       "    }\n",
       "</style>\n",
       "<table border=\"1\" class=\"dataframe\">\n",
       "  <thead>\n",
       "    <tr style=\"text-align: right;\">\n",
       "      <th></th>\n",
       "      <th>Open</th>\n",
       "      <th>High</th>\n",
       "      <th>Low</th>\n",
       "      <th>Close</th>\n",
       "      <th>Adj Close</th>\n",
       "      <th>Volume</th>\n",
       "    </tr>\n",
       "    <tr>\n",
       "      <th>Date</th>\n",
       "      <th></th>\n",
       "      <th></th>\n",
       "      <th></th>\n",
       "      <th></th>\n",
       "      <th></th>\n",
       "      <th></th>\n",
       "    </tr>\n",
       "  </thead>\n",
       "  <tbody>\n",
       "    <tr>\n",
       "      <th>2023-04-03</th>\n",
       "      <td>502.049988</td>\n",
       "      <td>508.500000</td>\n",
       "      <td>501.250000</td>\n",
       "      <td>503.700012</td>\n",
       "      <td>502.044678</td>\n",
       "      <td>2394944</td>\n",
       "    </tr>\n",
       "    <tr>\n",
       "      <th>2023-04-05</th>\n",
       "      <td>503.700012</td>\n",
       "      <td>511.950012</td>\n",
       "      <td>503.700012</td>\n",
       "      <td>507.750000</td>\n",
       "      <td>506.081360</td>\n",
       "      <td>4270479</td>\n",
       "    </tr>\n",
       "    <tr>\n",
       "      <th>2023-04-06</th>\n",
       "      <td>506.100006</td>\n",
       "      <td>516.900024</td>\n",
       "      <td>505.250000</td>\n",
       "      <td>514.650024</td>\n",
       "      <td>512.958679</td>\n",
       "      <td>2416882</td>\n",
       "    </tr>\n",
       "    <tr>\n",
       "      <th>2023-04-10</th>\n",
       "      <td>514.650024</td>\n",
       "      <td>520.299988</td>\n",
       "      <td>511.649994</td>\n",
       "      <td>513.700012</td>\n",
       "      <td>512.011780</td>\n",
       "      <td>2375216</td>\n",
       "    </tr>\n",
       "    <tr>\n",
       "      <th>2023-04-11</th>\n",
       "      <td>516.799988</td>\n",
       "      <td>522.799988</td>\n",
       "      <td>512.750000</td>\n",
       "      <td>513.549988</td>\n",
       "      <td>511.862274</td>\n",
       "      <td>3671457</td>\n",
       "    </tr>\n",
       "    <tr>\n",
       "      <th>...</th>\n",
       "      <td>...</td>\n",
       "      <td>...</td>\n",
       "      <td>...</td>\n",
       "      <td>...</td>\n",
       "      <td>...</td>\n",
       "      <td>...</td>\n",
       "    </tr>\n",
       "    <tr>\n",
       "      <th>2024-03-21</th>\n",
       "      <td>629.000000</td>\n",
       "      <td>639.000000</td>\n",
       "      <td>620.000000</td>\n",
       "      <td>622.250000</td>\n",
       "      <td>622.250000</td>\n",
       "      <td>7197320</td>\n",
       "    </tr>\n",
       "    <tr>\n",
       "      <th>2024-03-22</th>\n",
       "      <td>623.900024</td>\n",
       "      <td>628.650024</td>\n",
       "      <td>616.000000</td>\n",
       "      <td>623.849976</td>\n",
       "      <td>623.849976</td>\n",
       "      <td>3636733</td>\n",
       "    </tr>\n",
       "    <tr>\n",
       "      <th>2024-03-26</th>\n",
       "      <td>638.849976</td>\n",
       "      <td>642.799988</td>\n",
       "      <td>625.500000</td>\n",
       "      <td>626.900024</td>\n",
       "      <td>626.900024</td>\n",
       "      <td>13822598</td>\n",
       "    </tr>\n",
       "    <tr>\n",
       "      <th>2024-03-27</th>\n",
       "      <td>627.500000</td>\n",
       "      <td>638.400024</td>\n",
       "      <td>624.049988</td>\n",
       "      <td>626.349976</td>\n",
       "      <td>626.349976</td>\n",
       "      <td>13848953</td>\n",
       "    </tr>\n",
       "    <tr>\n",
       "      <th>2024-03-28</th>\n",
       "      <td>626.349976</td>\n",
       "      <td>638.750000</td>\n",
       "      <td>626.349976</td>\n",
       "      <td>633.349976</td>\n",
       "      <td>633.349976</td>\n",
       "      <td>6878964</td>\n",
       "    </tr>\n",
       "  </tbody>\n",
       "</table>\n",
       "<p>243 rows × 6 columns</p>\n",
       "</div>"
      ],
      "text/plain": [
       "                  Open        High         Low       Close   Adj Close  \\\n",
       "Date                                                                     \n",
       "2023-04-03  502.049988  508.500000  501.250000  503.700012  502.044678   \n",
       "2023-04-05  503.700012  511.950012  503.700012  507.750000  506.081360   \n",
       "2023-04-06  506.100006  516.900024  505.250000  514.650024  512.958679   \n",
       "2023-04-10  514.650024  520.299988  511.649994  513.700012  512.011780   \n",
       "2023-04-11  516.799988  522.799988  512.750000  513.549988  511.862274   \n",
       "...                ...         ...         ...         ...         ...   \n",
       "2024-03-21  629.000000  639.000000  620.000000  622.250000  622.250000   \n",
       "2024-03-22  623.900024  628.650024  616.000000  623.849976  623.849976   \n",
       "2024-03-26  638.849976  642.799988  625.500000  626.900024  626.900024   \n",
       "2024-03-27  627.500000  638.400024  624.049988  626.349976  626.349976   \n",
       "2024-03-28  626.349976  638.750000  626.349976  633.349976  633.349976   \n",
       "\n",
       "              Volume  \n",
       "Date                  \n",
       "2023-04-03   2394944  \n",
       "2023-04-05   4270479  \n",
       "2023-04-06   2416882  \n",
       "2023-04-10   2375216  \n",
       "2023-04-11   3671457  \n",
       "...              ...  \n",
       "2024-03-21   7197320  \n",
       "2024-03-22   3636733  \n",
       "2024-03-26  13822598  \n",
       "2024-03-27  13848953  \n",
       "2024-03-28   6878964  \n",
       "\n",
       "[243 rows x 6 columns]"
      ]
     },
     "execution_count": 20,
     "metadata": {},
     "output_type": "execute_result"
    }
   ],
   "source": [
    "df4"
   ]
  },
  {
   "cell_type": "code",
   "execution_count": 21,
   "metadata": {},
   "outputs": [],
   "source": [
    "x=len(df3)\n",
    "arr3=[0.0]*x\n",
    "arr4=[0.0]*x"
   ]
  },
  {
   "cell_type": "code",
   "execution_count": 22,
   "metadata": {},
   "outputs": [
    {
     "name": "stderr",
     "output_type": "stream",
     "text": [
      "C:\\Users\\rakes\\AppData\\Local\\Temp\\ipykernel_32988\\4002584499.py:2: FutureWarning: Series.__getitem__ treating keys as positions is deprecated. In a future version, integer keys will always be treated as labels (consistent with DataFrame behavior). To access a value by position, use `ser.iloc[pos]`\n",
      "  arr3[index]=df3[\"Close\"][index]\n",
      "C:\\Users\\rakes\\AppData\\Local\\Temp\\ipykernel_32988\\4002584499.py:3: FutureWarning: Series.__getitem__ treating keys as positions is deprecated. In a future version, integer keys will always be treated as labels (consistent with DataFrame behavior). To access a value by position, use `ser.iloc[pos]`\n",
      "  arr4[index]=df4[\"Close\"][index]\n"
     ]
    }
   ],
   "source": [
    "for index in range(0,x):\n",
    "    arr3[index]=df3[\"Close\"][index]\n",
    "    arr4[index]=df4[\"Close\"][index]"
   ]
  },
  {
   "cell_type": "code",
   "execution_count": 23,
   "metadata": {},
   "outputs": [],
   "source": [
    "sum3=0\n",
    "sum4=0\n",
    "mean3=0\n",
    "mean4=0\n",
    "for index in range(0,x):\n",
    "    sum3=sum3+arr3[index]\n",
    "    sum4=sum4+arr4[index]\n",
    "mean3=sum3/x\n",
    "mean4=sum4/x"
   ]
  },
  {
   "cell_type": "code",
   "execution_count": 24,
   "metadata": {},
   "outputs": [],
   "source": [
    "numerator2=0\n",
    "for index in range(0,x):\n",
    "    numerator2=numerator2+(arr3[index]-mean3)*(arr4[index]-mean4)\n"
   ]
  },
  {
   "cell_type": "code",
   "execution_count": 25,
   "metadata": {},
   "outputs": [],
   "source": [
    "deviation3=0\n",
    "deviation4=0\n",
    "for index in range(0,x):\n",
    "    deviation3=deviation3+(arr3[index]-mean3)*(arr3[index]-mean3)\n",
    "    deviation4=deviation4+(arr4[index]-mean4)*(arr4[index]-mean4)\n",
    "denominator2=np.sqrt(deviation3*deviation4)"
   ]
  },
  {
   "cell_type": "code",
   "execution_count": 26,
   "metadata": {},
   "outputs": [
    {
     "data": {
      "text/plain": [
       "0.09146914890567026"
      ]
     },
     "execution_count": 26,
     "metadata": {},
     "output_type": "execute_result"
    }
   ],
   "source": [
    "r2=numerator2/denominator2\n",
    "r2"
   ]
  },
  {
   "cell_type": "markdown",
   "metadata": {},
   "source": [
    "r2=0.09 implies that COALINDIA and HDFCLIFE are Highly Uncorrelated Stocks"
   ]
  },
  {
   "cell_type": "markdown",
   "metadata": {},
   "source": [
    "c)"
   ]
  },
  {
   "cell_type": "markdown",
   "metadata": {},
   "source": [
    "In Case 1:\n",
    "Both SBI and Bank of Baroda both come under Banking and Financial Service Sector implying that from same sector we have high chance of having similarly behaving stocks implying high Correlation Coefficient.\n",
    "In Case 2:\n",
    "HDFCLIFE comes under Banking and Financial Service Sector(Insurance) whereas COALINDIA is related to InfraStructure and Mining Sector.We have no relation between these 2 Sectors implying Low Correlation Coefficient and Highly Uncorrelated Stocks.\n",
    "I think that Stocks in Similar Sectors will have High Correlation Coefficient whereas Stocks in very dissimilar Sectors will have Low Correlation Coefficient.\n",
    "CASE 1:\n",
    "If I take Hindalco and JSWSTEEL then I except them to have High Correlation Coefficient because one is related to Steel and Other is Aluminium both mostly from Refining Sector.\n",
    "Case 2:\n",
    "ADANIENT and HCLTECH are highly uncorrelated because one focuses on Information and Technology while other focuses on Construction both coming form Different Sectors implying they have very less relation so I expect them to have Low Correlation Coefficient."
   ]
  }
 ],
 "metadata": {
  "kernelspec": {
   "display_name": "base",
   "language": "python",
   "name": "python3"
  },
  "language_info": {
   "codemirror_mode": {
    "name": "ipython",
    "version": 3
   },
   "file_extension": ".py",
   "mimetype": "text/x-python",
   "name": "python",
   "nbconvert_exporter": "python",
   "pygments_lexer": "ipython3",
   "version": "3.11.7"
  }
 },
 "nbformat": 4,
 "nbformat_minor": 2
}
