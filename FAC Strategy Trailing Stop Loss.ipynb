{
 "cells": [
  {
   "cell_type": "code",
   "execution_count": 27,
   "metadata": {},
   "outputs": [],
   "source": [
    "import numpy as np\n",
    "import pandas as pd\n",
    "import yfinance as yf\n",
    "import matplotlib.pyplot as plt\n",
    "# !pip install statsmodels \n"
   ]
  },
  {
   "cell_type": "code",
   "execution_count": 28,
   "metadata": {},
   "outputs": [],
   "source": [
    "# Apple (AAPL): 7.05%\n",
    "# Microsoft (MSFT): 6.54%\n",
    "# Amazon (AMZN): 3.24%\n",
    "# NVIDIA (NVDA): 2.79%\n",
    "# Alphabet Class A (GOOGL): 2.13%"
   ]
  },
  {
   "cell_type": "code",
   "execution_count": 29,
   "metadata": {},
   "outputs": [
    {
     "name": "stderr",
     "output_type": "stream",
     "text": [
      "[*********************100%%**********************]  1 of 1 completed\n",
      "[*********************100%%**********************]  1 of 1 completed\n",
      "[*********************100%%**********************]  1 of 1 completed\n",
      "[*********************100%%**********************]  1 of 1 completed\n",
      "[*********************100%%**********************]  1 of 1 completed\n",
      "[*********************100%%**********************]  1 of 1 completed\n"
     ]
    }
   ],
   "source": [
    "\n",
    "\n",
    "\n",
    "snp=yf.download(\"^SPX\",start=\"2018-01-01\",end=\"2023-01-01\")\n",
    "aapl=yf.download(\"AAPL\",start=\"2018-01-01\",end=\"2023-01-01\")\n",
    "msft=yf.download(\"MSFT\",start=\"2018-01-01\",end=\"2023-01-01\")\n",
    "amzn=yf.download(\"AMZN\",start=\"2018-01-01\",end=\"2023-01-01\")\n",
    "nvda=yf.download(\"NVDA\",start=\"2018-01-01\",end=\"2023-01-01\")\n",
    "googl=yf.download(\"GOOGL\",start=\"2018-01-01\",end=\"2023-01-01\")"
   ]
  },
  {
   "cell_type": "code",
   "execution_count": 30,
   "metadata": {},
   "outputs": [],
   "source": [
    "def beta(stock,market):\n",
    "    \n",
    "    return1=(stock[\"Close\"]-stock[\"Open\"])/stock[\"Open\"]\n",
    "    \n",
    "    return2=(market[\"Close\"]-market[\"Open\"])/market[\"Open\"]\n",
    "    market_var=return2.var()\n",
    "    returns=np.array([return1,return2])\n",
    "    cov=np.cov(returns,bias=True)\n",
    "    beta=cov[1,0]/market_var\n",
    "    return beta\n",
    "def std(stock):\n",
    "    returns=(stock[\"Close\"]-stock[\"Open\"])/stock[\"Open\"]\n",
    "    return returns.std()\n"
   ]
  },
  {
   "cell_type": "code",
   "execution_count": 31,
   "metadata": {},
   "outputs": [],
   "source": [
    "\n",
    "beta1=beta(aapl,snp)\n",
    "std1=std(aapl)\n",
    "beta2=beta(msft,snp)\n",
    "std2=std(msft)\n",
    "beta3=beta(amzn,snp)\n",
    "std3=std(amzn)\n",
    "beta4=beta(nvda,snp)\n",
    "std4=std(nvda)\n",
    "beta5=beta(googl,snp)\n",
    "std5=std(googl)"
   ]
  },
  {
   "cell_type": "code",
   "execution_count": 32,
   "metadata": {},
   "outputs": [
    {
     "name": "stdout",
     "output_type": "stream",
     "text": [
      "weighted_avg_beta =  1.2166234556237705\n"
     ]
    }
   ],
   "source": [
    "# weighted avg beta\n",
    "wab=(beta1*7.05+beta2*6.54+beta3*3.24+beta4*2.79+beta5*2.13)/(7.05+6.54+3.24+2.79+2.13)\n",
    "print(\"weighted_avg_beta = \",wab)"
   ]
  },
  {
   "cell_type": "code",
   "execution_count": 33,
   "metadata": {},
   "outputs": [
    {
     "name": "stderr",
     "output_type": "stream",
     "text": [
      "C:\\Users\\ssayu\\AppData\\Local\\Temp\\ipykernel_8604\\562968074.py:2: FutureWarning: Series.__getitem__ treating keys as positions is deprecated. In a future version, integer keys will always be treated as labels (consistent with DataFrame behavior). To access a value by position, use `ser.iloc[pos]`\n",
      "  market_initial_price=snp[\"Close\"][0]  #of Nifty 50 Index\n",
      "C:\\Users\\ssayu\\AppData\\Local\\Temp\\ipykernel_8604\\562968074.py:3: FutureWarning: Series.__getitem__ treating keys as positions is deprecated. In a future version, integer keys will always be treated as labels (consistent with DataFrame behavior). To access a value by position, use `ser.iloc[pos]`\n",
      "  market_final_price=snp[\"Close\"][len(snp)-1]\n"
     ]
    },
    {
     "data": {
      "text/plain": [
       "7.328998395478381"
      ]
     },
     "execution_count": 33,
     "metadata": {},
     "output_type": "execute_result"
    }
   ],
   "source": [
    "# exp returns = risk free + beta(market returns - risk free)\n",
    "market_initial_price=snp[\"Close\"][0]  #of Nifty 50 Index\n",
    "market_final_price=snp[\"Close\"][len(snp)-1]\n",
    "years=5\n",
    "cagr=((market_final_price/market_initial_price)**(1/5)-1)*100\n",
    "cagr"
   ]
  },
  {
   "cell_type": "code",
   "execution_count": 34,
   "metadata": {},
   "outputs": [
    {
     "name": "stdout",
     "output_type": "stream",
     "text": [
      "7.91097262928409\n",
      "8.08373577905602\n",
      "7.899714636752096\n",
      "10.44766317226227\n",
      "7.707984398373114\n"
     ]
    }
   ],
   "source": [
    "# expected returns\n",
    "# rfr = 3%\n",
    "return1=3+beta1*(cagr-3)\n",
    "return2=3+beta2*(cagr-3)\n",
    "return3=3+beta3*(cagr-3)\n",
    "return4=3+beta4*(cagr-3)\n",
    "return5=3+beta5*(cagr-3)\n",
    "print(return1)\n",
    "print(return2)\n",
    "print(return3)\n",
    "print(return4)\n",
    "print(return5)\n"
   ]
  },
  {
   "cell_type": "code",
   "execution_count": 35,
   "metadata": {},
   "outputs": [
    {
     "data": {
      "text/plain": [
       "8.265910763569458"
      ]
     },
     "execution_count": 35,
     "metadata": {},
     "output_type": "execute_result"
    }
   ],
   "source": [
    "# portfolio returns\n",
    "# 7.05+6.54+3.24+2.79+2.13=21.74\n",
    "returns=7.91*(7.05/21.74) + 8.08*(6.54/21.74)+ 7.89*(3.24/21.74) + 10.44*(2.79/21.74) + 7.7*(2.13/21.74)\n",
    "returns"
   ]
  },
  {
   "cell_type": "code",
   "execution_count": 36,
   "metadata": {},
   "outputs": [
    {
     "data": {
      "text/plain": [
       "0.017151485097802555"
      ]
     },
     "execution_count": 36,
     "metadata": {},
     "output_type": "execute_result"
    }
   ],
   "source": [
    "risk=std1*(7.05/21.74) + std2*(6.54/21.74)+ std3*(3.24/21.74) + std4*(2.79/21.74) + std5*(2.13/21.74)\n",
    "risk"
   ]
  },
  {
   "cell_type": "code",
   "execution_count": 37,
   "metadata": {},
   "outputs": [
    {
     "name": "stdout",
     "output_type": "stream",
     "text": [
      "(-1.0739514299428987, 0.7253472185693884, 11, 1247, {'1%': -3.4356048614183443, '5%': -2.8638605461891617, '10%': -2.5680054872544145}, 5499.654019039217)\n",
      "(-1.3093219635176896, 0.6248967859913949, 9, 1249, {'1%': -3.4355964295197743, '5%': -2.863856825923603, '10%': -2.5680035060041626}, 6864.092724982002)\n",
      "(-1.7054380039010972, 0.42831285416183307, 0, 1258, {'1%': -3.4355588184378574, '5%': -2.8638402312881497, '10%': -2.5679946684494275}, 6007.932200273041)\n",
      "(-1.1898221308923096, 0.677958578532432, 17, 1241, {'1%': -3.435630320520318, '5%': -2.863871779019612, '10%': -2.56801146937726}, 7345.635821529386)\n",
      "(-1.2171992041700632, 0.6661536355838462, 1, 1257, {'1%': -3.4355629707955395, '5%': -2.863842063387667, '10%': -2.567995644141416}, 4906.988875303031)\n"
     ]
    }
   ],
   "source": [
    "# tests\n",
    "# (1)ADF test\n",
    "from statsmodels.tsa.stattools import adfuller\n",
    "\n",
    "# returns1=(aapl[\"Close\"]-aapl[\"Open\"])/aapl[\"Open\"]\n",
    "# returns2=(msft[\"Close\"]-msft[\"Open\"])/msft[\"Open\"]\n",
    "# returns3=(amzn[\"Close\"]-amzn[\"Open\"])/amzn[\"Open\"]\n",
    "# returns4=(nvda[\"Close\"]-nvda[\"Open\"])/nvda[\"Open\"]\n",
    "# returns5=(googl[\"Close\"]-googl[\"Open\"])/googl[\"Open\"]\n",
    "\n",
    "# print(adfuller(returns1))\n",
    "# print(adfuller(returns2))\n",
    "# print(adfuller(returns3))\n",
    "# print(adfuller(returns4))\n",
    "# print(adfuller(returns5))\n",
    "print(adfuller(aapl[\"Close\"]))\n",
    "print(adfuller(msft[\"Close\"]))\n",
    "print(adfuller(amzn[\"Close\"]))\n",
    "print(adfuller(nvda[\"Close\"]))\n",
    "print(adfuller(googl[\"Close\"]))\n",
    "\n",
    "\n",
    "\n",
    "\n"
   ]
  },
  {
   "cell_type": "code",
   "execution_count": 38,
   "metadata": {},
   "outputs": [],
   "source": [
    "# all are non stationary acc to ADF\n"
   ]
  },
  {
   "cell_type": "code",
   "execution_count": 39,
   "metadata": {},
   "outputs": [
    {
     "name": "stdout",
     "output_type": "stream",
     "text": [
      "(0.5721215526585328, 0.01, 20, {'10%': 0.119, '5%': 0.146, '2.5%': 0.176, '1%': 0.216})\n",
      "(0.5488529012457201, 0.01, 20, {'10%': 0.119, '5%': 0.146, '2.5%': 0.176, '1%': 0.216})\n",
      "(0.8387902866037679, 0.01, 20, {'10%': 0.119, '5%': 0.146, '2.5%': 0.176, '1%': 0.216})\n",
      "(0.5356087641635338, 0.01, 20, {'10%': 0.119, '5%': 0.146, '2.5%': 0.176, '1%': 0.216})\n",
      "(0.5603875202883666, 0.01, 20, {'10%': 0.119, '5%': 0.146, '2.5%': 0.176, '1%': 0.216})\n"
     ]
    },
    {
     "name": "stderr",
     "output_type": "stream",
     "text": [
      "C:\\Users\\ssayu\\AppData\\Local\\Temp\\ipykernel_8604\\1805955295.py:5: InterpolationWarning: The test statistic is outside of the range of p-values available in the\n",
      "look-up table. The actual p-value is smaller than the p-value returned.\n",
      "\n",
      "  print(sm.tsa.stattools.kpss(aapl[\"Close\"], regression='ct'))\n",
      "C:\\Users\\ssayu\\AppData\\Local\\Temp\\ipykernel_8604\\1805955295.py:6: InterpolationWarning: The test statistic is outside of the range of p-values available in the\n",
      "look-up table. The actual p-value is smaller than the p-value returned.\n",
      "\n",
      "  print(sm.tsa.stattools.kpss(msft[\"Close\"], regression='ct'))\n",
      "C:\\Users\\ssayu\\AppData\\Local\\Temp\\ipykernel_8604\\1805955295.py:7: InterpolationWarning: The test statistic is outside of the range of p-values available in the\n",
      "look-up table. The actual p-value is smaller than the p-value returned.\n",
      "\n",
      "  print(sm.tsa.stattools.kpss(amzn[\"Close\"], regression='ct'))\n",
      "C:\\Users\\ssayu\\AppData\\Local\\Temp\\ipykernel_8604\\1805955295.py:8: InterpolationWarning: The test statistic is outside of the range of p-values available in the\n",
      "look-up table. The actual p-value is smaller than the p-value returned.\n",
      "\n",
      "  print(sm.tsa.stattools.kpss(nvda[\"Close\"], regression='ct'))\n",
      "C:\\Users\\ssayu\\AppData\\Local\\Temp\\ipykernel_8604\\1805955295.py:9: InterpolationWarning: The test statistic is outside of the range of p-values available in the\n",
      "look-up table. The actual p-value is smaller than the p-value returned.\n",
      "\n",
      "  print(sm.tsa.stattools.kpss(googl[\"Close\"], regression='ct'))\n"
     ]
    }
   ],
   "source": [
    "# KPSS test\n",
    "import statsmodels.api as sm\n",
    "\n",
    "#perform KPSS test\n",
    "print(sm.tsa.stattools.kpss(aapl[\"Close\"], regression='ct'))\n",
    "print(sm.tsa.stattools.kpss(msft[\"Close\"], regression='ct'))\n",
    "print(sm.tsa.stattools.kpss(amzn[\"Close\"], regression='ct'))\n",
    "print(sm.tsa.stattools.kpss(nvda[\"Close\"], regression='ct'))\n",
    "print(sm.tsa.stattools.kpss(googl[\"Close\"], regression='ct'))"
   ]
  },
  {
   "cell_type": "code",
   "execution_count": 40,
   "metadata": {},
   "outputs": [],
   "source": [
    "# data is non stationary "
   ]
  },
  {
   "cell_type": "code",
   "execution_count": 41,
   "metadata": {},
   "outputs": [],
   "source": [
    "from statsmodels.stats.stattools import durbin_watson"
   ]
  },
  {
   "cell_type": "code",
   "execution_count": 45,
   "metadata": {},
   "outputs": [
    {
     "name": "stdout",
     "output_type": "stream",
     "text": [
      "0.00042093479509683573 0.0003560321479291331 0.00047775848833734035 0.0011822379300782662 0.00037097927977854464\n"
     ]
    }
   ],
   "source": [
    "val1= durbin_watson(aapl[\"Close\"])\n",
    "\n",
    "val2=durbin_watson(msft[\"Close\"])\n",
    "val3=durbin_watson(amzn[\"Close\"])\n",
    "val4=durbin_watson(nvda[\"Close\"])\n",
    "val5=durbin_watson(googl[\"Close\"])\n",
    "print(val1,val2,val3,val4,val5)"
   ]
  },
  {
   "cell_type": "code",
   "execution_count": 46,
   "metadata": {},
   "outputs": [],
   "source": [
    "# All all highly coorelated to its prev price\n"
   ]
  },
  {
   "cell_type": "code",
   "execution_count": 47,
   "metadata": {},
   "outputs": [],
   "source": [
    "import statsmodels.api as sm\n",
    "res = sm.tsa.ARMA(aapl[\"SUNACTIVITY\"], (1,1)).fit(disp=-1)"
   ]
  },
  {
   "cell_type": "code",
   "execution_count": null,
   "metadata": {},
   "outputs": [],
   "source": []
  }
 ],
 "metadata": {
  "kernelspec": {
   "display_name": "Python 3",
   "language": "python",
   "name": "python3"
  },
  "language_info": {
   "codemirror_mode": {
    "name": "ipython",
    "version": 3
   },
   "file_extension": ".py",
   "mimetype": "text/x-python",
   "name": "python",
   "nbconvert_exporter": "python",
   "pygments_lexer": "ipython3",
   "version": "3.12.2"
  }
 },
 "nbformat": 4,
 "nbformat_minor": 2
}
