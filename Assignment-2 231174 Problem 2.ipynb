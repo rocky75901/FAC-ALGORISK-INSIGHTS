{
 "cells": [
  {
   "cell_type": "code",
   "execution_count": 8,
   "metadata": {},
   "outputs": [
    {
     "name": "stdout",
     "output_type": "stream",
     "text": [
      "Requirement already satisfied: yfinance in c:\\users\\rakes\\anaconda3\\lib\\site-packages (0.2.38)\n",
      "Requirement already satisfied: pandas>=1.3.0 in c:\\users\\rakes\\anaconda3\\lib\\site-packages (from yfinance) (2.1.4)\n",
      "Requirement already satisfied: numpy>=1.16.5 in c:\\users\\rakes\\anaconda3\\lib\\site-packages (from yfinance) (1.26.4)\n",
      "Requirement already satisfied: requests>=2.31 in c:\\users\\rakes\\anaconda3\\lib\\site-packages (from yfinance) (2.31.0)\n",
      "Requirement already satisfied: multitasking>=0.0.7 in c:\\users\\rakes\\anaconda3\\lib\\site-packages (from yfinance) (0.0.11)\n",
      "Requirement already satisfied: lxml>=4.9.1 in c:\\users\\rakes\\anaconda3\\lib\\site-packages (from yfinance) (4.9.3)\n",
      "Requirement already satisfied: appdirs>=1.4.4 in c:\\users\\rakes\\anaconda3\\lib\\site-packages (from yfinance) (1.4.4)\n",
      "Requirement already satisfied: pytz>=2022.5 in c:\\users\\rakes\\anaconda3\\lib\\site-packages (from yfinance) (2023.3.post1)\n",
      "Requirement already satisfied: frozendict>=2.3.4 in c:\\users\\rakes\\anaconda3\\lib\\site-packages (from yfinance) (2.4.4)\n",
      "Requirement already satisfied: peewee>=3.16.2 in c:\\users\\rakes\\anaconda3\\lib\\site-packages (from yfinance) (3.17.3)\n",
      "Requirement already satisfied: beautifulsoup4>=4.11.1 in c:\\users\\rakes\\anaconda3\\lib\\site-packages (from yfinance) (4.12.2)\n",
      "Requirement already satisfied: html5lib>=1.1 in c:\\users\\rakes\\anaconda3\\lib\\site-packages (from yfinance) (1.1)\n",
      "Requirement already satisfied: soupsieve>1.2 in c:\\users\\rakes\\anaconda3\\lib\\site-packages (from beautifulsoup4>=4.11.1->yfinance) (2.5)\n",
      "Requirement already satisfied: six>=1.9 in c:\\users\\rakes\\anaconda3\\lib\\site-packages (from html5lib>=1.1->yfinance) (1.16.0)\n",
      "Requirement already satisfied: webencodings in c:\\users\\rakes\\anaconda3\\lib\\site-packages (from html5lib>=1.1->yfinance) (0.5.1)\n",
      "Requirement already satisfied: python-dateutil>=2.8.2 in c:\\users\\rakes\\anaconda3\\lib\\site-packages (from pandas>=1.3.0->yfinance) (2.8.2)\n",
      "Requirement already satisfied: tzdata>=2022.1 in c:\\users\\rakes\\anaconda3\\lib\\site-packages (from pandas>=1.3.0->yfinance) (2023.3)\n",
      "Requirement already satisfied: charset-normalizer<4,>=2 in c:\\users\\rakes\\anaconda3\\lib\\site-packages (from requests>=2.31->yfinance) (2.0.4)\n",
      "Requirement already satisfied: idna<4,>=2.5 in c:\\users\\rakes\\anaconda3\\lib\\site-packages (from requests>=2.31->yfinance) (3.4)\n",
      "Requirement already satisfied: urllib3<3,>=1.21.1 in c:\\users\\rakes\\anaconda3\\lib\\site-packages (from requests>=2.31->yfinance) (2.0.7)\n",
      "Requirement already satisfied: certifi>=2017.4.17 in c:\\users\\rakes\\anaconda3\\lib\\site-packages (from requests>=2.31->yfinance) (2024.2.2)\n"
     ]
    }
   ],
   "source": [
    "!pip install yfinance\n"
   ]
  },
  {
   "cell_type": "code",
   "execution_count": 9,
   "metadata": {},
   "outputs": [],
   "source": [
    "import yfinance as yf\n",
    "import pandas as pd\n",
    "import numpy as np\n",
    "import matplotlib.pyplot as plt"
   ]
  },
  {
   "cell_type": "code",
   "execution_count": 10,
   "metadata": {},
   "outputs": [],
   "source": [
    "start = \"2019-01-01\" \n",
    "end = \"2024-01-01\"\n",
    "returns=0\n",
    "buy_list=[1]\n",
    "sell_list=[]\n"
   ]
  },
  {
   "cell_type": "code",
   "execution_count": 11,
   "metadata": {},
   "outputs": [],
   "source": [
    "def strategy(ticker,stop_loss_percent,take_profit_percent):\n",
    "    data=yf.download(ticker,start,end)\n",
    "    df=pd.DataFrame(data)\n",
    "    x=len(data)\n",
    "    global buy_list\n",
    "    global sell_list\n",
    "    global returns\n",
    "    for index in range(0,x-3):\n",
    "        if((df[\"Close\"][index+1]>=(1+take_profit_percent/100)*df[\"Close\"][buy_list[len(buy_list)-1]-1])):\n",
    "            sell_list=np.append(sell_list,index+2)\n",
    "            buy_list=np.append(buy_list,index+3)\n",
    "            returns=returns+df[\"Close\"][index+1]-df[\"Close\"][buy_list[len(buy_list)-1]]\n",
    "        elif((df[\"Close\"][index+1]<=(1-stop_loss_percent/100)*df[\"Close\"][buy_list[len(buy_list)-1]-1])):\n",
    "            sell_list=np.append(sell_list,index+2)\n",
    "            buy_list=np.append(buy_list,index+3)\n",
    "            returns=returns+df[\"Close\"][index+1]-df[\"Close\"][buy_list[len(buy_list)-1]]\n",
    "    return returns\n",
    "\n",
    "   "
   ]
  },
  {
   "cell_type": "code",
   "execution_count": 12,
   "metadata": {},
   "outputs": [
    {
     "name": "stderr",
     "output_type": "stream",
     "text": [
      "[*********************100%%**********************]  1 of 1 completed"
     ]
    },
    {
     "name": "stdout",
     "output_type": "stream",
     "text": [
      "Net returns is: -206.13722229003906\n"
     ]
    },
    {
     "name": "stderr",
     "output_type": "stream",
     "text": [
      "\n",
      "C:\\Users\\rakes\\AppData\\Local\\Temp\\ipykernel_25256\\2017219325.py:9: FutureWarning: Series.__getitem__ treating keys as positions is deprecated. In a future version, integer keys will always be treated as labels (consistent with DataFrame behavior). To access a value by position, use `ser.iloc[pos]`\n",
      "  if((df[\"Close\"][index+1]>=(1+take_profit_percent/100)*df[\"Close\"][buy_list[len(buy_list)-1]-1])):\n",
      "C:\\Users\\rakes\\AppData\\Local\\Temp\\ipykernel_25256\\2017219325.py:13: FutureWarning: Series.__getitem__ treating keys as positions is deprecated. In a future version, integer keys will always be treated as labels (consistent with DataFrame behavior). To access a value by position, use `ser.iloc[pos]`\n",
      "  elif((df[\"Close\"][index+1]<=(1-stop_loss_percent/100)*df[\"Close\"][buy_list[len(buy_list)-1]-1])):\n",
      "C:\\Users\\rakes\\AppData\\Local\\Temp\\ipykernel_25256\\2017219325.py:16: FutureWarning: Series.__getitem__ treating keys as positions is deprecated. In a future version, integer keys will always be treated as labels (consistent with DataFrame behavior). To access a value by position, use `ser.iloc[pos]`\n",
      "  returns=returns+df[\"Close\"][index+1]-df[\"Close\"][buy_list[len(buy_list)-1]]\n",
      "C:\\Users\\rakes\\AppData\\Local\\Temp\\ipykernel_25256\\2017219325.py:12: FutureWarning: Series.__getitem__ treating keys as positions is deprecated. In a future version, integer keys will always be treated as labels (consistent with DataFrame behavior). To access a value by position, use `ser.iloc[pos]`\n",
      "  returns=returns+df[\"Close\"][index+1]-df[\"Close\"][buy_list[len(buy_list)-1]]\n"
     ]
    }
   ],
   "source": [
    "print(\"Net returns is:\",strategy(\"WIPRO.NS\",2,4))"
   ]
  },
  {
   "cell_type": "code",
   "execution_count": 13,
   "metadata": {},
   "outputs": [
    {
     "data": {
      "text/plain": [
       "array([   1,   11,   15,   18,   24,   36,   41,   45,   47,   68,   77,\n",
       "         88,  107,  115,  126,  131,  145,  153,  174,  178,  184,  193,\n",
       "        203,  211,  217,  220,  238,  242,  266,  280,  284,  286,  290,\n",
       "        292,  294,  296,  299,  301,  305,  307,  309,  314,  317,  325,\n",
       "        327,  336,  342,  344,  350,  353,  357,  375,  377,  386,  406,\n",
       "        418,  420,  434,  437,  441,  450,  459,  475,  483,  490,  498,\n",
       "        501,  507,  515,  522,  528,  531,  538,  540,  553,  558,  562,\n",
       "        564,  566,  575,  579,  584,  592,  624,  627,  633,  648,  659,\n",
       "        663,  677,  689,  695,  700,  708,  714,  718,  733,  737,  752,\n",
       "        756,  759,  761,  764,  767,  773,  781,  788,  797,  804,  809,\n",
       "        811,  814,  821,  823,  828,  833,  836,  840,  843,  849,  852,\n",
       "        856,  859,  876,  880,  884,  887,  901,  906,  911,  923,  932,\n",
       "        937,  949,  970,  975,  986,  993, 1007, 1010, 1029, 1041, 1045,\n",
       "       1051, 1066, 1085, 1103, 1123, 1128, 1158, 1171, 1175, 1189, 1191,\n",
       "       1209, 1220, 1227, 1230, 1232])"
      ]
     },
     "execution_count": 13,
     "metadata": {},
     "output_type": "execute_result"
    }
   ],
   "source": [
    "buy_list"
   ]
  },
  {
   "cell_type": "code",
   "execution_count": 14,
   "metadata": {},
   "outputs": [
    {
     "data": {
      "text/plain": [
       "array([  10.,   14.,   17.,   23.,   35.,   40.,   44.,   46.,   67.,\n",
       "         76.,   87.,  106.,  114.,  125.,  130.,  144.,  152.,  173.,\n",
       "        177.,  183.,  192.,  202.,  210.,  216.,  219.,  237.,  241.,\n",
       "        265.,  279.,  283.,  285.,  289.,  291.,  293.,  295.,  298.,\n",
       "        300.,  304.,  306.,  308.,  313.,  316.,  324.,  326.,  335.,\n",
       "        341.,  343.,  349.,  352.,  356.,  374.,  376.,  385.,  405.,\n",
       "        417.,  419.,  433.,  436.,  440.,  449.,  458.,  474.,  482.,\n",
       "        489.,  497.,  500.,  506.,  514.,  521.,  527.,  530.,  537.,\n",
       "        539.,  552.,  557.,  561.,  563.,  565.,  574.,  578.,  583.,\n",
       "        591.,  623.,  626.,  632.,  647.,  658.,  662.,  676.,  688.,\n",
       "        694.,  699.,  707.,  713.,  717.,  732.,  736.,  751.,  755.,\n",
       "        758.,  760.,  763.,  766.,  772.,  780.,  787.,  796.,  803.,\n",
       "        808.,  810.,  813.,  820.,  822.,  827.,  832.,  835.,  839.,\n",
       "        842.,  848.,  851.,  855.,  858.,  875.,  879.,  883.,  886.,\n",
       "        900.,  905.,  910.,  922.,  931.,  936.,  948.,  969.,  974.,\n",
       "        985.,  992., 1006., 1009., 1028., 1040., 1044., 1050., 1065.,\n",
       "       1084., 1102., 1122., 1127., 1157., 1170., 1174., 1188., 1190.,\n",
       "       1208., 1219., 1226., 1229., 1231.])"
      ]
     },
     "execution_count": 14,
     "metadata": {},
     "output_type": "execute_result"
    }
   ],
   "source": [
    "sell_list"
   ]
  },
  {
   "cell_type": "code",
   "execution_count": null,
   "metadata": {},
   "outputs": [],
   "source": []
  }
 ],
 "metadata": {
  "kernelspec": {
   "display_name": "base",
   "language": "python",
   "name": "python3"
  },
  "language_info": {
   "codemirror_mode": {
    "name": "ipython",
    "version": 3
   },
   "file_extension": ".py",
   "mimetype": "text/x-python",
   "name": "python",
   "nbconvert_exporter": "python",
   "pygments_lexer": "ipython3",
   "version": "3.11.7"
  }
 },
 "nbformat": 4,
 "nbformat_minor": 2
}
