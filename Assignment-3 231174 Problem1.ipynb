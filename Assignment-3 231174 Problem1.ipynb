{
 "cells": [
  {
   "cell_type": "code",
   "execution_count": 47,
   "metadata": {},
   "outputs": [
    {
     "name": "stdout",
     "output_type": "stream",
     "text": [
      "Requirement already satisfied: yfinance in c:\\users\\rakes\\anaconda3\\lib\\site-packages (0.2.38)\n",
      "Requirement already satisfied: pandas>=1.3.0 in c:\\users\\rakes\\anaconda3\\lib\\site-packages (from yfinance) (2.1.4)\n",
      "Requirement already satisfied: numpy>=1.16.5 in c:\\users\\rakes\\anaconda3\\lib\\site-packages (from yfinance) (1.26.4)\n",
      "Requirement already satisfied: requests>=2.31 in c:\\users\\rakes\\anaconda3\\lib\\site-packages (from yfinance) (2.31.0)\n",
      "Requirement already satisfied: multitasking>=0.0.7 in c:\\users\\rakes\\anaconda3\\lib\\site-packages (from yfinance) (0.0.11)\n",
      "Requirement already satisfied: lxml>=4.9.1 in c:\\users\\rakes\\anaconda3\\lib\\site-packages (from yfinance) (4.9.3)\n",
      "Requirement already satisfied: appdirs>=1.4.4 in c:\\users\\rakes\\anaconda3\\lib\\site-packages (from yfinance) (1.4.4)\n",
      "Requirement already satisfied: pytz>=2022.5 in c:\\users\\rakes\\anaconda3\\lib\\site-packages (from yfinance) (2023.3.post1)\n",
      "Requirement already satisfied: frozendict>=2.3.4 in c:\\users\\rakes\\anaconda3\\lib\\site-packages (from yfinance) (2.4.4)\n",
      "Requirement already satisfied: peewee>=3.16.2 in c:\\users\\rakes\\anaconda3\\lib\\site-packages (from yfinance) (3.17.3)\n",
      "Requirement already satisfied: beautifulsoup4>=4.11.1 in c:\\users\\rakes\\anaconda3\\lib\\site-packages (from yfinance) (4.12.2)\n",
      "Requirement already satisfied: html5lib>=1.1 in c:\\users\\rakes\\anaconda3\\lib\\site-packages (from yfinance) (1.1)\n",
      "Requirement already satisfied: soupsieve>1.2 in c:\\users\\rakes\\anaconda3\\lib\\site-packages (from beautifulsoup4>=4.11.1->yfinance) (2.5)\n",
      "Requirement already satisfied: six>=1.9 in c:\\users\\rakes\\anaconda3\\lib\\site-packages (from html5lib>=1.1->yfinance) (1.16.0)\n",
      "Requirement already satisfied: webencodings in c:\\users\\rakes\\anaconda3\\lib\\site-packages (from html5lib>=1.1->yfinance) (0.5.1)\n",
      "Requirement already satisfied: python-dateutil>=2.8.2 in c:\\users\\rakes\\anaconda3\\lib\\site-packages (from pandas>=1.3.0->yfinance) (2.8.2)\n",
      "Requirement already satisfied: tzdata>=2022.1 in c:\\users\\rakes\\anaconda3\\lib\\site-packages (from pandas>=1.3.0->yfinance) (2023.3)\n",
      "Requirement already satisfied: charset-normalizer<4,>=2 in c:\\users\\rakes\\anaconda3\\lib\\site-packages (from requests>=2.31->yfinance) (2.0.4)\n",
      "Requirement already satisfied: idna<4,>=2.5 in c:\\users\\rakes\\anaconda3\\lib\\site-packages (from requests>=2.31->yfinance) (3.4)\n",
      "Requirement already satisfied: urllib3<3,>=1.21.1 in c:\\users\\rakes\\anaconda3\\lib\\site-packages (from requests>=2.31->yfinance) (2.0.7)\n",
      "Requirement already satisfied: certifi>=2017.4.17 in c:\\users\\rakes\\anaconda3\\lib\\site-packages (from requests>=2.31->yfinance) (2024.2.2)\n"
     ]
    }
   ],
   "source": [
    "!pip install yfinance"
   ]
  },
  {
   "cell_type": "code",
   "execution_count": 48,
   "metadata": {},
   "outputs": [],
   "source": [
    "import yfinance as yf\n",
    "import pandas as pd\n",
    "import numpy as np\n",
    "import warnings\n",
    "warnings.filterwarnings(\"ignore\")"
   ]
  },
  {
   "cell_type": "code",
   "execution_count": 49,
   "metadata": {},
   "outputs": [
    {
     "name": "stderr",
     "output_type": "stream",
     "text": [
      "[*********************100%%**********************]  1 of 1 completed\n"
     ]
    }
   ],
   "source": [
    "ticker=\"^NSEI\"\n",
    "data=yf.download(ticker,start=\"2018-01-01\",end=\"2024-01-01\")\n",
    "df=pd.DataFrame(data)"
   ]
  },
  {
   "cell_type": "code",
   "execution_count": 50,
   "metadata": {},
   "outputs": [
    {
     "data": {
      "text/html": [
       "<div>\n",
       "<style scoped>\n",
       "    .dataframe tbody tr th:only-of-type {\n",
       "        vertical-align: middle;\n",
       "    }\n",
       "\n",
       "    .dataframe tbody tr th {\n",
       "        vertical-align: top;\n",
       "    }\n",
       "\n",
       "    .dataframe thead th {\n",
       "        text-align: right;\n",
       "    }\n",
       "</style>\n",
       "<table border=\"1\" class=\"dataframe\">\n",
       "  <thead>\n",
       "    <tr style=\"text-align: right;\">\n",
       "      <th></th>\n",
       "      <th>Open</th>\n",
       "      <th>High</th>\n",
       "      <th>Low</th>\n",
       "      <th>Close</th>\n",
       "      <th>Adj Close</th>\n",
       "      <th>Volume</th>\n",
       "    </tr>\n",
       "    <tr>\n",
       "      <th>Date</th>\n",
       "      <th></th>\n",
       "      <th></th>\n",
       "      <th></th>\n",
       "      <th></th>\n",
       "      <th></th>\n",
       "      <th></th>\n",
       "    </tr>\n",
       "  </thead>\n",
       "  <tbody>\n",
       "    <tr>\n",
       "      <th>2018-01-02</th>\n",
       "      <td>10477.549805</td>\n",
       "      <td>10495.200195</td>\n",
       "      <td>10404.650391</td>\n",
       "      <td>10442.200195</td>\n",
       "      <td>10442.200195</td>\n",
       "      <td>153400</td>\n",
       "    </tr>\n",
       "    <tr>\n",
       "      <th>2018-01-03</th>\n",
       "      <td>10482.650391</td>\n",
       "      <td>10503.599609</td>\n",
       "      <td>10429.549805</td>\n",
       "      <td>10443.200195</td>\n",
       "      <td>10443.200195</td>\n",
       "      <td>167300</td>\n",
       "    </tr>\n",
       "    <tr>\n",
       "      <th>2018-01-04</th>\n",
       "      <td>10469.400391</td>\n",
       "      <td>10513.000000</td>\n",
       "      <td>10441.450195</td>\n",
       "      <td>10504.799805</td>\n",
       "      <td>10504.799805</td>\n",
       "      <td>174900</td>\n",
       "    </tr>\n",
       "    <tr>\n",
       "      <th>2018-01-05</th>\n",
       "      <td>10534.250000</td>\n",
       "      <td>10566.099609</td>\n",
       "      <td>10520.099609</td>\n",
       "      <td>10558.849609</td>\n",
       "      <td>10558.849609</td>\n",
       "      <td>180900</td>\n",
       "    </tr>\n",
       "    <tr>\n",
       "      <th>2018-01-08</th>\n",
       "      <td>10591.700195</td>\n",
       "      <td>10631.200195</td>\n",
       "      <td>10588.549805</td>\n",
       "      <td>10623.599609</td>\n",
       "      <td>10623.599609</td>\n",
       "      <td>169000</td>\n",
       "    </tr>\n",
       "    <tr>\n",
       "      <th>...</th>\n",
       "      <td>...</td>\n",
       "      <td>...</td>\n",
       "      <td>...</td>\n",
       "      <td>...</td>\n",
       "      <td>...</td>\n",
       "      <td>...</td>\n",
       "    </tr>\n",
       "    <tr>\n",
       "      <th>2023-12-22</th>\n",
       "      <td>21295.849609</td>\n",
       "      <td>21390.500000</td>\n",
       "      <td>21232.449219</td>\n",
       "      <td>21349.400391</td>\n",
       "      <td>21349.400391</td>\n",
       "      <td>284700</td>\n",
       "    </tr>\n",
       "    <tr>\n",
       "      <th>2023-12-26</th>\n",
       "      <td>21365.199219</td>\n",
       "      <td>21477.150391</td>\n",
       "      <td>21329.449219</td>\n",
       "      <td>21441.349609</td>\n",
       "      <td>21441.349609</td>\n",
       "      <td>219500</td>\n",
       "    </tr>\n",
       "    <tr>\n",
       "      <th>2023-12-27</th>\n",
       "      <td>21497.650391</td>\n",
       "      <td>21675.750000</td>\n",
       "      <td>21495.800781</td>\n",
       "      <td>21654.750000</td>\n",
       "      <td>21654.750000</td>\n",
       "      <td>256500</td>\n",
       "    </tr>\n",
       "    <tr>\n",
       "      <th>2023-12-28</th>\n",
       "      <td>21715.000000</td>\n",
       "      <td>21801.449219</td>\n",
       "      <td>21678.000000</td>\n",
       "      <td>21778.699219</td>\n",
       "      <td>21778.699219</td>\n",
       "      <td>393100</td>\n",
       "    </tr>\n",
       "    <tr>\n",
       "      <th>2023-12-29</th>\n",
       "      <td>21737.650391</td>\n",
       "      <td>21770.300781</td>\n",
       "      <td>21676.900391</td>\n",
       "      <td>21731.400391</td>\n",
       "      <td>21731.400391</td>\n",
       "      <td>270900</td>\n",
       "    </tr>\n",
       "  </tbody>\n",
       "</table>\n",
       "<p>1477 rows × 6 columns</p>\n",
       "</div>"
      ],
      "text/plain": [
       "                    Open          High           Low         Close  \\\n",
       "Date                                                                 \n",
       "2018-01-02  10477.549805  10495.200195  10404.650391  10442.200195   \n",
       "2018-01-03  10482.650391  10503.599609  10429.549805  10443.200195   \n",
       "2018-01-04  10469.400391  10513.000000  10441.450195  10504.799805   \n",
       "2018-01-05  10534.250000  10566.099609  10520.099609  10558.849609   \n",
       "2018-01-08  10591.700195  10631.200195  10588.549805  10623.599609   \n",
       "...                  ...           ...           ...           ...   \n",
       "2023-12-22  21295.849609  21390.500000  21232.449219  21349.400391   \n",
       "2023-12-26  21365.199219  21477.150391  21329.449219  21441.349609   \n",
       "2023-12-27  21497.650391  21675.750000  21495.800781  21654.750000   \n",
       "2023-12-28  21715.000000  21801.449219  21678.000000  21778.699219   \n",
       "2023-12-29  21737.650391  21770.300781  21676.900391  21731.400391   \n",
       "\n",
       "               Adj Close  Volume  \n",
       "Date                              \n",
       "2018-01-02  10442.200195  153400  \n",
       "2018-01-03  10443.200195  167300  \n",
       "2018-01-04  10504.799805  174900  \n",
       "2018-01-05  10558.849609  180900  \n",
       "2018-01-08  10623.599609  169000  \n",
       "...                  ...     ...  \n",
       "2023-12-22  21349.400391  284700  \n",
       "2023-12-26  21441.349609  219500  \n",
       "2023-12-27  21654.750000  256500  \n",
       "2023-12-28  21778.699219  393100  \n",
       "2023-12-29  21731.400391  270900  \n",
       "\n",
       "[1477 rows x 6 columns]"
      ]
     },
     "execution_count": 50,
     "metadata": {},
     "output_type": "execute_result"
    }
   ],
   "source": [
    "df"
   ]
  },
  {
   "cell_type": "markdown",
   "metadata": {},
   "source": [
    "a)"
   ]
  },
  {
   "cell_type": "code",
   "execution_count": 51,
   "metadata": {},
   "outputs": [],
   "source": [
    "def ema(data,column,time_period):\n",
    "    return data[column].ewm(span=time_period,adjust=False).mean()\n"
   ]
  },
  {
   "cell_type": "code",
   "execution_count": 52,
   "metadata": {},
   "outputs": [],
   "source": [
    "df[\"ema12\"]=ema(df,\"Close\",12)\n",
    "df[\"ema26\"]=ema(df,\"Close\",26)\n",
    "df[\"macd\"]=df[\"ema12\"]-df[\"ema26\"]\n",
    "df[\"signal\"]=ema(df,\"macd\",9)"
   ]
  },
  {
   "cell_type": "code",
   "execution_count": 53,
   "metadata": {},
   "outputs": [],
   "source": [
    "buy_index1=[]\n",
    "sell_index1=[]\n",
    "signal=[0]*(len(df)-1)\n",
    "for index in range(0,len(df)-1):\n",
    "    if((df[\"macd\"].iloc[index]<=df[\"signal\"].iloc[index]) and (df[\"macd\"].iloc[index+1]>df[\"signal\"].iloc[index+1])):\n",
    "        buy_index1.append(index)\n",
    "        signal[index]=1\n",
    "    elif((df[\"macd\"].iloc[index]>=df[\"signal\"].iloc[index]) and (df[\"macd\"].iloc[index+1]<df[\"signal\"].iloc[index+1])):\n",
    "        sell_index1.append(index)\n",
    "        signal[index]=-1"
   ]
  },
  {
   "cell_type": "code",
   "execution_count": 54,
   "metadata": {},
   "outputs": [],
   "source": [
    "sell_index1.append(1476)\n",
    "signal.append(-1)\n",
    "df[\"returns_percentage\"]=np.nan"
   ]
  },
  {
   "cell_type": "code",
   "execution_count": 55,
   "metadata": {},
   "outputs": [
    {
     "data": {
      "text/plain": [
       "[0,\n",
       " 38,\n",
       " 46,\n",
       " 58,\n",
       " 105,\n",
       " 127,\n",
       " 157,\n",
       " 201,\n",
       " 233,\n",
       " 254,\n",
       " 267,\n",
       " 282,\n",
       " 334,\n",
       " 365,\n",
       " 394,\n",
       " 418,\n",
       " 434,\n",
       " 462,\n",
       " 476,\n",
       " 494,\n",
       " 515,\n",
       " 520,\n",
       " 547,\n",
       " 582,\n",
       " 599,\n",
       " 608,\n",
       " 621,\n",
       " 647,\n",
       " 674,\n",
       " 697,\n",
       " 734,\n",
       " 758,\n",
       " 799,\n",
       " 812,\n",
       " 879,\n",
       " 915,\n",
       " 928,\n",
       " 966,\n",
       " 978,\n",
       " 1031,\n",
       " 1077,\n",
       " 1102,\n",
       " 1155,\n",
       " 1178,\n",
       " 1206,\n",
       " 1243,\n",
       " 1257,\n",
       " 1276,\n",
       " 1291,\n",
       " 1329,\n",
       " 1336,\n",
       " 1352,\n",
       " 1397,\n",
       " 1423,\n",
       " 1440]"
      ]
     },
     "execution_count": 55,
     "metadata": {},
     "output_type": "execute_result"
    }
   ],
   "source": [
    "buy_index1"
   ]
  },
  {
   "cell_type": "code",
   "execution_count": 56,
   "metadata": {},
   "outputs": [
    {
     "data": {
      "text/plain": [
       "[21,\n",
       " 40,\n",
       " 50,\n",
       " 89,\n",
       " 114,\n",
       " 153,\n",
       " 165,\n",
       " 229,\n",
       " 239,\n",
       " 260,\n",
       " 274,\n",
       " 308,\n",
       " 351,\n",
       " 368,\n",
       " 417,\n",
       " 428,\n",
       " 451,\n",
       " 463,\n",
       " 484,\n",
       " 499,\n",
       " 519,\n",
       " 522,\n",
       " 576,\n",
       " 596,\n",
       " 606,\n",
       " 616,\n",
       " 628,\n",
       " 650,\n",
       " 689,\n",
       " 727,\n",
       " 746,\n",
       " 769,\n",
       " 802,\n",
       " 847,\n",
       " 911,\n",
       " 917,\n",
       " 934,\n",
       " 973,\n",
       " 997,\n",
       " 1052,\n",
       " 1092,\n",
       " 1140,\n",
       " 1157,\n",
       " 1201,\n",
       " 1213,\n",
       " 1249,\n",
       " 1267,\n",
       " 1279,\n",
       " 1321,\n",
       " 1333,\n",
       " 1338,\n",
       " 1369,\n",
       " 1410,\n",
       " 1428,\n",
       " 1476]"
      ]
     },
     "execution_count": 56,
     "metadata": {},
     "output_type": "execute_result"
    }
   ],
   "source": [
    "sell_index1"
   ]
  },
  {
   "cell_type": "code",
   "execution_count": 57,
   "metadata": {},
   "outputs": [],
   "source": [
    "for i in range(len(buy_index1)):\n",
    "    df[\"returns_percentage\"].iloc[i]=(df[\"Close\"].iloc[sell_index1[i]]-df[\"Close\"].iloc[buy_index1[i]])/df[\"Close\"].iloc[buy_index1[i]]*100"
   ]
  },
  {
   "cell_type": "code",
   "execution_count": 58,
   "metadata": {},
   "outputs": [
    {
     "name": "stdout",
     "output_type": "stream",
     "text": [
      "Final Capital is: 48326056.6953125\n"
     ]
    }
   ],
   "source": [
    "mean1=df[\"returns_percentage\"].sum()/len(buy_index1)\n",
    "sum_of_squares1=0\n",
    "for i in range(len(buy_index1)):\n",
    "    sum_of_squares1=sum_of_squares1+df[\"returns_percentage\"].iloc[i]*df[\"returns_percentage\"].iloc[i]\n",
    "std1=np.sqrt(sum_of_squares1/len(buy_index1)-mean1*mean1)\n",
    "sharpe_ratio1=(np.sqrt(len(buy_index1))*mean1-10)/std1 #Risk Free Rate = 10%\n",
    "sharpe_ratio1\n",
    "initial_capital1=10000000\n",
    "df[\"capital\"]=np.nan\n",
    "def capital():\n",
    "    global initial_capital1\n",
    "    for i in range(len(buy_index1)):\n",
    "        no_of_shares=int(initial_capital1/df[\"Close\"].iloc[buy_index1[i]])\n",
    "        remaining_capital=initial_capital1-no_of_shares*df[\"Close\"].iloc[buy_index1[i]]\n",
    "        initial_capital1=no_of_shares*df[\"Close\"].iloc[sell_index1[i]]+remaining_capital\n",
    "        df[\"capital\"].iloc[i]=initial_capital1\n",
    "    return initial_capital1\n",
    "print(\"Final Capital is:\",capital())\n"
   ]
  },
  {
   "cell_type": "code",
   "execution_count": 59,
   "metadata": {},
   "outputs": [
    {
     "data": {
      "text/plain": [
       "2.950025464684698"
      ]
     },
     "execution_count": 59,
     "metadata": {},
     "output_type": "execute_result"
    }
   ],
   "source": [
    "sharpe_ratio1"
   ]
  },
  {
   "cell_type": "code",
   "execution_count": 60,
   "metadata": {},
   "outputs": [
    {
     "data": {
      "text/plain": [
       "Date\n",
       "2018-01-02     5.503631\n",
       "2018-01-03    -0.909110\n",
       "2018-01-04    -2.171013\n",
       "2018-01-05     6.804131\n",
       "2018-01-08     0.241466\n",
       "2018-01-09     5.412778\n",
       "2018-01-10     1.114550\n",
       "2018-01-11     6.617151\n",
       "2018-01-12    -0.347956\n",
       "2018-01-15    -0.507953\n",
       "2018-01-16    -0.571434\n",
       "2018-01-17     7.222825\n",
       "2018-01-18     4.374886\n",
       "2018-01-19    -0.832468\n",
       "2018-01-22    -0.779795\n",
       "2018-01-23     4.390089\n",
       "2018-01-24     4.245167\n",
       "2018-01-25     0.416920\n",
       "2018-01-29     0.746811\n",
       "2018-01-30    -0.851613\n",
       "2018-01-31    -0.512893\n",
       "2018-02-01     0.736707\n",
       "2018-02-02    10.333773\n",
       "2018-02-05     8.690288\n",
       "2018-02-06     2.187452\n",
       "2018-02-07     3.572853\n",
       "2018-02-08     1.638960\n",
       "2018-02-09     1.528467\n",
       "2018-02-12     4.496817\n",
       "2018-02-14    15.552335\n",
       "2018-02-15     3.230951\n",
       "2018-02-16     2.224483\n",
       "2018-02-19     1.030746\n",
       "2018-02-20     7.605925\n",
       "2018-02-21    10.701819\n",
       "2018-02-22     0.180388\n",
       "2018-02-23     1.034632\n",
       "2018-02-26    -2.773656\n",
       "2018-02-27     4.429905\n",
       "2018-02-28     5.410867\n",
       "2018-03-01    -0.395610\n",
       "2018-03-05    13.116545\n",
       "2018-03-06     0.375775\n",
       "2018-03-07     6.528400\n",
       "2018-03-08     0.702219\n",
       "2018-03-09    -0.893751\n",
       "2018-03-12     0.593625\n",
       "2018-03-13    -1.685626\n",
       "2018-03-14     7.874141\n",
       "2018-03-15    -0.062703\n",
       "2018-03-16     0.191144\n",
       "2018-03-19     3.690946\n",
       "2018-03-20     1.579851\n",
       "2018-03-21    -0.707928\n",
       "2018-03-22    11.949723\n",
       "2018-03-23          NaN\n",
       "Name: returns_percentage, dtype: float64"
      ]
     },
     "execution_count": 60,
     "metadata": {},
     "output_type": "execute_result"
    }
   ],
   "source": [
    "df[\"returns_percentage\"].head(56)"
   ]
  },
  {
   "cell_type": "markdown",
   "metadata": {},
   "source": [
    "MaxDrawDown"
   ]
  },
  {
   "cell_type": "code",
   "execution_count": 61,
   "metadata": {},
   "outputs": [
    {
     "name": "stdout",
     "output_type": "stream",
     "text": [
      "MaxDrawDown is: -15.544355917879102\n"
     ]
    }
   ],
   "source": [
    "df[\"drawdowns\"]=np.nan\n",
    "for i in range(0,len(buy_index1)-1):\n",
    "    df[\"drawdowns\"].iloc[i]=(-df[\"capital\"].iloc[i+1]+df[\"capital\"].iloc[i])/df[\"capital\"].iloc[i]*100\n",
    "print(\"MaxDrawDown is:\",df[\"drawdowns\"].min())\n",
    "\n"
   ]
  },
  {
   "cell_type": "markdown",
   "metadata": {},
   "source": [
    "b) Bollinger Bands Strategy"
   ]
  },
  {
   "cell_type": "code",
   "execution_count": 62,
   "metadata": {},
   "outputs": [],
   "source": [
    "df[\"sma_20\"]=df[\"Close\"].rolling(window=20).mean()\n",
    "df[\"upper_band\"]=df[\"Close\"].rolling(window=20).mean()+2*df[\"Close\"].rolling(window=20).std()\n",
    "df[\"lower_band\"]=df[\"Close\"].rolling(window=20).mean()-2*df[\"Close\"].rolling(window=20).std()\n",
    "buy_index2=[]\n",
    "sell_index2=[]\n",
    "signal2=[0]*len(df)"
   ]
  },
  {
   "cell_type": "code",
   "execution_count": 63,
   "metadata": {},
   "outputs": [],
   "source": [
    "\n",
    "def bb():\n",
    "    temp=0\n",
    "    for i in range(0,len(df)-1):\n",
    "        if(df[\"Close\"].iloc[i]>df[\"lower_band\"].iloc[i] and df[\"Close\"].iloc[i+1]<=df[\"lower_band\"].iloc[i+1] and temp==0):\n",
    "            buy_index2.append(i+1)\n",
    "            signal2[i+1]=1\n",
    "            temp=1\n",
    "        if(df[\"Close\"].iloc[i]<df[\"upper_band\"].iloc[i] and df[\"Close\"].iloc[i+1]>=df[\"upper_band\"].iloc[i+1] and temp==1):\n",
    "            sell_index2.append(i+1)\n",
    "            signal2[i+1]=-1\n",
    "            temp=0\n",
    "bb()"
   ]
  },
  {
   "cell_type": "code",
   "execution_count": 64,
   "metadata": {},
   "outputs": [
    {
     "data": {
      "text/plain": [
       "[42, 172, 326, 509, 667, 755, 954, 1021, 1165, 1224, 1431]"
      ]
     },
     "execution_count": 64,
     "metadata": {},
     "output_type": "execute_result"
    }
   ],
   "source": [
    "buy_index2"
   ]
  },
  {
   "cell_type": "code",
   "execution_count": 65,
   "metadata": {},
   "outputs": [
    {
     "data": {
      "text/plain": [
       "[129, 223, 419, 586, 698, 868, 985, 1112, 1188, 1298, 1458]"
      ]
     },
     "execution_count": 65,
     "metadata": {},
     "output_type": "execute_result"
    }
   ],
   "source": [
    "sell_index2"
   ]
  },
  {
   "cell_type": "code",
   "execution_count": 66,
   "metadata": {},
   "outputs": [],
   "source": [
    "df[\"returns_percentage2\"]=np.nan\n",
    "for i in range(len(buy_index2)):\n",
    "    df[\"returns_percentage2\"].iloc[i]=(df[\"Close\"].iloc[sell_index2[i]]-df[\"Close\"].iloc[buy_index2[i]])/df[\"Close\"].iloc[buy_index2[i]]*100\n"
   ]
  },
  {
   "cell_type": "code",
   "execution_count": 67,
   "metadata": {},
   "outputs": [
    {
     "data": {
      "text/plain": [
       "Date\n",
       "2018-01-02     6.810254\n",
       "2018-01-03    -3.798891\n",
       "2018-01-04    -1.945574\n",
       "2018-01-05   -16.072480\n",
       "2018-01-08     8.666664\n",
       "                ...    \n",
       "2023-12-22          NaN\n",
       "2023-12-26          NaN\n",
       "2023-12-27          NaN\n",
       "2023-12-28          NaN\n",
       "2023-12-29          NaN\n",
       "Name: returns_percentage2, Length: 1477, dtype: float64"
      ]
     },
     "execution_count": 67,
     "metadata": {},
     "output_type": "execute_result"
    }
   ],
   "source": [
    "df[\"returns_percentage2\"]"
   ]
  },
  {
   "cell_type": "code",
   "execution_count": 68,
   "metadata": {},
   "outputs": [
    {
     "name": "stdout",
     "output_type": "stream",
     "text": [
      "Final Capital is: 12110507.981445312\n"
     ]
    }
   ],
   "source": [
    "mean2=df[\"returns_percentage2\"].sum()/len(buy_index2)\n",
    "sum_of_squares2=0\n",
    "for i in range(len(buy_index2)):\n",
    "    sum_of_squares2=sum_of_squares2+df[\"returns_percentage2\"].iloc[i]*df[\"returns_percentage2\"].iloc[i]\n",
    "std2=np.sqrt(sum_of_squares2/len(buy_index2)-mean2*mean2)\n",
    "sharpe_ratio2=(np.sqrt(len(buy_index2))*mean2-10)/std2 #Risk Free Rate = 10%\n",
    "initial_capital2=10000000\n",
    "df[\"capital2\"]=np.nan\n",
    "def capital3():\n",
    "    global initial_capital2\n",
    "    for i in range(len(buy_index2)):\n",
    "        no_of_shares2=int(initial_capital2/df[\"Close\"].iloc[buy_index2[i]])\n",
    "        remaining_capital2=initial_capital2-no_of_shares2*df[\"Close\"].iloc[buy_index2[i]]\n",
    "        initial_capital2=no_of_shares2*df[\"Close\"].iloc[sell_index2[i]]+remaining_capital2\n",
    "        df[\"capital2\"].iloc[i]=initial_capital2\n",
    "    return initial_capital2\n",
    "print(\"Final Capital is:\",capital3())"
   ]
  },
  {
   "cell_type": "code",
   "execution_count": 69,
   "metadata": {},
   "outputs": [
    {
     "data": {
      "text/plain": [
       "-0.37469137849652395"
      ]
     },
     "execution_count": 69,
     "metadata": {},
     "output_type": "execute_result"
    }
   ],
   "source": [
    "sharpe_ratio2"
   ]
  },
  {
   "cell_type": "code",
   "execution_count": 70,
   "metadata": {},
   "outputs": [
    {
     "name": "stdout",
     "output_type": "stream",
     "text": [
      "MaxDrawDown is: -16.767960638466448\n"
     ]
    }
   ],
   "source": [
    "df[\"drawdowns2\"]=np.nan\n",
    "for i in range(0,len(buy_index2)-1):\n",
    "    df[\"drawdowns2\"].iloc[i]=(-df[\"capital2\"].iloc[i+1]+df[\"capital2\"].iloc[i])/df[\"capital2\"].iloc[i]*100\n",
    "print(\"MaxDrawDown is:\",df[\"drawdowns2\"].min())\n"
   ]
  },
  {
   "cell_type": "markdown",
   "metadata": {},
   "source": [
    "e)Heiken Aishi Candles"
   ]
  },
  {
   "cell_type": "code",
   "execution_count": 71,
   "metadata": {},
   "outputs": [],
   "source": [
    "df2=pd.DataFrame()\n",
    "df2[\"Close\"]=0.25*(df[\"Close\"]+df[\"Open\"]+df[\"High\"]+df[\"Low\"])\n",
    "df2[\"Open\"]=0\n",
    "df2[\"High\"]=0\n",
    "df2[\"Low\"]=0\n",
    "x=len(df)\n",
    "def max(a,b):\n",
    "    if(a>=b):\n",
    "        return a\n",
    "    else:\n",
    "        return b\n",
    "def min(a,b):\n",
    "    if(a<=b):\n",
    "        return a\n",
    "    else:\n",
    "        return b\n",
    "df2[\"Open\"].iloc[0]=df2[\"Close\"].iloc[0]\n",
    "for index in range(1,x):\n",
    "        df2[\"Open\"].iloc[index]=0.5*(df2[\"Close\"].iloc[index-1]+df2[\"Open\"].iloc[index-1])\n",
    "for index in range(0,x):   \n",
    "     df2[\"High\"].iloc[index]=max(max(df2[\"Close\"].iloc[index],df2[\"Open\"].iloc[index]),df[\"High\"].iloc[index])\n",
    "     df2[\"Low\"][index]=min(min(df2[\"Close\"].iloc[index],df2[\"Open\"].iloc[index]),df[\"Low\"].iloc[index])\n",
    "df2[\"Volume\"]=df[\"Volume\"]"
   ]
  },
  {
   "cell_type": "code",
   "execution_count": 72,
   "metadata": {},
   "outputs": [
    {
     "data": {
      "text/html": [
       "<div>\n",
       "<style scoped>\n",
       "    .dataframe tbody tr th:only-of-type {\n",
       "        vertical-align: middle;\n",
       "    }\n",
       "\n",
       "    .dataframe tbody tr th {\n",
       "        vertical-align: top;\n",
       "    }\n",
       "\n",
       "    .dataframe thead th {\n",
       "        text-align: right;\n",
       "    }\n",
       "</style>\n",
       "<table border=\"1\" class=\"dataframe\">\n",
       "  <thead>\n",
       "    <tr style=\"text-align: right;\">\n",
       "      <th></th>\n",
       "      <th>Open</th>\n",
       "      <th>High</th>\n",
       "      <th>Low</th>\n",
       "      <th>Close</th>\n",
       "      <th>Adj Close</th>\n",
       "      <th>Volume</th>\n",
       "      <th>ema12</th>\n",
       "      <th>ema26</th>\n",
       "      <th>macd</th>\n",
       "      <th>signal</th>\n",
       "      <th>returns_percentage</th>\n",
       "      <th>capital</th>\n",
       "      <th>drawdowns</th>\n",
       "      <th>sma_20</th>\n",
       "      <th>upper_band</th>\n",
       "      <th>lower_band</th>\n",
       "      <th>returns_percentage2</th>\n",
       "      <th>capital2</th>\n",
       "      <th>drawdowns2</th>\n",
       "    </tr>\n",
       "    <tr>\n",
       "      <th>Date</th>\n",
       "      <th></th>\n",
       "      <th></th>\n",
       "      <th></th>\n",
       "      <th></th>\n",
       "      <th></th>\n",
       "      <th></th>\n",
       "      <th></th>\n",
       "      <th></th>\n",
       "      <th></th>\n",
       "      <th></th>\n",
       "      <th></th>\n",
       "      <th></th>\n",
       "      <th></th>\n",
       "      <th></th>\n",
       "      <th></th>\n",
       "      <th></th>\n",
       "      <th></th>\n",
       "      <th></th>\n",
       "      <th></th>\n",
       "    </tr>\n",
       "  </thead>\n",
       "  <tbody>\n",
       "    <tr>\n",
       "      <th>2018-01-02</th>\n",
       "      <td>10477.549805</td>\n",
       "      <td>10495.200195</td>\n",
       "      <td>10404.650391</td>\n",
       "      <td>10442.200195</td>\n",
       "      <td>10442.200195</td>\n",
       "      <td>153400</td>\n",
       "      <td>10442.200195</td>\n",
       "      <td>10442.200195</td>\n",
       "      <td>0.000000</td>\n",
       "      <td>0.000000</td>\n",
       "      <td>5.503631</td>\n",
       "      <td>1.054999e+07</td>\n",
       "      <td>0.908572</td>\n",
       "      <td>NaN</td>\n",
       "      <td>NaN</td>\n",
       "      <td>NaN</td>\n",
       "      <td>6.810254</td>\n",
       "      <td>1.068055e+07</td>\n",
       "      <td>3.797975</td>\n",
       "    </tr>\n",
       "    <tr>\n",
       "      <th>2018-01-03</th>\n",
       "      <td>10482.650391</td>\n",
       "      <td>10503.599609</td>\n",
       "      <td>10429.549805</td>\n",
       "      <td>10443.200195</td>\n",
       "      <td>10443.200195</td>\n",
       "      <td>167300</td>\n",
       "      <td>10442.354041</td>\n",
       "      <td>10442.274269</td>\n",
       "      <td>0.079772</td>\n",
       "      <td>0.015954</td>\n",
       "      <td>-0.909110</td>\n",
       "      <td>1.045413e+07</td>\n",
       "      <td>2.170708</td>\n",
       "      <td>NaN</td>\n",
       "      <td>NaN</td>\n",
       "      <td>NaN</td>\n",
       "      <td>-3.798891</td>\n",
       "      <td>1.027491e+07</td>\n",
       "      <td>1.944196</td>\n",
       "    </tr>\n",
       "    <tr>\n",
       "      <th>2018-01-04</th>\n",
       "      <td>10469.400391</td>\n",
       "      <td>10513.000000</td>\n",
       "      <td>10441.450195</td>\n",
       "      <td>10504.799805</td>\n",
       "      <td>10504.799805</td>\n",
       "      <td>174900</td>\n",
       "      <td>10451.961082</td>\n",
       "      <td>10446.905791</td>\n",
       "      <td>5.055291</td>\n",
       "      <td>1.023822</td>\n",
       "      <td>-2.171013</td>\n",
       "      <td>1.022721e+07</td>\n",
       "      <td>-6.802631</td>\n",
       "      <td>NaN</td>\n",
       "      <td>NaN</td>\n",
       "      <td>NaN</td>\n",
       "      <td>-1.945574</td>\n",
       "      <td>1.007514e+07</td>\n",
       "      <td>16.062356</td>\n",
       "    </tr>\n",
       "    <tr>\n",
       "      <th>2018-01-05</th>\n",
       "      <td>10534.250000</td>\n",
       "      <td>10566.099609</td>\n",
       "      <td>10520.099609</td>\n",
       "      <td>10558.849609</td>\n",
       "      <td>10558.849609</td>\n",
       "      <td>180900</td>\n",
       "      <td>10468.405471</td>\n",
       "      <td>10455.197925</td>\n",
       "      <td>13.207546</td>\n",
       "      <td>3.460567</td>\n",
       "      <td>6.804131</td>\n",
       "      <td>1.092292e+07</td>\n",
       "      <td>-0.241395</td>\n",
       "      <td>NaN</td>\n",
       "      <td>NaN</td>\n",
       "      <td>NaN</td>\n",
       "      <td>-16.072480</td>\n",
       "      <td>8.456836e+06</td>\n",
       "      <td>-8.664236</td>\n",
       "    </tr>\n",
       "    <tr>\n",
       "      <th>2018-01-08</th>\n",
       "      <td>10591.700195</td>\n",
       "      <td>10631.200195</td>\n",
       "      <td>10588.549805</td>\n",
       "      <td>10623.599609</td>\n",
       "      <td>10623.599609</td>\n",
       "      <td>169000</td>\n",
       "      <td>10492.281492</td>\n",
       "      <td>10467.672124</td>\n",
       "      <td>24.609368</td>\n",
       "      <td>7.690327</td>\n",
       "      <td>0.241466</td>\n",
       "      <td>1.094929e+07</td>\n",
       "      <td>-5.410662</td>\n",
       "      <td>NaN</td>\n",
       "      <td>NaN</td>\n",
       "      <td>NaN</td>\n",
       "      <td>8.666664</td>\n",
       "      <td>9.189556e+06</td>\n",
       "      <td>-16.767961</td>\n",
       "    </tr>\n",
       "    <tr>\n",
       "      <th>...</th>\n",
       "      <td>...</td>\n",
       "      <td>...</td>\n",
       "      <td>...</td>\n",
       "      <td>...</td>\n",
       "      <td>...</td>\n",
       "      <td>...</td>\n",
       "      <td>...</td>\n",
       "      <td>...</td>\n",
       "      <td>...</td>\n",
       "      <td>...</td>\n",
       "      <td>...</td>\n",
       "      <td>...</td>\n",
       "      <td>...</td>\n",
       "      <td>...</td>\n",
       "      <td>...</td>\n",
       "      <td>...</td>\n",
       "      <td>...</td>\n",
       "      <td>...</td>\n",
       "      <td>...</td>\n",
       "    </tr>\n",
       "    <tr>\n",
       "      <th>2023-12-22</th>\n",
       "      <td>21295.849609</td>\n",
       "      <td>21390.500000</td>\n",
       "      <td>21232.449219</td>\n",
       "      <td>21349.400391</td>\n",
       "      <td>21349.400391</td>\n",
       "      <td>284700</td>\n",
       "      <td>21109.357460</td>\n",
       "      <td>20702.507591</td>\n",
       "      <td>406.849869</td>\n",
       "      <td>400.391457</td>\n",
       "      <td>NaN</td>\n",
       "      <td>NaN</td>\n",
       "      <td>NaN</td>\n",
       "      <td>20831.387500</td>\n",
       "      <td>21877.731494</td>\n",
       "      <td>19785.043506</td>\n",
       "      <td>NaN</td>\n",
       "      <td>NaN</td>\n",
       "      <td>NaN</td>\n",
       "    </tr>\n",
       "    <tr>\n",
       "      <th>2023-12-26</th>\n",
       "      <td>21365.199219</td>\n",
       "      <td>21477.150391</td>\n",
       "      <td>21329.449219</td>\n",
       "      <td>21441.349609</td>\n",
       "      <td>21441.349609</td>\n",
       "      <td>219500</td>\n",
       "      <td>21160.433176</td>\n",
       "      <td>20757.236629</td>\n",
       "      <td>403.196546</td>\n",
       "      <td>400.952475</td>\n",
       "      <td>NaN</td>\n",
       "      <td>NaN</td>\n",
       "      <td>NaN</td>\n",
       "      <td>20913.720020</td>\n",
       "      <td>21872.033026</td>\n",
       "      <td>19955.407013</td>\n",
       "      <td>NaN</td>\n",
       "      <td>NaN</td>\n",
       "      <td>NaN</td>\n",
       "    </tr>\n",
       "    <tr>\n",
       "      <th>2023-12-27</th>\n",
       "      <td>21497.650391</td>\n",
       "      <td>21675.750000</td>\n",
       "      <td>21495.800781</td>\n",
       "      <td>21654.750000</td>\n",
       "      <td>21654.750000</td>\n",
       "      <td>256500</td>\n",
       "      <td>21236.481918</td>\n",
       "      <td>20823.719101</td>\n",
       "      <td>412.762817</td>\n",
       "      <td>403.314543</td>\n",
       "      <td>NaN</td>\n",
       "      <td>NaN</td>\n",
       "      <td>NaN</td>\n",
       "      <td>21001.972559</td>\n",
       "      <td>21885.382787</td>\n",
       "      <td>20118.562330</td>\n",
       "      <td>NaN</td>\n",
       "      <td>NaN</td>\n",
       "      <td>NaN</td>\n",
       "    </tr>\n",
       "    <tr>\n",
       "      <th>2023-12-28</th>\n",
       "      <td>21715.000000</td>\n",
       "      <td>21801.449219</td>\n",
       "      <td>21678.000000</td>\n",
       "      <td>21778.699219</td>\n",
       "      <td>21778.699219</td>\n",
       "      <td>393100</td>\n",
       "      <td>21319.899964</td>\n",
       "      <td>20894.458369</td>\n",
       "      <td>425.441595</td>\n",
       "      <td>407.739954</td>\n",
       "      <td>NaN</td>\n",
       "      <td>NaN</td>\n",
       "      <td>NaN</td>\n",
       "      <td>21086.077539</td>\n",
       "      <td>21925.763687</td>\n",
       "      <td>20246.391391</td>\n",
       "      <td>NaN</td>\n",
       "      <td>NaN</td>\n",
       "      <td>NaN</td>\n",
       "    </tr>\n",
       "    <tr>\n",
       "      <th>2023-12-29</th>\n",
       "      <td>21737.650391</td>\n",
       "      <td>21770.300781</td>\n",
       "      <td>21676.900391</td>\n",
       "      <td>21731.400391</td>\n",
       "      <td>21731.400391</td>\n",
       "      <td>270900</td>\n",
       "      <td>21383.207722</td>\n",
       "      <td>20956.454074</td>\n",
       "      <td>426.753648</td>\n",
       "      <td>411.542692</td>\n",
       "      <td>NaN</td>\n",
       "      <td>NaN</td>\n",
       "      <td>NaN</td>\n",
       "      <td>21165.990039</td>\n",
       "      <td>21924.068942</td>\n",
       "      <td>20407.911137</td>\n",
       "      <td>NaN</td>\n",
       "      <td>NaN</td>\n",
       "      <td>NaN</td>\n",
       "    </tr>\n",
       "  </tbody>\n",
       "</table>\n",
       "<p>1477 rows × 19 columns</p>\n",
       "</div>"
      ],
      "text/plain": [
       "                    Open          High           Low         Close  \\\n",
       "Date                                                                 \n",
       "2018-01-02  10477.549805  10495.200195  10404.650391  10442.200195   \n",
       "2018-01-03  10482.650391  10503.599609  10429.549805  10443.200195   \n",
       "2018-01-04  10469.400391  10513.000000  10441.450195  10504.799805   \n",
       "2018-01-05  10534.250000  10566.099609  10520.099609  10558.849609   \n",
       "2018-01-08  10591.700195  10631.200195  10588.549805  10623.599609   \n",
       "...                  ...           ...           ...           ...   \n",
       "2023-12-22  21295.849609  21390.500000  21232.449219  21349.400391   \n",
       "2023-12-26  21365.199219  21477.150391  21329.449219  21441.349609   \n",
       "2023-12-27  21497.650391  21675.750000  21495.800781  21654.750000   \n",
       "2023-12-28  21715.000000  21801.449219  21678.000000  21778.699219   \n",
       "2023-12-29  21737.650391  21770.300781  21676.900391  21731.400391   \n",
       "\n",
       "               Adj Close  Volume         ema12         ema26        macd  \\\n",
       "Date                                                                       \n",
       "2018-01-02  10442.200195  153400  10442.200195  10442.200195    0.000000   \n",
       "2018-01-03  10443.200195  167300  10442.354041  10442.274269    0.079772   \n",
       "2018-01-04  10504.799805  174900  10451.961082  10446.905791    5.055291   \n",
       "2018-01-05  10558.849609  180900  10468.405471  10455.197925   13.207546   \n",
       "2018-01-08  10623.599609  169000  10492.281492  10467.672124   24.609368   \n",
       "...                  ...     ...           ...           ...         ...   \n",
       "2023-12-22  21349.400391  284700  21109.357460  20702.507591  406.849869   \n",
       "2023-12-26  21441.349609  219500  21160.433176  20757.236629  403.196546   \n",
       "2023-12-27  21654.750000  256500  21236.481918  20823.719101  412.762817   \n",
       "2023-12-28  21778.699219  393100  21319.899964  20894.458369  425.441595   \n",
       "2023-12-29  21731.400391  270900  21383.207722  20956.454074  426.753648   \n",
       "\n",
       "                signal  returns_percentage       capital  drawdowns  \\\n",
       "Date                                                                  \n",
       "2018-01-02    0.000000            5.503631  1.054999e+07   0.908572   \n",
       "2018-01-03    0.015954           -0.909110  1.045413e+07   2.170708   \n",
       "2018-01-04    1.023822           -2.171013  1.022721e+07  -6.802631   \n",
       "2018-01-05    3.460567            6.804131  1.092292e+07  -0.241395   \n",
       "2018-01-08    7.690327            0.241466  1.094929e+07  -5.410662   \n",
       "...                ...                 ...           ...        ...   \n",
       "2023-12-22  400.391457                 NaN           NaN        NaN   \n",
       "2023-12-26  400.952475                 NaN           NaN        NaN   \n",
       "2023-12-27  403.314543                 NaN           NaN        NaN   \n",
       "2023-12-28  407.739954                 NaN           NaN        NaN   \n",
       "2023-12-29  411.542692                 NaN           NaN        NaN   \n",
       "\n",
       "                  sma_20    upper_band    lower_band  returns_percentage2  \\\n",
       "Date                                                                        \n",
       "2018-01-02           NaN           NaN           NaN             6.810254   \n",
       "2018-01-03           NaN           NaN           NaN            -3.798891   \n",
       "2018-01-04           NaN           NaN           NaN            -1.945574   \n",
       "2018-01-05           NaN           NaN           NaN           -16.072480   \n",
       "2018-01-08           NaN           NaN           NaN             8.666664   \n",
       "...                  ...           ...           ...                  ...   \n",
       "2023-12-22  20831.387500  21877.731494  19785.043506                  NaN   \n",
       "2023-12-26  20913.720020  21872.033026  19955.407013                  NaN   \n",
       "2023-12-27  21001.972559  21885.382787  20118.562330                  NaN   \n",
       "2023-12-28  21086.077539  21925.763687  20246.391391                  NaN   \n",
       "2023-12-29  21165.990039  21924.068942  20407.911137                  NaN   \n",
       "\n",
       "                capital2  drawdowns2  \n",
       "Date                                  \n",
       "2018-01-02  1.068055e+07    3.797975  \n",
       "2018-01-03  1.027491e+07    1.944196  \n",
       "2018-01-04  1.007514e+07   16.062356  \n",
       "2018-01-05  8.456836e+06   -8.664236  \n",
       "2018-01-08  9.189556e+06  -16.767961  \n",
       "...                  ...         ...  \n",
       "2023-12-22           NaN         NaN  \n",
       "2023-12-26           NaN         NaN  \n",
       "2023-12-27           NaN         NaN  \n",
       "2023-12-28           NaN         NaN  \n",
       "2023-12-29           NaN         NaN  \n",
       "\n",
       "[1477 rows x 19 columns]"
      ]
     },
     "execution_count": 72,
     "metadata": {},
     "output_type": "execute_result"
    }
   ],
   "source": [
    "df"
   ]
  },
  {
   "cell_type": "code",
   "execution_count": 73,
   "metadata": {},
   "outputs": [],
   "source": [
    "df2[\"ema12\"]=ema(df2,\"Close\",12)\n",
    "df2[\"ema26\"]=ema(df2,\"Close\",26)\n",
    "df2[\"macd\"]=df2[\"ema12\"]-df2[\"ema26\"]\n",
    "df2[\"signal\"]=ema(df2,\"macd\",9)"
   ]
  },
  {
   "cell_type": "code",
   "execution_count": 74,
   "metadata": {},
   "outputs": [],
   "source": [
    "buy_index3=[]\n",
    "sell_index3=[]\n",
    "signal3=[0]*(len(df2)-1)\n",
    "for index in range(0,len(df2)-1):\n",
    "    if((df2[\"macd\"].iloc[index]<=df2[\"signal\"].iloc[index]) and (df2[\"macd\"].iloc[index+1]>df2[\"signal\"].iloc[index+1])):\n",
    "        buy_index3.append(index)\n",
    "        signal3[index]=1\n",
    "    elif((df2[\"macd\"].iloc[index]>=df2[\"signal\"].iloc[index]) and (df2[\"macd\"].iloc[index+1]<df2[\"signal\"].iloc[index+1])):\n",
    "        sell_index3.append(index)\n",
    "        signal3[index]=-1"
   ]
  },
  {
   "cell_type": "code",
   "execution_count": 75,
   "metadata": {},
   "outputs": [],
   "source": [
    "sell_index3.append(1476)\n",
    "signal2.append(-1)\n",
    "df2[\"returns_percentage\"]=np.nan\n",
    "for i in range(len(buy_index3)):\n",
    "    df2[\"returns_percentage\"].iloc[i]=(df2[\"Close\"].iloc[sell_index3[i]]-df2[\"Close\"].iloc[buy_index3[i]])/df2[\"Close\"].iloc[buy_index3[i]]*100"
   ]
  },
  {
   "cell_type": "code",
   "execution_count": 76,
   "metadata": {},
   "outputs": [
    {
     "name": "stdout",
     "output_type": "stream",
     "text": [
      "Final Capital is: 45792550.00512695\n"
     ]
    }
   ],
   "source": [
    "mean3=df2[\"returns_percentage\"].sum()/len(buy_index3)   #HEIKEN AISHI METHOD FOR MACD\n",
    "sum_of_squares3=0\n",
    "for i in range(len(buy_index3)):\n",
    "    sum_of_squares3=sum_of_squares3+df2[\"returns_percentage\"].iloc[i]*df2[\"returns_percentage\"].iloc[i]\n",
    "std3=np.sqrt(sum_of_squares3/len(buy_index3)-mean3*mean3)\n",
    "sharpe_ratio3=(np.sqrt(len(buy_index3))*mean3-10)/std3 #Risk Free Rate = 10%\n",
    "initial_capital3=10000000\n",
    "df2[\"capital\"]=np.nan\n",
    "def capital2():\n",
    "    global initial_capital3\n",
    "    for i in range(len(buy_index3)):\n",
    "        no_of_shares3=int(initial_capital3/df2[\"Close\"].iloc[buy_index3[i]])\n",
    "        remaining_capital3=initial_capital3-no_of_shares3*df2[\"Close\"].iloc[buy_index3[i]]\n",
    "        initial_capital3=no_of_shares3*df2[\"Close\"].iloc[sell_index3[i]]+remaining_capital3\n",
    "        df2[\"capital\"].iloc[i]=initial_capital3\n",
    "    return initial_capital3\n",
    "print(\"Final Capital is:\",capital2())\n"
   ]
  },
  {
   "cell_type": "code",
   "execution_count": 77,
   "metadata": {},
   "outputs": [
    {
     "data": {
      "text/plain": [
       "3.087828268582717"
      ]
     },
     "execution_count": 77,
     "metadata": {},
     "output_type": "execute_result"
    }
   ],
   "source": [
    "sharpe_ratio3"
   ]
  },
  {
   "cell_type": "code",
   "execution_count": 78,
   "metadata": {},
   "outputs": [
    {
     "name": "stdout",
     "output_type": "stream",
     "text": [
      "MaxDrawDown is: -13.676128985267649\n"
     ]
    }
   ],
   "source": [
    "df2[\"drawdowns\"]=np.nan\n",
    "for i in range(0,len(buy_index3)-1):\n",
    "    df2[\"drawdowns\"].iloc[i]=(-df2[\"capital\"].iloc[i+1]+df2[\"capital\"].iloc[i])/df2[\"capital\"].iloc[i]*100\n",
    "print(\"MaxDrawDown is:\",df2[\"drawdowns\"].min())\n"
   ]
  },
  {
   "cell_type": "code",
   "execution_count": 79,
   "metadata": {},
   "outputs": [],
   "source": [
    "#HEIKEN AISHI METHOD FOR BB\n",
    "df2[\"sma_20\"]=df2[\"Close\"].rolling(window=20).mean()\n",
    "df2[\"upper_band\"]=df2[\"Close\"].rolling(window=20).mean()+2*df2[\"Close\"].rolling(window=20).std()\n",
    "df2[\"lower_band\"]=df2[\"Close\"].rolling(window=20).mean()-2*df2[\"Close\"].rolling(window=20).std()\n",
    "buy_index4=[]\n",
    "sell_index4=[]\n",
    "signal4=[0]*len(df)\n",
    "\n",
    "def bb2():\n",
    "    temp2=0\n",
    "    for i in range(0,len(df2)-1):\n",
    "        if(df2[\"Close\"].iloc[i]>df2[\"lower_band\"].iloc[i] and df2[\"Close\"].iloc[i+1]<=df2[\"lower_band\"].iloc[i+1] and temp2==0):\n",
    "            buy_index4.append(i+1)\n",
    "            signal4[i+1]=1\n",
    "            temp2=1\n",
    "        if(df[\"Close\"].iloc[i]<df[\"upper_band\"].iloc[i] and df[\"Close\"].iloc[i+1]>=df[\"upper_band\"].iloc[i+1] and temp2==1):\n",
    "            sell_index4.append(i+1)\n",
    "            signal4[i+1]=-1\n",
    "            temp2=0\n",
    "bb2()"
   ]
  },
  {
   "cell_type": "code",
   "execution_count": 80,
   "metadata": {},
   "outputs": [
    {
     "data": {
      "text/plain": [
       "[24, 178, 264, 327, 509, 667, 754, 954, 1021, 1165, 1225, 1432]"
      ]
     },
     "execution_count": 80,
     "metadata": {},
     "output_type": "execute_result"
    }
   ],
   "source": [
    "buy_index4"
   ]
  },
  {
   "cell_type": "code",
   "execution_count": 81,
   "metadata": {},
   "outputs": [
    {
     "data": {
      "text/plain": [
       "[129, 223, 270, 419, 586, 698, 868, 985, 1112, 1188, 1298, 1458]"
      ]
     },
     "execution_count": 81,
     "metadata": {},
     "output_type": "execute_result"
    }
   ],
   "source": [
    "sell_index4"
   ]
  },
  {
   "cell_type": "code",
   "execution_count": 82,
   "metadata": {},
   "outputs": [],
   "source": [
    "df2[\"returns_percentage2\"]=np.nan\n",
    "for i in range(len(buy_index4)):\n",
    "    df2[\"returns_percentage2\"].iloc[i]=(df2[\"Close\"].iloc[sell_index4[i]]-df2[\"Close\"].iloc[buy_index4[i]])/df2[\"Close\"].iloc[buy_index4[i]]*100"
   ]
  },
  {
   "cell_type": "code",
   "execution_count": 83,
   "metadata": {},
   "outputs": [
    {
     "data": {
      "text/plain": [
       "Date\n",
       "2018-01-02     4.847608\n",
       "2018-01-03    -2.901452\n",
       "2018-01-04     3.482745\n",
       "2018-01-05    -3.438798\n",
       "2018-01-08   -16.077513\n",
       "                ...    \n",
       "2023-12-22          NaN\n",
       "2023-12-26          NaN\n",
       "2023-12-27          NaN\n",
       "2023-12-28          NaN\n",
       "2023-12-29          NaN\n",
       "Name: returns_percentage2, Length: 1477, dtype: float64"
      ]
     },
     "execution_count": 83,
     "metadata": {},
     "output_type": "execute_result"
    }
   ],
   "source": [
    "df2[\"returns_percentage2\"]"
   ]
  },
  {
   "cell_type": "code",
   "execution_count": 84,
   "metadata": {},
   "outputs": [
    {
     "name": "stdout",
     "output_type": "stream",
     "text": [
      "Final Capital is: 11598622.497558594\n"
     ]
    }
   ],
   "source": [
    "mean4=df2[\"returns_percentage2\"].sum()/len(buy_index4)\n",
    "sum_of_squares4=0\n",
    "for i in range(len(buy_index4)):\n",
    "    sum_of_squares4=sum_of_squares4+df2[\"returns_percentage2\"].iloc[i]*df2[\"returns_percentage2\"].iloc[i]\n",
    "std4=np.sqrt(sum_of_squares4/len(buy_index4)-mean4*mean4)\n",
    "sharpe_ratio4=(np.sqrt(len(buy_index4))*mean4-10)/std4 #Risk Free Rate = 10%\n",
    "initial_capital4=10000000\n",
    "df2[\"capital2\"]=np.nan\n",
    "def capital4():\n",
    "    global initial_capital4\n",
    "    for i in range(len(buy_index4)):\n",
    "        no_of_shares4=int(initial_capital4/df2[\"Close\"].iloc[buy_index4[i]])\n",
    "        remaining_capital4=initial_capital4-no_of_shares4*df2[\"Close\"].iloc[buy_index4[i]]\n",
    "        initial_capital4=no_of_shares4*df2[\"Close\"].iloc[sell_index4[i]]+remaining_capital4\n",
    "        df2[\"capital2\"].iloc[i]=initial_capital4\n",
    "    return initial_capital4\n",
    "print(\"Final Capital is:\",capital4())"
   ]
  },
  {
   "cell_type": "code",
   "execution_count": 85,
   "metadata": {},
   "outputs": [
    {
     "data": {
      "text/plain": [
       "-0.6318094227354509"
      ]
     },
     "execution_count": 85,
     "metadata": {},
     "output_type": "execute_result"
    }
   ],
   "source": [
    "sharpe_ratio4"
   ]
  },
  {
   "cell_type": "code",
   "execution_count": 86,
   "metadata": {},
   "outputs": [
    {
     "name": "stdout",
     "output_type": "stream",
     "text": [
      "MaxDrawDown is: -15.130819745564942\n"
     ]
    }
   ],
   "source": [
    "df2[\"drawdowns2\"]=np.nan\n",
    "for i in range(0,len(buy_index4)-1):\n",
    "    df2[\"drawdowns2\"].iloc[i]=(-df2[\"capital2\"].iloc[i+1]+df2[\"capital2\"].iloc[i])/df2[\"capital2\"].iloc[i]*100\n",
    "print(\"MaxDrawDown is:\",df2[\"drawdowns2\"].min())"
   ]
  },
  {
   "cell_type": "markdown",
   "metadata": {},
   "source": [
    "If we Compare the Parameters we get More Profit in Denoised Data than Actual Data for BB and for MACD we get Actual Data gives More Profit than Denoised Data"
   ]
  },
  {
   "cell_type": "markdown",
   "metadata": {},
   "source": [
    "c)"
   ]
  },
  {
   "cell_type": "code",
   "execution_count": 87,
   "metadata": {},
   "outputs": [],
   "source": [
    "buy_index5=[]   #STOP LOSS STRATEGY FOR MACD\n",
    "for i in range(len(buy_index1)):\n",
    "    buy_index5.append(buy_index1[i])\n",
    "sell_index5=[]\n",
    "def strategy(stop_loss):\n",
    "    k=0\n",
    "    for i in range(len(df)):\n",
    "        if(signal[i]==1):\n",
    "            for j in range(i+1,len(df)):\n",
    "                if((df[\"Close\"].iloc[j]<=(1-stop_loss/100)*df[\"Close\"].iloc[k]) or (signal[j]==-1) and k<=len(buy_index1)):\n",
    "                    sell_index5.append(j)\n",
    "                    k=k+1\n",
    "                    break\n",
    "\n",
    "strategy(5)\n",
    "    "
   ]
  },
  {
   "cell_type": "code",
   "execution_count": 88,
   "metadata": {},
   "outputs": [
    {
     "data": {
      "text/plain": [
       "[0,\n",
       " 38,\n",
       " 46,\n",
       " 58,\n",
       " 105,\n",
       " 127,\n",
       " 157,\n",
       " 201,\n",
       " 233,\n",
       " 254,\n",
       " 267,\n",
       " 282,\n",
       " 334,\n",
       " 365,\n",
       " 394,\n",
       " 418,\n",
       " 434,\n",
       " 462,\n",
       " 476,\n",
       " 494,\n",
       " 515,\n",
       " 520,\n",
       " 547,\n",
       " 582,\n",
       " 599,\n",
       " 608,\n",
       " 621,\n",
       " 647,\n",
       " 674,\n",
       " 697,\n",
       " 734,\n",
       " 758,\n",
       " 799,\n",
       " 812,\n",
       " 879,\n",
       " 915,\n",
       " 928,\n",
       " 966,\n",
       " 978,\n",
       " 1031,\n",
       " 1077,\n",
       " 1102,\n",
       " 1155,\n",
       " 1178,\n",
       " 1206,\n",
       " 1243,\n",
       " 1257,\n",
       " 1276,\n",
       " 1291,\n",
       " 1329,\n",
       " 1336,\n",
       " 1352,\n",
       " 1397,\n",
       " 1423,\n",
       " 1440]"
      ]
     },
     "execution_count": 88,
     "metadata": {},
     "output_type": "execute_result"
    }
   ],
   "source": [
    "buy_index5"
   ]
  },
  {
   "cell_type": "code",
   "execution_count": 89,
   "metadata": {},
   "outputs": [
    {
     "data": {
      "text/plain": [
       "[21,\n",
       " 40,\n",
       " 50,\n",
       " 89,\n",
       " 114,\n",
       " 153,\n",
       " 165,\n",
       " 229,\n",
       " 239,\n",
       " 260,\n",
       " 274,\n",
       " 308,\n",
       " 351,\n",
       " 368,\n",
       " 417,\n",
       " 428,\n",
       " 451,\n",
       " 463,\n",
       " 484,\n",
       " 499,\n",
       " 519,\n",
       " 522,\n",
       " 548,\n",
       " 583,\n",
       " 606,\n",
       " 616,\n",
       " 628,\n",
       " 650,\n",
       " 689,\n",
       " 727,\n",
       " 746,\n",
       " 769,\n",
       " 802,\n",
       " 847,\n",
       " 911,\n",
       " 917,\n",
       " 934,\n",
       " 973,\n",
       " 997,\n",
       " 1052,\n",
       " 1092,\n",
       " 1140,\n",
       " 1157,\n",
       " 1201,\n",
       " 1213,\n",
       " 1249,\n",
       " 1267,\n",
       " 1279,\n",
       " 1321,\n",
       " 1333,\n",
       " 1338,\n",
       " 1369,\n",
       " 1410,\n",
       " 1428,\n",
       " 1476]"
      ]
     },
     "execution_count": 89,
     "metadata": {},
     "output_type": "execute_result"
    }
   ],
   "source": [
    "sell_index5"
   ]
  },
  {
   "cell_type": "code",
   "execution_count": 90,
   "metadata": {},
   "outputs": [],
   "source": [
    "buy_index6=[] #STOP LOSS STRATEGY FOR BB\n",
    "for i in range(len(buy_index2)):\n",
    "    buy_index6.append(buy_index2[i])\n",
    "sell_index6=[]\n",
    "def strategy2(stop_loss):\n",
    "    y=0\n",
    "    for i in range(len(df)):\n",
    "        if(signal2[i]==1):\n",
    "            for j in range(i+1,len(df)):\n",
    "                if((df[\"Close\"].iloc[j]<=(1-stop_loss/100)*df[\"Close\"].iloc[y]) or (signal[j]==-1) and y<=len(buy_index2)):\n",
    "                    sell_index6.append(j)\n",
    "                    y=y+1\n",
    "                    break\n",
    "\n",
    "strategy2(5)"
   ]
  },
  {
   "cell_type": "code",
   "execution_count": 91,
   "metadata": {},
   "outputs": [
    {
     "data": {
      "text/plain": [
       "[42, 172, 326, 509, 667, 755, 954, 1021, 1165, 1224, 1431]"
      ]
     },
     "execution_count": 91,
     "metadata": {},
     "output_type": "execute_result"
    }
   ],
   "source": [
    "buy_index6"
   ]
  },
  {
   "cell_type": "code",
   "execution_count": 92,
   "metadata": {},
   "outputs": [
    {
     "data": {
      "text/plain": [
       "[50, 229, 351, 519, 689, 769, 973, 1052, 1201, 1249, 1476]"
      ]
     },
     "execution_count": 92,
     "metadata": {},
     "output_type": "execute_result"
    }
   ],
   "source": [
    "sell_index6"
   ]
  },
  {
   "cell_type": "markdown",
   "metadata": {},
   "source": [
    "Since we got the indices of buy and sell after considering stop loss we can find the required parameters similar to previous parts"
   ]
  },
  {
   "cell_type": "markdown",
   "metadata": {},
   "source": [
    "d)Trailing StopLoss"
   ]
  },
  {
   "cell_type": "code",
   "execution_count": null,
   "metadata": {},
   "outputs": [],
   "source": []
  }
 ],
 "metadata": {
  "kernelspec": {
   "display_name": "base",
   "language": "python",
   "name": "python3"
  },
  "language_info": {
   "codemirror_mode": {
    "name": "ipython",
    "version": 3
   },
   "file_extension": ".py",
   "mimetype": "text/x-python",
   "name": "python",
   "nbconvert_exporter": "python",
   "pygments_lexer": "ipython3",
   "version": "3.11.7"
  }
 },
 "nbformat": 4,
 "nbformat_minor": 2
}
