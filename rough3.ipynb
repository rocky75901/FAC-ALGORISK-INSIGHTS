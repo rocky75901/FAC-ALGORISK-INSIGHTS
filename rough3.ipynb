{
 "cells": [
  {
   "cell_type": "code",
   "execution_count": 11,
   "metadata": {},
   "outputs": [
    {
     "name": "stdout",
     "output_type": "stream",
     "text": [
      "Historical VaR: 0.026477852407056076\n",
      "Historical CVaR: 0.03381860161336751\n"
     ]
    }
   ],
   "source": [
    "import numpy as np\n",
    "import pandas as pd\n",
    "\n",
    "def historical_var(returns, confidence_level=0.95):\n",
    "    \"\"\"\n",
    "    Calculate historical VaR.\n",
    "    \n",
    "    returns: DataFrame or Series of historical returns.\n",
    "    confidence_level: VaR confidence level (default is 0.95).\n",
    "    \"\"\"\n",
    "    sorted_returns = np.sort(returns)\n",
    "    index = int((1 - confidence_level) * len(sorted_returns))\n",
    "    var = -sorted_returns[index]\n",
    "    return var\n",
    "\n",
    "def historical_cvar(returns, confidence_level=0.95):\n",
    "    \"\"\"\n",
    "    Calculate historical CVaR.\n",
    "    \n",
    "    returns: DataFrame or Series of historical returns.\n",
    "    confidence_level: CVaR confidence level (default is 0.95).\n",
    "    \"\"\"\n",
    "    var = historical_var(returns, confidence_level)\n",
    "    cvar = -returns[returns <= -var].mean()\n",
    "    return cvar\n",
    "\n",
    "# Example usage\n",
    "returns = pd.DataFrame({\n",
    "    'Asset1': np.random.normal(0.001, 0.02, 1000),\n",
    "    'Asset2': np.random.normal(0.001, 0.03, 1000)\n",
    "})\n",
    "portfolio_returns = returns.mean(axis=1)\n",
    "historical_var_value = historical_var(portfolio_returns)\n",
    "historical_cvar_value = historical_cvar(portfolio_returns)\n",
    "\n",
    "print(\"Historical VaR:\", historical_var_value)\n",
    "print(\"Historical CVaR:\", historical_cvar_value)\n"
   ]
  },
  {
   "cell_type": "code",
   "execution_count": 12,
   "metadata": {},
   "outputs": [
    {
     "name": "stdout",
     "output_type": "stream",
     "text": [
      "Parametric VaR: 0.028108195968458986\n",
      "Parametric CVaR: -0.038903257508698\n"
     ]
    }
   ],
   "source": [
    "import scipy.stats as stats\n",
    "\n",
    "def parametric_var(returns, confidence_level=0.95):\n",
    "    \"\"\"\n",
    "    confidence_level: VaR confidence level (default is 0.95).\n",
    "    \"\"\"\n",
    "    mean = np.mean(returns)\n",
    "    std_dev = np.std(returns)\n",
    "    var = - (mean + std_dev * stats.norm.ppf(1 - confidence_level))\n",
    "    return var\n",
    "\n",
    "def parametric_cvar(returns, confidence_level=0.95):\n",
    "    mean = np.mean(returns)\n",
    "    std_dev = np.std(returns)\n",
    "    var = parametric_var(returns, confidence_level)\n",
    "    cvar = - (mean + std_dev * (stats.norm.pdf(stats.norm.ppf(1 - confidence_level)) / (1 - confidence_level)))\n",
    "    return cvar\n",
    "\n",
    "# Example usage\n",
    "parametric_var_value = parametric_var(portfolio_returns)\n",
    "parametric_cvar_value = parametric_cvar(portfolio_returns)\n",
    "\n",
    "print(\"Parametric VaR:\", parametric_var_value)\n",
    "print(\"Parametric CVaR:\", parametric_cvar_value)\n"
   ]
  }
 ],
 "metadata": {
  "kernelspec": {
   "display_name": "Python 3",
   "language": "python",
   "name": "python3"
  },
  "language_info": {
   "codemirror_mode": {
    "name": "ipython",
    "version": 3
   },
   "file_extension": ".py",
   "mimetype": "text/x-python",
   "name": "python",
   "nbconvert_exporter": "python",
   "pygments_lexer": "ipython3",
   "version": "3.11.7"
  }
 },
 "nbformat": 4,
 "nbformat_minor": 2
}
