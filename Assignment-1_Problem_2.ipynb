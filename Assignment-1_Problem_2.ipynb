{
 "cells": [
  {
   "cell_type": "code",
   "execution_count": 1,
   "id": "3b76e32d",
   "metadata": {},
   "outputs": [],
   "source": [
    "import numpy as np\n",
    "import pandas as pd\n",
    "import yfinance as yf\n",
    "import matplotlib.pyplot as plt\n",
    "pd.options.mode.chained_assignment = None"
   ]
  },
  {
   "cell_type": "code",
   "execution_count": 2,
   "id": "2d8793de",
   "metadata": {},
   "outputs": [],
   "source": [
    "def CorrCoeff(df1, df2):\n",
    "    \n",
    "    df1[\"Returns\"] = df1[\"Close\"].pct_change()\n",
    "    df2[\"Returns\"] = df2[\"Close\"].pct_change()\n",
    "    \n",
    "    # covariance = (df1[\"Returns\"] * df2[\"Returns\"]).mean() - df1[\"Returns\"].mean() * df2[\"Returns\"].mean()\n",
    "    \n",
    "    covariance = ((df1[\"Returns\"]-df1[\"Returns\"].mean())*(df2[\"Returns\"]-df2[\"Returns\"].mean())).mean()\n",
    "    \n",
    "    #Both the above definitions of covariance are equivalent\n",
    "    \n",
    "    return covariance/(df1[\"Returns\"].std() * df2[\"Returns\"].std())"
   ]
  },
  {
   "cell_type": "code",
   "execution_count": 3,
   "id": "c4d632fe",
   "metadata": {},
   "outputs": [
    {
     "name": "stdout",
     "output_type": "stream",
     "text": [
      "Correlation coefficient: 0.7338014477092555\n",
      "Using Library directly: 0.736846266994356\n"
     ]
    }
   ],
   "source": [
    "data1 = yf.download(\"BAJFINANCE.NS\", start = \"2023-04-01\", end = \"2024-03-31\", progress = False)\n",
    "data2 = yf.download(\"BAJAJFINSV.NS\", start = \"2023-04-01\", end = \"2024-03-31\", progress = False)\n",
    "\n",
    "print(\"Correlation coefficient: {}\".format(CorrCoeff(data1, data2)))\n",
    "\n",
    "corr_coeff = data1[\"Returns\"].corr(data2[\"Returns\"])\n",
    "print(\"Using Library directly: {}\".format(corr_coeff))"
   ]
  }
 ],
 "metadata": {
  "kernelspec": {
   "display_name": "Python 3 (ipykernel)",
   "language": "python",
   "name": "python3"
  },
  "language_info": {
   "codemirror_mode": {
    "name": "ipython",
    "version": 3
   },
   "file_extension": ".py",
   "mimetype": "text/x-python",
   "name": "python",
   "nbconvert_exporter": "python",
   "pygments_lexer": "ipython3",
   "version": "3.11.5"
  }
 },
 "nbformat": 4,
 "nbformat_minor": 5
}
